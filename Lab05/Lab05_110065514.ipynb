{
 "cells": [
  {
   "cell_type": "markdown",
   "metadata": {},
   "source": [
    "# Assignment - 110065514\n",
    "In this assignment, we would like to predict the success of shots made by basketball players in the NBA.\n",
    "\n",
    "Please download dataset first. You might need to try with various models to achieve better performance.\n",
    "\n",
    "1. The y_test is hidden this time\n",
    "2. You can use any model you have learned before to achieve the best accuracy\n",
    "3. Then, you need to select the best 3 features, and show the accuracy with only those\n",
    "\n",
    "## Hint\n",
    "1. You can preprocess the data to help your training\n",
    "2. Since you don't have y_test this time, you may need to split a validation set for checking your performance\n",
    "3. It is possible to use regression model as a classifier, for example RidgeClassifier"
   ]
  },
  {
   "cell_type": "markdown",
   "metadata": {},
   "source": [
    "## Read this note carefull\n",
    "* Submit to iLMS with your code file Lab05_{student_id}.ipynb (e.g. Lab05_109069999.ipynb) and prediction file y_pred.csv. The notebook should contain\n",
    "\n",
    "1. How you evaluate your model.\n",
    "2. All models you have tried and the corresponding results.\n",
    "    * Logistic regression\n",
    "    * Lasso\n",
    "    * Ridge Classifier\n",
    "    * Decision Tree\n",
    "    * Random Forest\n",
    "3. Plot the error curve of your best model and tell if it is over-fit or not.\n",
    "4. The top-3 features you find and how you find it .\n",
    "    * Selected feature: ['TOUCH_TIME', 'SHOT_DIST', 'CLOSE_DEF_DIST']\n",
    "5. A brief report what you do in this assignment.\n",
    "* Deadline: 2021-10-14(Thur) 23:59.\n",
    "\n",
    "## Reference\n",
    "* Stanford CS229 Machine Learning\n",
    "* NBA shot logs"
   ]
  },
  {
   "cell_type": "code",
   "execution_count": 1,
   "metadata": {},
   "outputs": [],
   "source": [
    "import pandas as pd\n",
    "import numpy as np\n",
    "import matplotlib.pyplot as plt\n",
    "import seaborn as sns # seaborn 0.9.0\n",
    "from sklearn.metrics import accuracy_score\n",
    "from sklearn.preprocessing import StandardScaler # scikit-learn 0.21.3\n",
    "\n",
    "X = pd.read_csv('./data/X_train.csv')\n",
    "y = pd.read_csv('./data/y_train.csv')\n",
    "\n",
    "X_test = pd.read_csv('./data/X_test.csv')"
   ]
  },
  {
   "cell_type": "code",
   "execution_count": 2,
   "metadata": {
    "scrolled": true
   },
   "outputs": [
    {
     "name": "stdout",
     "output_type": "stream",
     "text": [
      "(85751, 8)\n",
      "Index(['PERIOD', 'GAME_CLOCK', 'SHOT_CLOCK', 'DRIBBLES', 'TOUCH_TIME',\n",
      "       'SHOT_DIST', 'PTS_TYPE', 'CLOSE_DEF_DIST'],\n",
      "      dtype='object')\n",
      "Index(['FGM'], dtype='object')\n",
      "(36751, 8)\n"
     ]
    }
   ],
   "source": [
    "print(X.shape)\n",
    "print(X.columns)\n",
    "print(y.columns)\n",
    "print(X_test.shape)"
   ]
  },
  {
   "cell_type": "code",
   "execution_count": 3,
   "metadata": {},
   "outputs": [
    {
     "data": {
      "text/html": [
       "<div>\n",
       "<style scoped>\n",
       "    .dataframe tbody tr th:only-of-type {\n",
       "        vertical-align: middle;\n",
       "    }\n",
       "\n",
       "    .dataframe tbody tr th {\n",
       "        vertical-align: top;\n",
       "    }\n",
       "\n",
       "    .dataframe thead th {\n",
       "        text-align: right;\n",
       "    }\n",
       "</style>\n",
       "<table border=\"1\" class=\"dataframe\">\n",
       "  <thead>\n",
       "    <tr style=\"text-align: right;\">\n",
       "      <th></th>\n",
       "      <th>PERIOD</th>\n",
       "      <th>GAME_CLOCK</th>\n",
       "      <th>SHOT_CLOCK</th>\n",
       "      <th>DRIBBLES</th>\n",
       "      <th>TOUCH_TIME</th>\n",
       "      <th>SHOT_DIST</th>\n",
       "      <th>PTS_TYPE</th>\n",
       "      <th>CLOSE_DEF_DIST</th>\n",
       "    </tr>\n",
       "  </thead>\n",
       "  <tbody>\n",
       "    <tr>\n",
       "      <th>0</th>\n",
       "      <td>1</td>\n",
       "      <td>358</td>\n",
       "      <td>2.4</td>\n",
       "      <td>0</td>\n",
       "      <td>3.2</td>\n",
       "      <td>20.6</td>\n",
       "      <td>2</td>\n",
       "      <td>4.5</td>\n",
       "    </tr>\n",
       "    <tr>\n",
       "      <th>1</th>\n",
       "      <td>1</td>\n",
       "      <td>585</td>\n",
       "      <td>8.3</td>\n",
       "      <td>0</td>\n",
       "      <td>1.2</td>\n",
       "      <td>3.0</td>\n",
       "      <td>2</td>\n",
       "      <td>0.5</td>\n",
       "    </tr>\n",
       "    <tr>\n",
       "      <th>2</th>\n",
       "      <td>1</td>\n",
       "      <td>540</td>\n",
       "      <td>19.9</td>\n",
       "      <td>0</td>\n",
       "      <td>0.6</td>\n",
       "      <td>3.5</td>\n",
       "      <td>2</td>\n",
       "      <td>3.2</td>\n",
       "    </tr>\n",
       "    <tr>\n",
       "      <th>3</th>\n",
       "      <td>1</td>\n",
       "      <td>392</td>\n",
       "      <td>9.0</td>\n",
       "      <td>0</td>\n",
       "      <td>0.9</td>\n",
       "      <td>21.1</td>\n",
       "      <td>2</td>\n",
       "      <td>4.9</td>\n",
       "    </tr>\n",
       "    <tr>\n",
       "      <th>4</th>\n",
       "      <td>3</td>\n",
       "      <td>401</td>\n",
       "      <td>22.7</td>\n",
       "      <td>0</td>\n",
       "      <td>0.7</td>\n",
       "      <td>4.1</td>\n",
       "      <td>2</td>\n",
       "      <td>2.9</td>\n",
       "    </tr>\n",
       "  </tbody>\n",
       "</table>\n",
       "</div>"
      ],
      "text/plain": [
       "   PERIOD  GAME_CLOCK  SHOT_CLOCK  DRIBBLES  TOUCH_TIME  SHOT_DIST  PTS_TYPE  \\\n",
       "0       1         358         2.4         0         3.2       20.6         2   \n",
       "1       1         585         8.3         0         1.2        3.0         2   \n",
       "2       1         540        19.9         0         0.6        3.5         2   \n",
       "3       1         392         9.0         0         0.9       21.1         2   \n",
       "4       3         401        22.7         0         0.7        4.1         2   \n",
       "\n",
       "   CLOSE_DEF_DIST  \n",
       "0             4.5  \n",
       "1             0.5  \n",
       "2             3.2  \n",
       "3             4.9  \n",
       "4             2.9  "
      ]
     },
     "execution_count": 3,
     "metadata": {},
     "output_type": "execute_result"
    }
   ],
   "source": [
    "X.head()"
   ]
  },
  {
   "cell_type": "code",
   "execution_count": 4,
   "metadata": {},
   "outputs": [
    {
     "data": {
      "text/plain": [
       "PERIOD            False\n",
       "GAME_CLOCK        False\n",
       "SHOT_CLOCK        False\n",
       "DRIBBLES          False\n",
       "TOUCH_TIME        False\n",
       "SHOT_DIST         False\n",
       "PTS_TYPE          False\n",
       "CLOSE_DEF_DIST    False\n",
       "dtype: bool"
      ]
     },
     "execution_count": 4,
     "metadata": {},
     "output_type": "execute_result"
    }
   ],
   "source": [
    "X.isnull().any()"
   ]
  },
  {
   "cell_type": "code",
   "execution_count": 5,
   "metadata": {},
   "outputs": [
    {
     "data": {
      "text/html": [
       "<div>\n",
       "<style scoped>\n",
       "    .dataframe tbody tr th:only-of-type {\n",
       "        vertical-align: middle;\n",
       "    }\n",
       "\n",
       "    .dataframe tbody tr th {\n",
       "        vertical-align: top;\n",
       "    }\n",
       "\n",
       "    .dataframe thead th {\n",
       "        text-align: right;\n",
       "    }\n",
       "</style>\n",
       "<table border=\"1\" class=\"dataframe\">\n",
       "  <thead>\n",
       "    <tr style=\"text-align: right;\">\n",
       "      <th></th>\n",
       "      <th>PERIOD</th>\n",
       "      <th>GAME_CLOCK</th>\n",
       "      <th>SHOT_CLOCK</th>\n",
       "      <th>DRIBBLES</th>\n",
       "      <th>TOUCH_TIME</th>\n",
       "      <th>SHOT_DIST</th>\n",
       "      <th>PTS_TYPE</th>\n",
       "      <th>CLOSE_DEF_DIST</th>\n",
       "    </tr>\n",
       "  </thead>\n",
       "  <tbody>\n",
       "    <tr>\n",
       "      <th>count</th>\n",
       "      <td>85751.000000</td>\n",
       "      <td>85751.000000</td>\n",
       "      <td>85751.000000</td>\n",
       "      <td>85751.000000</td>\n",
       "      <td>85751.000000</td>\n",
       "      <td>85751.000000</td>\n",
       "      <td>85751.000000</td>\n",
       "      <td>85751.000000</td>\n",
       "    </tr>\n",
       "    <tr>\n",
       "      <th>mean</th>\n",
       "      <td>2.472356</td>\n",
       "      <td>361.604833</td>\n",
       "      <td>12.453901</td>\n",
       "      <td>1.988140</td>\n",
       "      <td>2.746336</td>\n",
       "      <td>13.427561</td>\n",
       "      <td>2.258014</td>\n",
       "      <td>4.116967</td>\n",
       "    </tr>\n",
       "    <tr>\n",
       "      <th>std</th>\n",
       "      <td>1.137027</td>\n",
       "      <td>202.139084</td>\n",
       "      <td>5.750502</td>\n",
       "      <td>3.416354</td>\n",
       "      <td>2.965391</td>\n",
       "      <td>8.773229</td>\n",
       "      <td>0.437545</td>\n",
       "      <td>2.744520</td>\n",
       "    </tr>\n",
       "    <tr>\n",
       "      <th>min</th>\n",
       "      <td>1.000000</td>\n",
       "      <td>1.000000</td>\n",
       "      <td>0.000000</td>\n",
       "      <td>0.000000</td>\n",
       "      <td>-100.500000</td>\n",
       "      <td>0.000000</td>\n",
       "      <td>2.000000</td>\n",
       "      <td>0.000000</td>\n",
       "    </tr>\n",
       "    <tr>\n",
       "      <th>25%</th>\n",
       "      <td>1.000000</td>\n",
       "      <td>188.000000</td>\n",
       "      <td>8.200000</td>\n",
       "      <td>0.000000</td>\n",
       "      <td>0.900000</td>\n",
       "      <td>4.700000</td>\n",
       "      <td>2.000000</td>\n",
       "      <td>2.300000</td>\n",
       "    </tr>\n",
       "    <tr>\n",
       "      <th>50%</th>\n",
       "      <td>2.000000</td>\n",
       "      <td>363.000000</td>\n",
       "      <td>12.300000</td>\n",
       "      <td>1.000000</td>\n",
       "      <td>1.600000</td>\n",
       "      <td>13.300000</td>\n",
       "      <td>2.000000</td>\n",
       "      <td>3.700000</td>\n",
       "    </tr>\n",
       "    <tr>\n",
       "      <th>75%</th>\n",
       "      <td>3.000000</td>\n",
       "      <td>537.000000</td>\n",
       "      <td>16.600000</td>\n",
       "      <td>2.000000</td>\n",
       "      <td>3.700000</td>\n",
       "      <td>22.400000</td>\n",
       "      <td>3.000000</td>\n",
       "      <td>5.300000</td>\n",
       "    </tr>\n",
       "    <tr>\n",
       "      <th>max</th>\n",
       "      <td>7.000000</td>\n",
       "      <td>720.000000</td>\n",
       "      <td>24.000000</td>\n",
       "      <td>32.000000</td>\n",
       "      <td>24.900000</td>\n",
       "      <td>43.500000</td>\n",
       "      <td>3.000000</td>\n",
       "      <td>53.200000</td>\n",
       "    </tr>\n",
       "  </tbody>\n",
       "</table>\n",
       "</div>"
      ],
      "text/plain": [
       "             PERIOD    GAME_CLOCK    SHOT_CLOCK      DRIBBLES    TOUCH_TIME  \\\n",
       "count  85751.000000  85751.000000  85751.000000  85751.000000  85751.000000   \n",
       "mean       2.472356    361.604833     12.453901      1.988140      2.746336   \n",
       "std        1.137027    202.139084      5.750502      3.416354      2.965391   \n",
       "min        1.000000      1.000000      0.000000      0.000000   -100.500000   \n",
       "25%        1.000000    188.000000      8.200000      0.000000      0.900000   \n",
       "50%        2.000000    363.000000     12.300000      1.000000      1.600000   \n",
       "75%        3.000000    537.000000     16.600000      2.000000      3.700000   \n",
       "max        7.000000    720.000000     24.000000     32.000000     24.900000   \n",
       "\n",
       "          SHOT_DIST      PTS_TYPE  CLOSE_DEF_DIST  \n",
       "count  85751.000000  85751.000000    85751.000000  \n",
       "mean      13.427561      2.258014        4.116967  \n",
       "std        8.773229      0.437545        2.744520  \n",
       "min        0.000000      2.000000        0.000000  \n",
       "25%        4.700000      2.000000        2.300000  \n",
       "50%       13.300000      2.000000        3.700000  \n",
       "75%       22.400000      3.000000        5.300000  \n",
       "max       43.500000      3.000000       53.200000  "
      ]
     },
     "execution_count": 5,
     "metadata": {},
     "output_type": "execute_result"
    }
   ],
   "source": [
    "X.describe()"
   ]
  },
  {
   "cell_type": "code",
   "execution_count": 6,
   "metadata": {},
   "outputs": [
    {
     "data": {
      "text/html": [
       "<div>\n",
       "<style scoped>\n",
       "    .dataframe tbody tr th:only-of-type {\n",
       "        vertical-align: middle;\n",
       "    }\n",
       "\n",
       "    .dataframe tbody tr th {\n",
       "        vertical-align: top;\n",
       "    }\n",
       "\n",
       "    .dataframe thead th {\n",
       "        text-align: right;\n",
       "    }\n",
       "</style>\n",
       "<table border=\"1\" class=\"dataframe\">\n",
       "  <thead>\n",
       "    <tr style=\"text-align: right;\">\n",
       "      <th></th>\n",
       "      <th>FGM</th>\n",
       "    </tr>\n",
       "  </thead>\n",
       "  <tbody>\n",
       "    <tr>\n",
       "      <th>0</th>\n",
       "      <td>0</td>\n",
       "    </tr>\n",
       "    <tr>\n",
       "      <th>1</th>\n",
       "      <td>1</td>\n",
       "    </tr>\n",
       "    <tr>\n",
       "      <th>2</th>\n",
       "      <td>1</td>\n",
       "    </tr>\n",
       "    <tr>\n",
       "      <th>3</th>\n",
       "      <td>1</td>\n",
       "    </tr>\n",
       "    <tr>\n",
       "      <th>4</th>\n",
       "      <td>1</td>\n",
       "    </tr>\n",
       "  </tbody>\n",
       "</table>\n",
       "</div>"
      ],
      "text/plain": [
       "   FGM\n",
       "0    0\n",
       "1    1\n",
       "2    1\n",
       "3    1\n",
       "4    1"
      ]
     },
     "execution_count": 6,
     "metadata": {},
     "output_type": "execute_result"
    }
   ],
   "source": [
    "y.head()"
   ]
  },
  {
   "cell_type": "code",
   "execution_count": 3,
   "metadata": {},
   "outputs": [],
   "source": [
    "# Normalize data\n",
    "sc = StandardScaler()\n",
    "X_std = sc.fit_transform(X)\n",
    "X_test_std = sc.fit_transform(X_test)"
   ]
  },
  {
   "cell_type": "markdown",
   "metadata": {},
   "source": [
    "# Exploratory Data Analysis\n",
    "\n",
    "Using **heat map** to see relationship between different features.\n",
    "\n",
    "Remember to z-normalize each feature."
   ]
  },
  {
   "cell_type": "code",
   "execution_count": 4,
   "metadata": {},
   "outputs": [
    {
     "data": {
      "image/png": "[encoded data removed]",
      "text/plain": [
       "<Figure size 432x288 with 2 Axes>"
      ]
     },
     "metadata": {},
     "output_type": "display_data"
    },
    {
     "data": {
      "text/plain": [
       "<Figure size 720x576 with 0 Axes>"
      ]
     },
     "metadata": {},
     "output_type": "display_data"
    }
   ],
   "source": [
    "# Z-normalize data\n",
    "sc = StandardScaler()\n",
    "Z = sc.fit_transform(X)\n",
    "# Estimate the correlation matrix\n",
    "R = np.dot(Z.T, Z) / X.shape[0]\n",
    "\n",
    "sns.set(font_scale=1.0)\n",
    "\n",
    "ticklabels = [s for s in X.columns]\n",
    "\n",
    "hm = sns.heatmap(\n",
    "    R,\n",
    "    cbar = True,\n",
    "    square = True,\n",
    "    yticklabels = ticklabels,\n",
    "    xticklabels = ticklabels\n",
    ")\n",
    "\n",
    "plt.figure(figsize=(10, 8))\n",
    "plt.tight_layout()\n",
    "plt.show()\n",
    "\n",
    "sns.reset_orig()"
   ]
  },
  {
   "cell_type": "markdown",
   "metadata": {},
   "source": [
    "# Logistic Regression\n",
    "## Exlpore with degree\n",
    "The best degree is 2. Accuracy of validation is **0.613970.**\n",
    "When the degree is about 4 or 5, the model is overfitting. Because the accuracy of validation is decreasing."
   ]
  },
  {
   "cell_type": "code",
   "execution_count": 6,
   "metadata": {},
   "outputs": [
    {
     "name": "stdout",
     "output_type": "stream",
     "text": [
      "----Logistic regression----\n",
      "\n",
      "[Degree = 1]\n",
      "Accuracy train: 0.608247, valid: 0.609384\n",
      "\n",
      "[Degree = 2]\n",
      "Accuracy train: 0.616360, valid: 0.613970\n",
      "\n",
      "[Degree = 3]\n",
      "Accuracy train: 0.619425, valid: 0.613504\n"
     ]
    },
    {
     "name": "stderr",
     "output_type": "stream",
     "text": [
      "C:\\Users\\ginag\\anaconda3\\lib\\site-packages\\sklearn\\linear_model\\_logistic.py:762: ConvergenceWarning: lbfgs failed to converge (status=1):\n",
      "STOP: TOTAL NO. of ITERATIONS REACHED LIMIT.\n",
      "\n",
      "Increase the number of iterations (max_iter) or scale the data as shown in:\n",
      "    https://scikit-learn.org/stable/modules/preprocessing.html\n",
      "Please also refer to the documentation for alternative solver options:\n",
      "    https://scikit-learn.org/stable/modules/linear_model.html#logistic-regression\n",
      "  n_iter_i = _check_optimize_result(\n"
     ]
    },
    {
     "name": "stdout",
     "output_type": "stream",
     "text": [
      "\n",
      "[Degree = 4]\n",
      "Accuracy train: 0.621991, valid: 0.611249\n"
     ]
    },
    {
     "name": "stderr",
     "output_type": "stream",
     "text": [
      "C:\\Users\\ginag\\anaconda3\\lib\\site-packages\\sklearn\\linear_model\\_logistic.py:762: ConvergenceWarning: lbfgs failed to converge (status=1):\n",
      "STOP: TOTAL NO. of ITERATIONS REACHED LIMIT.\n",
      "\n",
      "Increase the number of iterations (max_iter) or scale the data as shown in:\n",
      "    https://scikit-learn.org/stable/modules/preprocessing.html\n",
      "Please also refer to the documentation for alternative solver options:\n",
      "    https://scikit-learn.org/stable/modules/linear_model.html#logistic-regression\n",
      "  n_iter_i = _check_optimize_result(\n"
     ]
    },
    {
     "name": "stdout",
     "output_type": "stream",
     "text": [
      "\n",
      "[Degree = 5]\n",
      "Accuracy train: 0.623174, valid: 0.609850\n"
     ]
    },
    {
     "name": "stderr",
     "output_type": "stream",
     "text": [
      "C:\\Users\\ginag\\anaconda3\\lib\\site-packages\\sklearn\\linear_model\\_logistic.py:762: ConvergenceWarning: lbfgs failed to converge (status=2):\n",
      "ABNORMAL_TERMINATION_IN_LNSRCH.\n",
      "\n",
      "Increase the number of iterations (max_iter) or scale the data as shown in:\n",
      "    https://scikit-learn.org/stable/modules/preprocessing.html\n",
      "Please also refer to the documentation for alternative solver options:\n",
      "    https://scikit-learn.org/stable/modules/linear_model.html#logistic-regression\n",
      "  n_iter_i = _check_optimize_result(\n"
     ]
    },
    {
     "name": "stdout",
     "output_type": "stream",
     "text": [
      "\n",
      "[Degree = 6]\n",
      "Accuracy train: 0.598717, valid: 0.591386\n"
     ]
    },
    {
     "data": {
      "image/png": "[encoded data removed]",
      "text/plain": [
       "<Figure size 432x288 with 1 Axes>"
      ]
     },
     "metadata": {
      "needs_background": "light"
     },
     "output_type": "display_data"
    }
   ],
   "source": [
    "from sklearn.linear_model import LogisticRegression\n",
    "from sklearn.preprocessing import PolynomialFeatures\n",
    "from sklearn.model_selection import train_test_split\n",
    "from sklearn.metrics import classification_report, confusion_matrix\n",
    "\n",
    "X_train, X_valid, y_train, y_valid = train_test_split(X_std, y['FGM'],\n",
    "                                                      test_size=0.3, random_state=0)\n",
    "acc_train = []\n",
    "acc_valid = []\n",
    "\n",
    "max_degree = 7\n",
    "\n",
    "print('----Logistic regression----')\n",
    "\n",
    "for d in range(1, max_degree):\n",
    "    poly = PolynomialFeatures(degree=d)\n",
    "    X_train_poly = poly.fit_transform(X_train)\n",
    "    X_valid_poly = poly.transform(X_valid)\n",
    "    \n",
    "    logistic_regr = LogisticRegression(max_iter=1000)\n",
    "    logistic_regr = logistic_regr.fit(X_train_poly, y_train)\n",
    "    y_train_pred = logistic_regr.predict(X_train_poly)\n",
    "    y_valid_pred = logistic_regr.predict(X_valid_poly)\n",
    "    \n",
    "    \n",
    "    acc_train.append(accuracy_score(y_train, y_train_pred))\n",
    "    acc_valid.append(accuracy_score(y_valid, y_valid_pred))\n",
    "    print('\\n[Degree = %d]' % d)\n",
    "    print('Accuracy train: %.6f, valid: %.6f' % (\n",
    "                accuracy_score(y_train, y_train_pred),\n",
    "                accuracy_score(y_valid, y_valid_pred))) \n",
    "\n",
    "plt.plot(range(1, max_degree), acc_train, label = 'Training', color = 'blue', linewidth = 2)\n",
    "plt.plot(range(1, max_degree), acc_valid, label = 'Validation', color = 'red', linewidth = 2)\n",
    "plt.legend(loc='upper right')\n",
    "plt.xlabel('Model complexity (polynomial degree)')\n",
    "plt.ylabel('$Accuracy$')\n",
    "plt.tight_layout()\n",
    "plt.show()"
   ]
  },
  {
   "cell_type": "code",
   "execution_count": 8,
   "metadata": {},
   "outputs": [
    {
     "data": {
      "image/png": "[encoded data removed]",
      "text/plain": [
       "<Figure size 432x288 with 1 Axes>"
      ]
     },
     "metadata": {
      "needs_background": "light"
     },
     "output_type": "display_data"
    }
   ],
   "source": [
    "# Error rate\n",
    "err_train = [ 1 - rate for rate in acc_train]\n",
    "err_valid = [ 1 - rate for rate in acc_valid]\n",
    "\n",
    "plt.plot(range(1, max_degree), err_train, label = 'Training error', color = 'blue', linewidth = 2)\n",
    "plt.plot(range(1, max_degree), err_valid, label = 'Validation error', color = 'red', linewidth = 2)\n",
    "plt.legend(loc='upper right')\n",
    "plt.xlabel('Model complexity (polynomial degree)')\n",
    "plt.ylabel('$Error rate$')\n",
    "plt.tight_layout()\n",
    "plt.show()"
   ]
  },
  {
   "cell_type": "markdown",
   "metadata": {},
   "source": [
    "## Logistic Regression try with another solver\n",
    "\n",
    "Change the default sovler form lbfgs to sag.\n",
    "But found out that it does not work better."
   ]
  },
  {
   "cell_type": "code",
   "execution_count": 10,
   "metadata": {},
   "outputs": [
    {
     "name": "stdout",
     "output_type": "stream",
     "text": [
      "----Logistic regression----\n",
      "\n",
      "[Degree = 3]\n",
      "Accuracy train: 0.599883, valid: 0.598344\n"
     ]
    },
    {
     "name": "stderr",
     "output_type": "stream",
     "text": [
      "C:\\Users\\ginag\\anaconda3\\lib\\site-packages\\sklearn\\linear_model\\_sag.py:329: ConvergenceWarning: The max_iter was reached which means the coef_ did not converge\n",
      "  warnings.warn(\"The max_iter was reached which means \"\n"
     ]
    }
   ],
   "source": [
    "X_train, X_valid, y_train, y_valid = train_test_split(X_std, y['FGM'],\n",
    "                                                      test_size=0.3, random_state=0)\n",
    "\n",
    "print('----Logistic regression----')\n",
    "poly = PolynomialFeatures(degree=3)\n",
    "X_train_poly = poly.fit_transform(X_train)\n",
    "X_valid_poly = poly.transform(X_valid)\n",
    "\n",
    "logistic_regr = LogisticRegression(max_iter=1000, solver='sag')\n",
    "logistic_regr = logistic_regr.fit(X_train_poly, y_train)\n",
    "y_train_pred = logistic_regr.predict(X_train_poly)\n",
    "y_valid_pred = logistic_regr.predict(X_valid_poly)\n",
    "\n",
    "\n",
    "acc_train.append(accuracy_score(y_train, y_train_pred))\n",
    "acc_valid.append(accuracy_score(y_valid, y_valid_pred))\n",
    "print('\\n[Degree = %d]' % 3)\n",
    "print('Accuracy train: %.6f, valid: %.6f' % (\n",
    "            accuracy_score(y_train, y_train_pred),\n",
    "            accuracy_score(y_valid, y_valid_pred))) \n"
   ]
  },
  {
   "cell_type": "markdown",
   "metadata": {},
   "source": [
    "# Lasso\n",
    "\n",
    "## Explore with alpha\n",
    "\n",
    "The best alpha is 1e-3 with degree = 4.\n",
    "Accuracy of validation is 0.613309."
   ]
  },
  {
   "cell_type": "code",
   "execution_count": 9,
   "metadata": {},
   "outputs": [
    {
     "name": "stdout",
     "output_type": "stream",
     "text": [
      "----Lasso----\n"
     ]
    },
    {
     "name": "stderr",
     "output_type": "stream",
     "text": [
      "C:\\Users\\ginag\\anaconda3\\lib\\site-packages\\sklearn\\linear_model\\_coordinate_descent.py:529: ConvergenceWarning: Objective did not converge. You might want to increase the number of iterations. Duality gap: 6878.851147314649, tolerance: 1.486619002082467\n",
      "  model = cd_fast.enet_coordinate_descent(\n"
     ]
    },
    {
     "name": "stdout",
     "output_type": "stream",
     "text": [
      "\n",
      "[Alpha = 0.000100]\n",
      "Accuracy train: 0.621441, valid: 0.610433\n"
     ]
    },
    {
     "name": "stderr",
     "output_type": "stream",
     "text": [
      "C:\\Users\\ginag\\anaconda3\\lib\\site-packages\\sklearn\\linear_model\\_coordinate_descent.py:529: ConvergenceWarning: Objective did not converge. You might want to increase the number of iterations. Duality gap: 6133.219651473541, tolerance: 1.486619002082467\n",
      "  model = cd_fast.enet_coordinate_descent(\n"
     ]
    },
    {
     "name": "stdout",
     "output_type": "stream",
     "text": [
      "\n",
      "[Alpha = 0.001000]\n",
      "Accuracy train: 0.619992, valid: 0.613309\n"
     ]
    },
    {
     "name": "stderr",
     "output_type": "stream",
     "text": [
      "C:\\Users\\ginag\\anaconda3\\lib\\site-packages\\sklearn\\linear_model\\_coordinate_descent.py:529: ConvergenceWarning: Objective did not converge. You might want to increase the number of iterations. Duality gap: 5961.391989938643, tolerance: 1.486619002082467\n",
      "  model = cd_fast.enet_coordinate_descent(\n"
     ]
    },
    {
     "name": "stdout",
     "output_type": "stream",
     "text": [
      "\n",
      "[Alpha = 0.010000]\n",
      "Accuracy train: 0.616010, valid: 0.610122\n",
      "\n",
      "[Alpha = 0.100000]\n",
      "Accuracy train: 0.556418, valid: 0.548939\n",
      "\n",
      "[Alpha = 1.000000]\n",
      "Accuracy train: 0.548655, valid: 0.541903\n"
     ]
    },
    {
     "data": {
      "image/png": "[encoded data removed]",
      "text/plain": [
       "<Figure size 432x288 with 1 Axes>"
      ]
     },
     "metadata": {
      "needs_background": "light"
     },
     "output_type": "display_data"
    }
   ],
   "source": [
    "from sklearn.linear_model import Lasso\n",
    "\n",
    "X_train, X_valid, y_train, y_valid = train_test_split(X_std, y['FGM'],\n",
    "                                                      test_size=0.3, random_state=0)\n",
    "acc_train = []\n",
    "acc_valid = []\n",
    "\n",
    "poly = PolynomialFeatures(degree=4)\n",
    "X_train_poly = poly.fit_transform(X_train)\n",
    "X_valid_poly = poly.transform(X_valid)\n",
    "\n",
    "print('----Lasso----')\n",
    "alphas = [1e-4, 1e-3, 1e-2, 1e-1, 1]\n",
    "for a in alphas:\n",
    "    lasso_regr = Lasso(alpha=a)\n",
    "    lasso_regr = lasso_regr.fit(X_train_poly, y_train)\n",
    "    y_train_pred = lasso_regr.predict(X_train_poly)\n",
    "    y_valid_pred = lasso_regr.predict(X_valid_poly)\n",
    "    \n",
    "    mask = y_train_pred < 0.5\n",
    "    y_train_pred[mask] = 0\n",
    "    y_train_pred[~mask] = 1\n",
    "    \n",
    "    mask = y_valid_pred < 0.5\n",
    "    y_valid_pred[mask] = 0\n",
    "    y_valid_pred[~mask] = 1\n",
    "    \n",
    "    acc_train.append(accuracy_score(y_train, y_train_pred))\n",
    "    acc_valid.append(accuracy_score(y_valid, y_valid_pred))\n",
    "    print('\\n[Alpha = %.6f]' % a)\n",
    "    print('Accuracy train: %.6f, valid: %.6f' % (\n",
    "                accuracy_score(y_train, y_train_pred),\n",
    "                accuracy_score(y_valid, y_valid_pred))) \n",
    "\n",
    "plt.plot(np.log10(alphas), acc_train, label = 'Training', color = 'blue', linewidth = 2)\n",
    "plt.plot(np.log10(alphas), acc_valid, label = 'Validation', color = 'red', linewidth = 2)\n",
    "plt.legend(loc='upper right')\n",
    "plt.xlabel('Log(alpha)')\n",
    "plt.ylabel('$Accuracy$')\n",
    "plt.tight_layout()\n",
    "plt.show()"
   ]
  },
  {
   "cell_type": "markdown",
   "metadata": {},
   "source": [
    "## Explore with degree\n",
    "\n",
    "The best degree is 3 with alpha = 0.001.\n",
    "Accuracy of validation is 0.614204."
   ]
  },
  {
   "cell_type": "code",
   "execution_count": 11,
   "metadata": {},
   "outputs": [
    {
     "name": "stdout",
     "output_type": "stream",
     "text": [
      "----Lasso----\n",
      "\n",
      "[Degree = 1]\n",
      "Accuracy train: 0.608180, valid: 0.609500\n",
      "\n",
      "[Degree = 2]\n",
      "Accuracy train: 0.617376, valid: 0.612960\n",
      "\n",
      "[Degree = 3]\n",
      "Accuracy train: 0.618726, valid: 0.614204\n"
     ]
    },
    {
     "name": "stderr",
     "output_type": "stream",
     "text": [
      "C:\\Users\\ginag\\anaconda3\\lib\\site-packages\\sklearn\\linear_model\\_coordinate_descent.py:529: ConvergenceWarning: Objective did not converge. You might want to increase the number of iterations. Duality gap: 6133.219651473541, tolerance: 1.486619002082467\n",
      "  model = cd_fast.enet_coordinate_descent(\n"
     ]
    },
    {
     "name": "stdout",
     "output_type": "stream",
     "text": [
      "\n",
      "[Degree = 4]\n",
      "Accuracy train: 0.619992, valid: 0.613309\n"
     ]
    },
    {
     "name": "stderr",
     "output_type": "stream",
     "text": [
      "C:\\Users\\ginag\\anaconda3\\lib\\site-packages\\sklearn\\linear_model\\_coordinate_descent.py:529: ConvergenceWarning: Objective did not converge. You might want to increase the number of iterations. Duality gap: 6909.143654066604, tolerance: 1.486619002082467\n",
      "  model = cd_fast.enet_coordinate_descent(\n"
     ]
    },
    {
     "name": "stdout",
     "output_type": "stream",
     "text": [
      "\n",
      "[Degree = 5]\n",
      "Accuracy train: 0.622541, valid: 0.611366\n"
     ]
    },
    {
     "name": "stderr",
     "output_type": "stream",
     "text": [
      "C:\\Users\\ginag\\anaconda3\\lib\\site-packages\\sklearn\\linear_model\\_coordinate_descent.py:529: ConvergenceWarning: Objective did not converge. You might want to increase the number of iterations. Duality gap: 6882.285863558283, tolerance: 1.486619002082467\n",
      "  model = cd_fast.enet_coordinate_descent(\n"
     ]
    },
    {
     "name": "stdout",
     "output_type": "stream",
     "text": [
      "\n",
      "[Degree = 6]\n",
      "Accuracy train: 0.625173, valid: 0.610278\n"
     ]
    }
   ],
   "source": [
    "from sklearn.linear_model import Lasso\n",
    "\n",
    "X_train, X_valid, y_train, y_valid = train_test_split(X_std, y['FGM'],\n",
    "                                                      test_size=0.3, random_state=0)\n",
    "acc_train = []\n",
    "acc_valid = []\n",
    "\n",
    "max_degree = 7\n",
    "best_alpha = 0.001\n",
    "\n",
    "print('----Lasso----')\n",
    "for d in range(1, max_degree):\n",
    "    poly = PolynomialFeatures(degree=d)\n",
    "    X_train_poly = poly.fit_transform(X_train)\n",
    "    X_valid_poly = poly.transform(X_valid)\n",
    "    \n",
    "    lasso_regr = Lasso(alpha=best_alpha)\n",
    "    lasso_regr = lasso_regr.fit(X_train_poly, y_train)\n",
    "    y_train_pred = lasso_regr.predict(X_train_poly)\n",
    "    y_valid_pred = lasso_regr.predict(X_valid_poly)\n",
    "    \n",
    "    mask = y_train_pred < 0.5\n",
    "    y_train_pred[mask] = 0\n",
    "    y_train_pred[~mask] = 1\n",
    "    \n",
    "    mask = y_valid_pred < 0.5\n",
    "    y_valid_pred[mask] = 0\n",
    "    y_valid_pred[~mask] = 1\n",
    "    \n",
    "    acc_train.append(accuracy_score(y_train, y_train_pred))\n",
    "    acc_valid.append(accuracy_score(y_valid, y_valid_pred))\n",
    "    print('\\n[Degree = %d]' % d)\n",
    "    print('Accuracy train: %.6f, valid: %.6f' % (\n",
    "                accuracy_score(y_train, y_train_pred),\n",
    "                accuracy_score(y_valid, y_valid_pred))) \n"
   ]
  },
  {
   "cell_type": "code",
   "execution_count": 26,
   "metadata": {},
   "outputs": [
    {
     "data": {
      "image/png": "[encoded data removed]",
      "text/plain": [
       "<Figure size 432x288 with 1 Axes>"
      ]
     },
     "metadata": {
      "needs_background": "light"
     },
     "output_type": "display_data"
    }
   ],
   "source": [
    "plt.plot(range(1, max_degree), acc_train, label = 'Training error', color = 'blue', linewidth = 2)\n",
    "plt.plot(range(1, max_degree), acc_valid, label = 'Validation error', color = 'red', linewidth = 2)\n",
    "plt.legend(loc='upper right')\n",
    "plt.xlabel('Model complexity (polynomial degree)')\n",
    "plt.ylabel('$Accuracy$')\n",
    "plt.tight_layout()\n",
    "#plt.savefig('./output/Lab05-fig-error-curve.png', dpi=300)\n",
    "plt.show()"
   ]
  },
  {
   "cell_type": "markdown",
   "metadata": {},
   "source": [
    "# Select the top 3 features\n",
    "\n",
    "Selected feature: ['TOUCH_TIME', 'SHOT_DIST', 'CLOSE_DEF_DIST']"
   ]
  },
  {
   "cell_type": "code",
   "execution_count": 28,
   "metadata": {},
   "outputs": [
    {
     "name": "stdout",
     "output_type": "stream",
     "text": [
      "Before: (85751, 8)\n",
      "\n",
      "Selected feature: Index(['TOUCH_TIME', 'SHOT_DIST', 'CLOSE_DEF_DIST'], dtype='object')\n",
      "\n",
      "After: (85751, 3)\n"
     ]
    }
   ],
   "source": [
    "from sklearn.feature_selection import SelectFromModel\n",
    "\n",
    "# using L1-based feature selection\n",
    "logistic_regr = LogisticRegression(max_iter=400).fit(X_std, y['FGM'])\n",
    "print(\"Before:\", X_std.shape, end = \"\\n\\n\")\n",
    "\n",
    "model = SelectFromModel(logistic_regr, prefit=True)\n",
    "X_new = model.transform(X_std)\n",
    "\n",
    "feature_idx = model.get_support()\n",
    "feature_name = X.columns[feature_idx]\n",
    "print(\"Selected feature:\", feature_name, end=\"\\n\\n\")\n",
    "print(\"After:\", X_new.shape)"
   ]
  },
  {
   "cell_type": "markdown",
   "metadata": {},
   "source": [
    "## Logistic regression try with selected feature\n",
    "\n",
    "not better than the original."
   ]
  },
  {
   "cell_type": "code",
   "execution_count": 58,
   "metadata": {},
   "outputs": [
    {
     "name": "stdout",
     "output_type": "stream",
     "text": [
      "Accuracy train: 0.617643, valid: 0.612027\n"
     ]
    }
   ],
   "source": [
    "X_train, X_valid, y_train, y_valid = train_test_split(X_new, y['FGM'],\n",
    "                                                      test_size=0.3, random_state=0)\n",
    "\n",
    "poly = PolynomialFeatures(degree=3)\n",
    "X_train_poly = poly.fit_transform(X_train)\n",
    "X_valid_poly = poly.transform(X_valid)\n",
    "\n",
    "logistic_regr = LogisticRegression(max_iter=1000)\n",
    "logistic_regr = logistic_regr.fit(X_train_poly, y_train)\n",
    "y_train_pred = logistic_regr.predict(X_train_poly)\n",
    "y_valid_pred = logistic_regr.predict(X_valid_poly)\n",
    "\n",
    "acc_train.append(accuracy_score(y_train, y_train_pred))\n",
    "acc_valid.append(accuracy_score(y_valid, y_valid_pred))\n",
    "print('Accuracy train: %.6f, valid: %.6f' % (\n",
    "            accuracy_score(y_train, y_train_pred),\n",
    "            accuracy_score(y_valid, y_valid_pred))) "
   ]
  },
  {
   "cell_type": "markdown",
   "metadata": {},
   "source": [
    "# Ridge Classifier"
   ]
  },
  {
   "cell_type": "code",
   "execution_count": 29,
   "metadata": {},
   "outputs": [
    {
     "name": "stdout",
     "output_type": "stream",
     "text": [
      "Accuracy score train: 0.617593, valid: 0.611716\n",
      "confusion matrix of validation:\n",
      "[[11485  2444]\n",
      " [ 7545  4252]]\n"
     ]
    }
   ],
   "source": [
    "# Try with Ridge Regression\n",
    "from sklearn.linear_model import RidgeClassifier\n",
    "\n",
    "poly = PolynomialFeatures(degree=3)\n",
    "X_poly = poly.fit_transform(X_new)\n",
    "X_train, X_valid, y_train, y_valid = train_test_split(\n",
    "    X_poly, y['FGM'], test_size=0.3, random_state=0)\n",
    "\n",
    "clf = RidgeClassifier(alpha=best_alpha)\n",
    "clf.fit(X_train, y_train)\n",
    "\n",
    "y_train_pred = clf.predict(X_train)\n",
    "y_valid_pred = clf.predict(X_valid)\n",
    "\n",
    "print('Accuracy score train: %.6f, valid: %.6f' % (\n",
    "                accuracy_score(y_train, y_train_pred),\n",
    "                accuracy_score(y_valid, y_valid_pred)))  \n",
    "print(\"confusion matrix of validation:\")\n",
    "print(confusion_matrix(y_valid, y_valid_pred))"
   ]
  },
  {
   "cell_type": "code",
   "execution_count": 16,
   "metadata": {},
   "outputs": [
    {
     "name": "stdout",
     "output_type": "stream",
     "text": [
      "\n",
      "[Degree = 2]\n",
      "\n",
      "[Alpha = 0.010000]\n",
      "Accuracy train: 0.617693, valid: 0.614903\n",
      "confusion matrix of validation:\n",
      "[[11232  2697]\n",
      " [ 7210  4587]]\n",
      "\n",
      "[Alpha = 0.100000]\n",
      "Accuracy train: 0.617693, valid: 0.614903\n",
      "confusion matrix of validation:\n",
      "[[11232  2697]\n",
      " [ 7210  4587]]\n",
      "\n",
      "[Alpha = 1.000000]\n",
      "Accuracy train: 0.617693, valid: 0.614942\n",
      "confusion matrix of validation:\n",
      "[[11232  2697]\n",
      " [ 7209  4588]]\n",
      "\n",
      "[Alpha = 10.000000]\n",
      "Accuracy train: 0.617776, valid: 0.614903\n",
      "confusion matrix of validation:\n",
      "[[11231  2698]\n",
      " [ 7209  4588]]\n",
      "\n",
      "[Degree = 3]\n",
      "\n",
      "[Alpha = 0.010000]\n",
      "Accuracy train: 0.618892, valid: 0.613698\n",
      "confusion matrix of validation:\n",
      "[[11401  2528]\n",
      " [ 7410  4387]]\n",
      "\n",
      "[Alpha = 0.100000]\n",
      "Accuracy train: 0.618892, valid: 0.613698\n",
      "confusion matrix of validation:\n",
      "[[11401  2528]\n",
      " [ 7410  4387]]\n",
      "\n",
      "[Alpha = 1.000000]\n",
      "Accuracy train: 0.618875, valid: 0.613698\n",
      "confusion matrix of validation:\n",
      "[[11401  2528]\n",
      " [ 7410  4387]]\n",
      "\n",
      "[Alpha = 10.000000]\n",
      "Accuracy train: 0.618859, valid: 0.613854\n",
      "confusion matrix of validation:\n",
      "[[11402  2527]\n",
      " [ 7407  4390]]\n",
      "\n",
      "[Degree = 4]\n",
      "\n",
      "[Alpha = 0.010000]\n",
      "Accuracy train: 0.621341, valid: 0.610627\n",
      "confusion matrix of validation:\n",
      "[[11350  2579]\n",
      " [ 7438  4359]]\n",
      "\n",
      "[Alpha = 0.100000]\n",
      "Accuracy train: 0.621341, valid: 0.610627\n",
      "confusion matrix of validation:\n",
      "[[11350  2579]\n",
      " [ 7438  4359]]\n",
      "\n",
      "[Alpha = 1.000000]\n",
      "Accuracy train: 0.621291, valid: 0.610666\n",
      "confusion matrix of validation:\n",
      "[[11352  2577]\n",
      " [ 7439  4358]]\n",
      "\n",
      "[Alpha = 10.000000]\n",
      "Accuracy train: 0.621458, valid: 0.610977\n",
      "confusion matrix of validation:\n",
      "[[11359  2570]\n",
      " [ 7438  4359]]\n"
     ]
    }
   ],
   "source": [
    "# Try with Ridge Regression with select feature\n",
    "from sklearn.linear_model import RidgeClassifier\n",
    "\n",
    "for d in [2, 3, 4]:\n",
    "    print(\"\\n[Degree = %d]\" % d)\n",
    "    \n",
    "    poly = PolynomialFeatures(degree=d)\n",
    "    X_poly = poly.fit_transform(X_std)\n",
    "    X_train, X_valid, y_train, y_valid = train_test_split(\n",
    "        X_poly, y['FGM'], test_size=0.3, random_state=0)\n",
    "\n",
    "    for a in [1e-2, 1e-1, 1, 10]:\n",
    "\n",
    "        clf = RidgeClassifier(alpha=a)\n",
    "        clf.fit(X_train, y_train)\n",
    "\n",
    "        y_train_pred = clf.predict(X_train)\n",
    "        y_valid_pred = clf.predict(X_valid)\n",
    "\n",
    "        print('\\n[Alpha = %.6f]' % a )\n",
    "        print('Accuracy train: %.6f, valid: %.6f' % (\n",
    "                        accuracy_score(y_train, y_train_pred),\n",
    "                        accuracy_score(y_valid, y_valid_pred)))  \n",
    "        print(\"confusion matrix of validation:\")\n",
    "        print(confusion_matrix(y_valid, y_valid_pred))"
   ]
  },
  {
   "cell_type": "markdown",
   "metadata": {},
   "source": [
    "## Choose Ridge Classifier to be the selected model with degree = 3 and alpha = 1"
   ]
  },
  {
   "cell_type": "code",
   "execution_count": 33,
   "metadata": {},
   "outputs": [
    {
     "name": "stderr",
     "output_type": "stream",
     "text": [
      "C:\\Users\\ginag\\anaconda3\\lib\\site-packages\\sklearn\\utils\\validation.py:72: DataConversionWarning: A column-vector y was passed when a 1d array was expected. Please change the shape of y to (n_samples, ), for example using ravel().\n",
      "  return f(**kwargs)\n"
     ]
    },
    {
     "name": "stdout",
     "output_type": "stream",
     "text": [
      "\n",
      "[Alpha = 1.000000] // [Degree = 2]\n",
      "Accuracy train: 0.617311\n",
      "\n",
      "confusion matrix of validation:\n",
      "[[11232  2697]\n",
      " [ 7209  4588]]\n"
     ]
    }
   ],
   "source": [
    "# Output the best predict\n",
    "\n",
    "poly = PolynomialFeatures(degree=3)\n",
    "X_poly = poly.fit_transform(X_std)\n",
    "X_test_poly = poly.fit_transform(X_test_std)\n",
    "\n",
    "clf = RidgeClassifier(alpha=1)\n",
    "clf.fit(X_poly, y)\n",
    "\n",
    "y_pred = clf.predict(X_poly)\n",
    "y_test_pred = clf.predict(X_test_poly)\n",
    "\n",
    "# output the result\n",
    "pd.DataFrame(y_test_pred).to_csv('y_pred.csv')\n",
    "\n",
    "print('\\n[Alpha = %.6f] // [Degree = %d]' % (1, 2))\n",
    "print('Accuracy train: %.6f' % (\n",
    "                accuracy_score(y, y_pred)))  \n",
    "print(\"\\nconfusion matrix of validation:\")\n",
    "print(confusion_matrix(y_valid, y_valid_pred))"
   ]
  },
  {
   "cell_type": "markdown",
   "metadata": {},
   "source": [
    "# Decision Tree with different depth\n",
    "\n",
    "Accuracy of validation is **0.611249.**\n",
    "Best depth of tree is 5 with selected feature."
   ]
  },
  {
   "cell_type": "code",
   "execution_count": 51,
   "metadata": {},
   "outputs": [
    {
     "name": "stdout",
     "output_type": "stream",
     "text": [
      "Max depth: 1\n",
      "Training Accuracy: 0.610212\n",
      "Validation Accuracy: 0.604330\n",
      "\n",
      "Max depth: 2\n",
      "Training Accuracy: 0.610212\n",
      "Validation Accuracy: 0.604330\n",
      "\n",
      "Max depth: 3\n",
      "Training Accuracy: 0.610262\n",
      "Validation Accuracy: 0.605652\n",
      "\n",
      "Max depth: 4\n",
      "Training Accuracy: 0.617693\n",
      "Validation Accuracy: 0.610899\n",
      "\n",
      "Max depth: 5\n",
      "Training Accuracy: 0.618776\n",
      "Validation Accuracy: 0.611249\n",
      "\n",
      "Max depth: 6\n",
      "Training Accuracy: 0.620908\n",
      "Validation Accuracy: 0.611055\n",
      "\n",
      "Max depth: 7\n",
      "Training Accuracy: 0.625106\n",
      "Validation Accuracy: 0.609656\n",
      "\n",
      "Max depth: 8\n",
      "Training Accuracy: 0.628505\n",
      "Validation Accuracy: 0.610433\n",
      "\n",
      "Max depth: 9\n",
      "Training Accuracy: 0.631703\n",
      "Validation Accuracy: 0.607129\n",
      "\n"
     ]
    }
   ],
   "source": [
    "from sklearn.tree import DecisionTreeClassifier\n",
    "\n",
    "depth = 10\n",
    "\n",
    "acc_train = []\n",
    "acc_valid = []\n",
    "\n",
    "# without z-normalize\n",
    "X_train, X_valid, y_train, y_valid = train_test_split(X[feature_name], y['FGM'],\n",
    "                                                      test_size=0.3, random_state=0)\n",
    "for d in range(1, depth): \n",
    "    tree = DecisionTreeClassifier(criterion='entropy', \n",
    "                                  max_depth=d, \n",
    "                                  random_state=0)\n",
    "    tree.fit(X_train, y_train)\n",
    "    y_train_pred = tree.predict(X_train)\n",
    "    y_valid_pred = tree.predict(X_valid)\n",
    "        \n",
    "    print('Max depth: %d' % d)\n",
    "    print('Training Accuracy: %.6f' % accuracy_score(y_train, y_train_pred))\n",
    "    print('Validation Accuracy: %.6f\\n' % accuracy_score(y_valid, y_valid_pred))\n",
    "    acc_train.append(accuracy_score(y_train, y_train_pred))\n",
    "    acc_valid.append(accuracy_score(y_valid, y_valid_pred))"
   ]
  },
  {
   "cell_type": "code",
   "execution_count": 52,
   "metadata": {},
   "outputs": [
    {
     "data": {
      "image/png": "[encoded data removed]",
      "text/plain": [
       "<Figure size 432x288 with 1 Axes>"
      ]
     },
     "metadata": {
      "needs_background": "light"
     },
     "output_type": "display_data"
    }
   ],
   "source": [
    "plt.plot(range(1, depth), acc_train, label = 'Training error', color = 'blue', linewidth = 2)\n",
    "plt.plot(range(1, depth), acc_valid, label = 'Validation error', color = 'red', linewidth = 2)\n",
    "plt.legend(loc='upper right')\n",
    "plt.xlabel('Model depth')\n",
    "plt.ylabel('$Accuracy$')\n",
    "plt.tight_layout()\n",
    "plt.show()"
   ]
  },
  {
   "cell_type": "markdown",
   "metadata": {},
   "source": [
    "# Random Forests Classifier"
   ]
  },
  {
   "cell_type": "code",
   "execution_count": 25,
   "metadata": {},
   "outputs": [
    {
     "name": "stdout",
     "output_type": "stream",
     "text": [
      "Train Accuracy: 0.624490\n",
      "Validation Accuracy: 0.614242\n"
     ]
    }
   ],
   "source": [
    "from sklearn.ensemble import RandomForestClassifier\n",
    "\n",
    "X_train, X_valid, y_train, y_valid = train_test_split(\n",
    "    X, y['FGM'], test_size=0.3, random_state=0)\n",
    "\n",
    "forest = RandomForestClassifier(criterion='entropy',\n",
    "                                n_estimators=200, \n",
    "                                random_state=1,\n",
    "                                max_depth=7,\n",
    "                                n_jobs=2)\n",
    "forest.fit(X_train, y_train)\n",
    "\n",
    "y_pred = forest.predict(X_valid)\n",
    "y_train_pred = forest.predict(X_train)\n",
    "print('Train Accuracy: %.6f' % accuracy_score(y_train, y_train_pred))\n",
    "print('Validation Accuracy: %.6f' % accuracy_score(y_valid, y_pred))\n"
   ]
  },
  {
   "cell_type": "markdown",
   "metadata": {},
   "source": [
    "# Result\n",
    "\n",
    "其實這次Train完還蠻沮喪的，因為不管怎麼調動，好像predict完的結果都沒有太大的變化，然後其實我也有試過去preprocess data，例如：將SHOT_DIST重新分成十等分，但是後來Train完的結果比沒有preprocess前還糟糕，所以就沒有使用在後來的預測上，然後也有測過之前課堂所教過的model。\n",
    "\n",
    "**Random Forest vs. Decision Tree**\n",
    "原本沒有調整Random Forest的max_depth之前，Random Forest的預測結果是比單顆樹還低的，這點原本讓我很訝異，所以想了一下加上max_depth之後，Random Forest還是比單顆樹還高的，設定max_depth為7，因為default是會跑到min_samples_split=2，代表直到leaf剩下兩個為止，都是會一直分下去的，可能會導致overfit。\n",
    "\n",
    "**Ridge / Logistic Regression / Lasso**\n",
    "原本是想要使用Logistic去實作L1-norm的Classifier，但是因為model需要跑太久，所以後來沒有實做logistic regression + L1 norm，還有這部分需要去看document連帶去調整solver，其實原本Logistic defualt就是使用L2-norm，可以看到最好的Ridge結果其實跟Logistic沒有差太多，都是0.614左右。\n",
    "\n",
    "**如果有時間會想要嘗試的：**\n",
    "XGBOOST，因為看了TA所給的Reference，發現最佳的預測結果也是0.68，可以說NBA球員還是很難預測的哈哈～"
   ]
  },
  {
   "cell_type": "code",
   "execution_count": null,
   "metadata": {},
   "outputs": [],
   "source": []
  }
 ],
 "metadata": {
  "kernelspec": {
   "display_name": "Python 3",
   "language": "python",
   "name": "python3"
  },
  "language_info": {
   "codemirror_mode": {
    "name": "ipython",
    "version": 3
   },
   "file_extension": ".py",
   "mimetype": "text/x-python",
   "name": "python",
   "nbconvert_exporter": "python",
   "pygments_lexer": "ipython3",
   "version": "3.8.5"
  }
 },
 "nbformat": 4,
 "nbformat_minor": 4
}
