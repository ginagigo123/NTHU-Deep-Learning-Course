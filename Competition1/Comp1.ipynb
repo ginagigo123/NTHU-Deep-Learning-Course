{
 "cells": [
  {
   "cell_type": "code",
   "execution_count": 1,
   "metadata": {},
   "outputs": [
    {
     "name": "stdout",
     "output_type": "stream",
     "text": [
      "   Id  Popularity                                       Page content\n",
      "0   0          -1  <html><head><div class=\"article-info\"> <span c...\n",
      "1   1           1  <html><head><div class=\"article-info\"><span cl...\n",
      "2   2           1  <html><head><div class=\"article-info\"><span cl...\n",
      "3   3          -1  <html><head><div class=\"article-info\"><span cl...\n",
      "4   4          -1  <html><head><div class=\"article-info\"><span cl...\n"
     ]
    }
   ],
   "source": [
    "%matplotlib inline\n",
    "import pandas as pd\n",
    "\n",
    "df = pd.read_csv('./data/train.csv')\n",
    "print(df.head(5))"
   ]
  },
  {
   "cell_type": "code",
   "execution_count": 2,
   "metadata": {},
   "outputs": [],
   "source": [
    "import re\n",
    "from bs4 import BeautifulSoup\n",
    "\n",
    "def preprocessor(text):\n",
    "    # remove HTML tags\n",
    "    text = BeautifulSoup(text, 'html.parser').get_text()\n",
    "    \n",
    "    # regex for matching emoticons, keep emoticons, ex: :), :-P, :-D\n",
    "    r = '(?::|;|=|X)(?:-)?(?:\\)|\\(|D|P)'\n",
    "    emoticons = re.findall(r, text)\n",
    "    text = re.sub(r, '', text)\n",
    "    \n",
    "    # convert to lowercase and append all emoticons behind (with space in between)\n",
    "    # replace('-','') removes nose of emoticons\n",
    "    text = re.sub('[\\W]+', ' ', text.lower()) + ' ' + ' '.join(emoticons).replace('-','')\n",
    "    return text"
   ]
  },
  {
   "cell_type": "code",
   "execution_count": 3,
   "metadata": {},
   "outputs": [
    {
     "name": "stdout",
     "output_type": "stream",
     "text": [
      "['runner', 'like', 'run', 'thu', 'run']\n"
     ]
    },
    {
     "name": "stderr",
     "output_type": "stream",
     "text": [
      "[nltk_data] Downloading package stopwords to\n",
      "[nltk_data]     C:\\Users\\ginag\\AppData\\Roaming\\nltk_data...\n",
      "[nltk_data]   Package stopwords is already up-to-date!\n"
     ]
    }
   ],
   "source": [
    "import nltk\n",
    "from nltk.corpus import stopwords\n",
    "from nltk.stem.porter import PorterStemmer\n",
    "\n",
    "nltk.download('stopwords')\n",
    "stop = stopwords.words('english')\n",
    "\n",
    "def tokenizer_stem_nostop(text):\n",
    "    porter = PorterStemmer()\n",
    "    return [porter.stem(w) for w in re.split('\\s+', text.strip()) \\\n",
    "            if w not in stop and re.match('[a-zA-Z]+', w)]\n",
    "\n",
    "print(tokenizer_stem_nostop('runners like running and thus they run'))"
   ]
  },
  {
   "cell_type": "markdown",
   "metadata": {},
   "source": [
    "### BoW"
   ]
  },
  {
   "cell_type": "code",
   "execution_count": 4,
   "metadata": {},
   "outputs": [
    {
     "name": "stdout",
     "output_type": "stream",
     "text": [
      "[example documents]\n",
      "Study hard, then you will be happy and I will be happy\n",
      "\"I'm not happy :(\" \", because you don't study hard\n",
      "\n",
      "[vocabulary]\n",
      "{'studi': 2, 'hard': 1, 'happi': 0}\n"
     ]
    },
    {
     "name": "stderr",
     "output_type": "stream",
     "text": [
      "C:\\Users\\ginag\\anaconda3\\lib\\site-packages\\sklearn\\feature_extraction\\text.py:484: UserWarning: The parameter 'token_pattern' will not be used since 'tokenizer' is not None'\n",
      "  warnings.warn(\"The parameter 'token_pattern' will not be used\"\n"
     ]
    }
   ],
   "source": [
    "import numpy as np\n",
    "import scipy as sp\n",
    "from sklearn.feature_extraction.text import CountVectorizer\n",
    "\n",
    "doc_dummy = [\"Study hard, then you will be happy and I will be happy\", \n",
    "           \"\\\"I'm not happy :(\\\" \\\", because you don't study hard\"]\n",
    "print('[example documents]\\n{}\\n'.format('\\n'.join(doc_dummy)))\n",
    "\n",
    "# ngram_range=(min,max), default: 1-gram => (1,1)\n",
    "count = CountVectorizer(ngram_range=(1, 1),\n",
    "                        preprocessor=preprocessor,\n",
    "                        tokenizer=tokenizer_stem_nostop)\n",
    "\n",
    "count.fit(doc_dummy)\n",
    "# dictionary is stored in vocabulary_\n",
    "BoW = count.vocabulary_\n",
    "print('[vocabulary]\\n{}'.format(BoW))"
   ]
  },
  {
   "cell_type": "code",
   "execution_count": 5,
   "metadata": {},
   "outputs": [
    {
     "name": "stdout",
     "output_type": "stream",
     "text": [
      "(did, vid)\ttf\n",
      "  (0, 0)\t2\n",
      "  (0, 1)\t1\n",
      "  (0, 2)\t1\n",
      "  (1, 0)\t1\n",
      "  (1, 1)\t1\n",
      "  (1, 2)\t1\n",
      "\n",
      "Is document-term matrix a scipy.sparse matrix? True\n"
     ]
    }
   ],
   "source": [
    "# get matrix (doc_id, vocabulary_id) --> tf\n",
    "doc_bag = count.transform(doc_dummy)\n",
    "print('(did, vid)\\ttf')\n",
    "print(doc_bag)\n",
    "\n",
    "print('\\nIs document-term matrix a scipy.sparse matrix? {}'.format(sp.sparse.issparse(doc_bag)))"
   ]
  },
  {
   "cell_type": "code",
   "execution_count": 6,
   "metadata": {},
   "outputs": [
    {
     "name": "stdout",
     "output_type": "stream",
     "text": [
      "[[2 1 1]\n",
      " [1 1 1]]\n",
      "\n",
      "After calling .toarray(), is it a scipy.sparse matrix? False\n"
     ]
    }
   ],
   "source": [
    "doc_bag = doc_bag.toarray()\n",
    "print(doc_bag)\n",
    "\n",
    "print('\\nAfter calling .toarray(), is it a scipy.sparse matrix? {}'.format(sp.sparse.issparse(doc_bag)))"
   ]
  },
  {
   "cell_type": "code",
   "execution_count": 7,
   "metadata": {},
   "outputs": [],
   "source": [
    "doc = df['Page content'].iloc[:100]\n",
    "doc_bag = count.fit_transform(doc).toarray()"
   ]
  },
  {
   "cell_type": "code",
   "execution_count": 17,
   "metadata": {},
   "outputs": [
    {
     "name": "stdout",
     "output_type": "stream",
     "text": [
      "[most frequent vocabularies]\n",
      "(7127,)\n"
     ]
    }
   ],
   "source": [
    "print(\"[most frequent vocabularies]\")\n",
    "bag_cnts = np.sum(doc_bag, axis=0)\n",
    "top = 10\n",
    "print(bag_cnts.shape)"
   ]
  },
  {
   "cell_type": "code",
   "execution_count": 9,
   "metadata": {},
   "outputs": [
    {
     "name": "stdout",
     "output_type": "stream",
     "text": [
      "CountVectorizer(preprocessor=<function preprocessor at 0x000001CA9AA28AF0>,\n",
      "                tokenizer=<function tokenizer_stem_nostop at 0x000001CABF765DC0>) \n",
      "\n",
      "[array(['a330', 'a340', 'aan', ..., 'zuffa', 'zvlfremqgq', 'zvqxb2f5xi'],\n",
      "      dtype='<U22')]\n",
      "['a330' 'a340' 'aan' ... 'zuffa' 'zvlfremqgq' 'zvqxb2f5xi']\n",
      "(7127,)\n",
      "['imag' 'getti' 'new' 'also' 'one' 'said' 'see' 'time' 'year' 'world']\n"
     ]
    }
   ],
   "source": [
    "print(count, '\\n')\n",
    "\n",
    "print(count.inverse_transform(np.ones(bag_cnts.shape[0])))\n",
    "\n",
    "print(count.inverse_transform(np.ones(bag_cnts.shape[0]))[0])\n",
    "print(count.inverse_transform(np.ones(bag_cnts.shape[0]))[0].shape)\n",
    "\n",
    "# [bag_cnts.argsort()[::-1] -> descending -> get top 10\n",
    "print(count.inverse_transform(np.ones(bag_cnts.shape[0]))[0][bag_cnts.argsort()[::-1][:top]])"
   ]
  },
  {
   "cell_type": "code",
   "execution_count": 10,
   "metadata": {},
   "outputs": [
    {
     "name": "stdout",
     "output_type": "stream",
     "text": [
      "imag: 639\n",
      "getti: 180\n",
      "new: 168\n",
      "also: 165\n",
      "one: 162\n",
      "said: 151\n",
      "see: 147\n",
      "time: 144\n",
      "year: 142\n",
      "world: 135\n"
     ]
    }
   ],
   "source": [
    "# [::-1] reverses a list since sort is in ascending order\n",
    "for tok, v in zip(count.inverse_transform(np.ones(bag_cnts.shape[0]))[0][bag_cnts.argsort()[::-1][:top]], \\\n",
    "                  np.sort(bag_cnts)[::-1][:top]):\n",
    "    print('{}: {}'.format(tok, v))"
   ]
  },
  {
   "cell_type": "markdown",
   "metadata": {},
   "source": [
    "### TFIDF"
   ]
  },
  {
   "cell_type": "code",
   "execution_count": 11,
   "metadata": {},
   "outputs": [
    {
     "name": "stdout",
     "output_type": "stream",
     "text": [
      "[vocabularies with smallest idf scores]\n",
      "topic: 1.00\n",
      "see: 1.12\n",
      "also: 1.13\n",
      "imag: 1.21\n",
      "one: 1.32\n",
      "new: 1.52\n",
      "world: 1.54\n",
      "year: 1.54\n",
      "like: 1.55\n",
      "time: 1.61\n",
      "\n",
      "[vocabularies with highest tf-idf scores]\n",
      "imag: 4.1122911268509705\n",
      "app: 2.3867465879041356\n",
      "video: 2.3321333885238404\n",
      "game: 2.1911895842442406\n",
      "said: 2.0142987671015766\n",
      "new: 2.0010914875633707\n",
      "compani: 1.9319822679769407\n",
      "getti: 1.7677938352965423\n",
      "time: 1.7601195175854225\n",
      "twitter: 1.7333793682275045\n"
     ]
    }
   ],
   "source": [
    "from sklearn.feature_extraction.text import TfidfVectorizer\n",
    "\n",
    "tfidf = TfidfVectorizer(ngram_range=(1,1),\n",
    "                        preprocessor=preprocessor,\n",
    "                        tokenizer=tokenizer_stem_nostop)\n",
    "\n",
    "tfidf.fit(doc)\n",
    "\n",
    "top = 10\n",
    "# get idf score of vocabularies\n",
    "idf = tfidf.idf_\n",
    "print('[vocabularies with smallest idf scores]')\n",
    "sorted_idx = idf.argsort()\n",
    "\n",
    "for i in range(top):\n",
    "    print('%s: %.2f' %(tfidf.get_feature_names()[sorted_idx[i]], idf[sorted_idx[i]]))\n",
    "\n",
    "doc_tfidf = tfidf.transform(doc).toarray()\n",
    "tfidf_sum = np.sum(doc_tfidf, axis=0)\n",
    "print(\"\\n[vocabularies with highest tf-idf scores]\")\n",
    "for tok, v in zip(tfidf.inverse_transform(np.ones(tfidf_sum.shape[0]))[0][tfidf_sum.argsort()[::-1]][:top], \\\n",
    "                        np.sort(tfidf_sum)[::-1][:top]):\n",
    "    print('{}: {}'.format(tok, v))"
   ]
  },
  {
   "cell_type": "code",
   "execution_count": 12,
   "metadata": {},
   "outputs": [
    {
     "name": "stdout",
     "output_type": "stream",
     "text": [
      "(7127,)\n"
     ]
    }
   ],
   "source": [
    "print(tfidf_sum.shape)\n"
   ]
  },
  {
   "cell_type": "code",
   "execution_count": 13,
   "metadata": {},
   "outputs": [
    {
     "name": "stdout",
     "output_type": "stream",
     "text": [
      "(100, 7127)\n"
     ]
    }
   ],
   "source": [
    "print(doc_tfidf.shape)"
   ]
  },
  {
   "cell_type": "markdown",
   "metadata": {},
   "source": [
    "7127 features may too large to store"
   ]
  },
  {
   "cell_type": "code",
   "execution_count": 14,
   "metadata": {
    "scrolled": false
   },
   "outputs": [
    {
     "name": "stdout",
     "output_type": "stream",
     "text": [
      "abl :  0.019160789088677892\n",
      "academia :  0.036004167476229934\n",
      "accomplish :  0.036004167476229934\n",
      "administr :  0.05172688646057352\n",
      "agenc :  0.06530958424107364\n",
      "aim :  0.02586344323028676\n",
      "alreadi :  0.02079308110731518\n",
      "also :  0.049441296554212\n",
      "alter :  0.03303819576921464\n",
      "anim :  0.026840223536662797\n",
      "announc :  0.0369271928601622\n",
      "anoth :  0.016699499290719625\n",
      "approach :  0.02796783364624306\n",
      "articl :  0.019535998833908295\n",
      "ask :  0.01880388970667592\n",
      "associ :  0.03288561353478174\n",
      "asteroid :  0.6120708470959089\n",
      "astronaut :  0.15466902676629174\n",
      "author :  0.02423115121164948\n",
      "begin :  0.022311960213999275\n",
      "benefit :  0.025001861939227772\n",
      "bill :  0.050003723878455544\n",
      "build :  0.019160789088677892\n",
      "cancel :  0.030933805353258348\n",
      "capsul :  0.036004167476229934\n",
      "captur :  0.050003723878455544\n",
      "capturerespons :  0.036004167476229934\n",
      "caus :  0.022311960213999275\n",
      "centauri :  0.03303819576921464\n",
      "challeng :  0.09692460484659791\n",
      "chelyabinsk :  0.036004167476229934\n",
      "china :  0.02586344323028676\n",
      "citi :  0.017827109400299888\n",
      "clara :  0.03303819576921464\n",
      "close :  0.02176986141369121\n",
      "com :  0.04158616221463036\n",
      "come :  0.01549762472306581\n",
      "concept :  0.02796783364624306\n",
      "confid :  0.029301513334621065\n",
      "congress :  0.02796783364624306\n",
      "countdownth :  0.036004167476229934\n",
      "countri :  0.021265179504634187\n",
      "cours :  0.022311960213999275\n",
      "courtesi :  0.01880388970667592\n",
      "current :  0.02176986141369121\n",
      "da14 :  0.036004167476229934\n",
      "danger :  0.023533958553052688\n",
      "day :  0.013228845674647315\n",
      "debat :  0.09911458730764393\n",
      "decid :  0.022897471523271474\n",
      "deep :  0.05172688646057352\n",
      "defend :  0.02796783364624306\n",
      "deputi :  0.030933805353258348\n",
      "describ :  0.023533958553052688\n",
      "design :  0.0184635964300811\n",
      "destroy :  0.061867610706516696\n",
      "detect :  0.03303819576921464\n",
      "develop :  0.019931499816256186\n",
      "differ :  0.017827109400299888\n",
      "diminish :  0.036004167476229934\n",
      "director :  0.022311960213999275\n",
      "discov :  0.02796783364624306\n",
      "discuss :  0.023533958553052688\n",
      "draft :  0.02796783364624306\n",
      "due :  0.022311960213999275\n",
      "earth :  0.15001117163536662\n",
      "edt :  0.03303819576921464\n",
      "enhanc :  0.02796783364624306\n",
      "event :  0.019160789088677892\n",
      "ever :  0.0184635964300811\n",
      "explain :  0.022897471523271474\n",
      "explod :  0.030933805353258348\n",
      "explor :  0.05593566729248612\n",
      "explos :  0.02796783364624306\n",
      "feb :  0.02796783364624306\n",
      "field :  0.023533958553052688\n",
      "figur :  0.025001861939227772\n",
      "find :  0.019535998833908295\n",
      "fire :  0.022897471523271474\n",
      "first :  0.012910752676974993\n",
      "fli :  0.023533958553052688\n",
      "flight :  0.026840223536662797\n",
      "footbal :  0.026840223536662797\n",
      "garver :  0.07200833495245987\n",
      "gerstenmai :  0.036004167476229934\n",
      "get :  0.013068070273323202\n",
      "go :  0.014090426965706308\n",
      "goal :  0.04846230242329896\n",
      "grand :  0.07759032969086029\n",
      "guid :  0.02796783364624306\n",
      "head :  0.0369271928601622\n",
      "hear :  0.02796783364624306\n",
      "histori :  0.02176986141369121\n",
      "hous :  0.04579494304654295\n",
      "houston :  0.029301513334621065\n",
      "human :  0.07269345363494843\n",
      "idea :  0.06693588064199782\n",
      "imag :  0.008839438720163914\n",
      "import :  0.019160789088677892\n",
      "improv :  0.023533958553052688\n",
      "includ :  0.03013441454416468\n",
      "industri :  0.021265179504634187\n",
      "inform :  0.035654218800599775\n",
      "initi :  0.04579494304654295\n",
      "innov :  0.02423115121164948\n",
      "integr :  0.02796783364624306\n",
      "issu :  0.021265179504634187\n",
      "juli :  0.022897471523271474\n",
      "june :  0.04846230242329896\n",
      "kalil :  0.036004167476229934\n",
      "killer :  0.036004167476229934\n",
      "lab :  0.029301513334621065\n",
      "land :  0.02176986141369121\n",
      "larger :  0.02796783364624306\n",
      "launch :  0.040699225659743966\n",
      "lawmak :  0.029301513334621065\n",
      "like :  0.011372444644419282\n",
      "link :  0.02423115121164948\n",
      "lori :  0.036004167476229934\n",
      "lunar :  0.029301513334621065\n",
      "maintain :  0.02796783364624306\n",
      "manag :  0.02079308110731518\n",
      "may :  0.014275626384012401\n",
      "meteor :  0.030933805353258348\n",
      "mission :  0.268402235366628\n",
      "mitig :  0.036004167476229934\n",
      "mockup :  0.03303819576921464\n",
      "money :  0.02423115121164948\n",
      "moon :  0.09692460484659791\n",
      "moskowitz :  0.036004167476229934\n",
      "musk :  0.03303819576921464\n",
      "nasa :  0.4195175046936459\n",
      "new :  0.02224891051738204\n",
      "noth :  0.050003723878455544\n",
      "offic :  0.019931499816256186\n",
      "offici :  0.0184635964300811\n",
      "one :  0.009689877608016978\n",
      "oper :  0.022311960213999275\n",
      "orbit :  0.029301513334621065\n",
      "origin :  0.017827109400299888\n",
      "orion :  0.03303819576921464\n",
      "overal :  0.02423115121164948\n",
      "part :  0.0369271928601622\n",
      "pass :  0.02423115121164948\n",
      "picturesbut :  0.036004167476229934\n",
      "piec :  0.04846230242329896\n",
      "plan :  0.05979449944876855\n",
      "planet :  0.02176986141369121\n",
      "polici :  0.026840223536662797\n",
      "prefer :  0.026840223536662797\n",
      "privat :  0.026840223536662797\n",
      "project :  0.042530359009268374\n",
      "propos :  0.02796783364624306\n",
      "protect :  0.02423115121164948\n",
      "provid :  0.01752849707004061\n",
      "proxima :  0.03303819576921464\n",
      "public :  0.040699225659743966\n",
      "publish :  0.019931499816256186\n",
      "pull :  0.02423115121164948\n",
      "realli :  0.019535998833908295\n",
      "request :  0.05172688646057352\n",
      "retriev :  0.061867610706516696\n",
      "return :  0.02423115121164948\n",
      "rock :  0.025001861939227772\n",
      "rocket :  0.030933805353258348\n",
      "russian :  0.026840223536662797\n",
      "sabotag :  0.036004167476229934\n",
      "said :  0.07137813192006201\n",
      "say :  0.013733527583704335\n",
      "scienc :  0.04462392042799855\n",
      "see :  0.03263393420670292\n",
      "seek :  0.029301513334621065\n",
      "send :  0.04579494304654295\n",
      "sept :  0.02796783364624306\n",
      "shenzhou :  0.03303819576921464\n",
      "show :  0.014090426965706308\n",
      "size :  0.02423115121164948\n",
      "small :  0.020349612829871983\n",
      "solicit :  0.03303819576921464\n",
      "someday :  0.036004167476229934\n",
      "someth :  0.042530359009268374\n",
      "space :  0.24951697328778216\n",
      "spacex :  0.03303819576921464\n",
      "spend :  0.025001861939227772\n",
      "station :  0.026840223536662797\n",
      "steer :  0.030933805353258348\n",
      "steroid :  0.03303819576921464\n",
      "still :  0.01506720727208234\n",
      "stop :  0.047067917106105375\n",
      "strategi :  0.029301513334621065\n",
      "subcommitte :  0.036004167476229934\n",
      "sun :  0.02423115121164948\n",
      "support :  0.04353972282738242\n",
      "system :  0.02586344323028676\n",
      "take :  0.02746705516740867\n",
      "technolog :  0.040699225659743966\n",
      "think :  0.049328420302172604\n",
      "threat :  0.07759032969086029\n",
      "tiangong :  0.03303819576921464\n",
      "time :  0.01176094228847223\n",
      "today :  0.05748236726603368\n",
      "tom :  0.029301513334621065\n",
      "topic :  0.014629972580644685\n",
      "tour :  0.030933805353258348\n",
      "toward :  0.053680447073325595\n",
      "truli :  0.030933805353258348\n",
      "u :  0.0148611376932846\n",
      "underway :  0.036004167476229934\n",
      "unlik :  0.025001861939227772\n",
      "utc :  0.020349612829871983\n",
      "valu :  0.03303819576921464\n",
      "valuabl :  0.030933805353258348\n",
      "video :  0.015722718984343593\n",
      "visit :  0.02586344323028676\n",
      "want :  0.01549762472306581\n",
      "way :  0.013228845674647315\n",
      "wednesday :  0.02423115121164948\n",
      "white :  0.022897471523271474\n",
      "wildest :  0.036004167476229934\n",
      "william :  0.02586344323028676\n",
      "win :  0.042530359009268374\n",
      "within :  0.022311960213999275\n",
      "work :  0.0428268791520372\n",
      "world :  0.011247399098755174\n",
      "worri :  0.030933805353258348\n",
      "would :  0.0428268791520372\n",
      "yesterday :  0.03303819576921464\n"
     ]
    }
   ],
   "source": [
    "for idx, x in enumerate(doc_tfidf[0:1,:][0]):\n",
    "    if x > 0:\n",
    "        print(tfidf.get_feature_names()[idx], \": \", x)"
   ]
  },
  {
   "cell_type": "code",
   "execution_count": 15,
   "metadata": {},
   "outputs": [
    {
     "data": {
      "text/plain": [
       "array([0., 0., 0., ..., 0., 0., 0.])"
      ]
     },
     "execution_count": 15,
     "metadata": {},
     "output_type": "execute_result"
    }
   ],
   "source": [
    "doc_tfidf[0:1,:][0]"
   ]
  },
  {
   "cell_type": "code",
   "execution_count": 16,
   "metadata": {},
   "outputs": [
    {
     "data": {
      "text/plain": [
       "'<html><head><div class=\"article-info\"> <span class=\"byline basic\">Clara Moskowitz</span> for <a href=\"/publishers/space-com/\">Space.com</a> <time datetime=\"Wed, 19 Jun 2013 15:04:30 +0000\">2013-06-19 15:04:30 UTC</time> </div></head><body><h1 class=\"title\">NASA\\'s Grand Challenge: Stop Asteroids From Destroying Earth</h1><figure class=\"article-image\"><img class=\"microcontent\" data-fragment=\"lead-image\" data-image=\"http://i.amz.mshcdn.com/I7b9cUsPSztew7r1WT6_iBLjflo=/950x534/2013%2F06%2F19%2Ffe%2FDactyl.44419.jpg\" data-micro=\"1\" data-url=\"http://mashable.com/2013/06/19/nasa-grand-challenge-asteroid/\" src=\"http://i.amz.mshcdn.com/I7b9cUsPSztew7r1WT6_iBLjflo=/950x534/2013%2F06%2F19%2Ffe%2FDactyl.44419.jpg\"/></figure><article data-channel=\"world\"><section class=\"article-content\"> <p>There may be killer asteroids headed for Earth, and NASA has decided to do something about it. The space agency announced a new \"Grand Challenge\" on June 18 to find all dangerous space rocks and figure out how to stop them from destroying our planet.</p> <p>The new mission builds on projects already underway at NASA, including a plan to <a href=\"http://www.space.com/20591-nasa-asteroid-capture-mission-feasibility.html\" target=\"_blank\">capture an asteroid</a>, pull it in toward the moon and send astronauts to visit it. As part of the Grand Challenge, the agency issued a \"request for information\" today — aiming to solicit ideas from industry, academia and the public on how to improve the asteroid mission plan.</p> <p>\"We\\'re asking for you to think about concepts and different approaches for what we\\'ve described here,\" William Gerstenmaier, NASA\\'s associate administrator for human explorations and operations, said yesterday during a NASA event announcing the initiative. \"We want you to think about other ways of enhancing this to get the most out of it.\"</p> <p><divclass><strong>SEE ALSO: <a href=\"http://www.space.com/20606-nasa-asteroid-capture-mission-images.html\" target=\"_blank\">How It Works: NASA Asteroid-Capture</a></strong><br><br>Responses to the request for information, which also seeks ideas for detecting and mitigating asteroid threats, are due July 18.<br><br>The asteroid-retrieval mission, designed to provide the first deep-space mission for astronauts flying on NASA\\'s Space Launch System rocket and Orion space capsule under development, has come under fire from lawmakers who would prefer that NASA return to the moon.<br><br>A <a href=\"http://www.space.com/21609-nasa-asteroid-capture-mission-congress.html\" target=\"_blank\">draft NASA authorization bill</a> from the House space subcommittee, which is currently in debate, would cancel the mission and steer the agency toward other projects. That bill will be discussed during a hearing Wednesday, June 19 at 10 a.m. EDT.<br><br><divclass><strong>SEE ALSO: <a href=\"http://www.space.com/20606-nasa-asteroid-capture-mission-images.html\" target=\"_blank\">How It Works: NASA Asteroid-Capture Mission in Pictures</a></strong><br><br>But NASA officials defended the asteroid mission today and said they were confident they\\'d win Congress\\' support once they explained its benefits further.<br><br>\"I think that we really, truly are going to be able to show the value of the mission,\" NASA Associate Administrator Lori Garver said today. \"To me, this is something that what we do in this country — we debate how we spend the public\\'s money. This is the beginning of the debate.\"<br><br>Garver also maintained that sending astronauts to an asteroid would not diminish NASA\\'s other science and exploration goals, including another lunar landing.<br><br><divclass><strong>SEE ALSO: <a href=\"http://www.space.com/20601-animation-of-proposed-asteroid-retrieval-mission-video.html\" target=\"_blank\">Animation Of Proposed Asteroid Retrieval Mission</a></strong><br><br>\"This initiative takes nothing from the other valuable work,\" she said. \"This is only a small piece of our overall strategy, but it is an integral piece. It takes nothing from the moon.\"<br><br>Part of NASA\\'s plan to win support for the flight is to link it more closely with the larger goal of protecting Earth from asteroid threats.<br><br>If, someday, humanity discovers an asteroid headed for Earth and manages to alter its course, \"it will be one of the most important accomplishments in human history,\" said Tom Kalil, deputy director for technology and innovation at the White House Office of Science and Technology Policy.<br><br><divclass><strong>SEE ALSO: <a href=\"http://www.space.com/20006-deep-space-missions-private-companies.html\" target=\"_blank\">Wildest Private Deep-Space Mission Ideas: A Countdown</a></strong><br><br>The topic of asteroid threats is more timely than ever, after a meteor exploded over the Russian city of <a href=\"http://www.space.com/19823-russia-meteor-explosion-complete-coverage.html\" target=\"_blank\">Chelyabinsk</a> on Feb. 15 — the same day that the football field-sized <a href=\"http://www.space.com/19646-asteroid-2012-da14-earth-flyby-complete-coverage.html\" target=\"_blank\">asteroid 2012 DA14</a> passed within the moon\\'s orbit of Earth.<br><br><em>Image courtesy of <a href=\"http://www.dvidshub.net/image/707596/ida-and-dactyl#.UcHDQvk4uSo\" target=\"_blank\">NASA</a></em></br></br></br></br></divclass></br></br></br></br></br></br></br></br></divclass></br></br></br></br></br></br></br></br></divclass></br></br></br></br></br></br></br></br></divclass></p> <ul> <li><a href=\"http://www.space.com/34406-spacexs-musk-says-sabotage-unlikely-cause-of-sept-1-explosion-but-still-a-worry.html\">SpaceX\\'s Musk Says Sabotage Unlikely Cause of Sept. 1 Explosion, But Still a Worry</a></li> <li><a href=\"http://www.space.com/34405-proxima-centauri-starspots-stellar-cycle-habitable-planet-alien-life.html\">Proxima Centauri Is Like Our Sun... on Steroids</a></li> <li><a href=\"http://www.space.com/34404-china-launches-shenzhou-11-astronauts-to-space-lab.html\">China Launches Shenzhou-11 Astronauts to Tiangong-2 Space Lab</a></li> <li><a href=\"http://www.space.com/34403-space-station-mockup-in-houston-astronaut-guided-tour-video.html\">Space Station Mockup In Houston - Astronaut Guided Tour | Video</a></li> </ul> <p> This article originally published at Space.com <a href=\"http://www.space.com/21610-nasa-asteroid-threat-grand-challenge.html?\">here</a> </p> </section></article><footer class=\"article-topics\"> Topics: <a href=\"/category/asteroid/\">Asteroid</a>, <a href=\"/category/asteroids/\">Asteroids</a>, <a href=\"/category/challenge/\">challenge</a>, <a href=\"/category/earth/\">Earth</a>, <a href=\"/category/space/\">Space</a>, <a href=\"/category/us/\">U.S.</a>, <a href=\"/category/world/\">World</a> </footer></body></html>'"
      ]
     },
     "execution_count": 16,
     "metadata": {},
     "output_type": "execute_result"
    }
   ],
   "source": [
    "doc[0]"
   ]
  },
  {
   "cell_type": "code",
   "execution_count": 51,
   "metadata": {},
   "outputs": [],
   "source": [
    "text = BeautifulSoup(doc[0], 'html.parser').select('time')[0].text.strip()\n",
    "    \n",
    "# regex for matching emoticons, keep emoticons, ex: :), :-P, :-D\n",
    "r = '(?::|;|=|X)(?:-)?(?:\\)|\\(|D|P)'\n",
    "emoticons = re.findall(r, text)\n",
    "text = re.sub(r, '', text)\n",
    "\n",
    "# convert to lowercase and append all emoticons behind (with space in between)\n",
    "# replace('-','') removes nose of emoticons\n",
    "text = re.sub('[\\W]+', ' ', text.lower()) + ' ' + ' '.join(emoticons).replace('-','')"
   ]
  },
  {
   "cell_type": "code",
   "execution_count": 52,
   "metadata": {},
   "outputs": [
    {
     "data": {
      "text/plain": [
       "'2013 06 19 15 04 30 utc '"
      ]
     },
     "execution_count": 52,
     "metadata": {},
     "output_type": "execute_result"
    }
   ],
   "source": [
    "text"
   ]
  },
  {
   "cell_type": "code",
   "execution_count": 46,
   "metadata": {},
   "outputs": [
    {
     "name": "stdout",
     "output_type": "stream",
     "text": [
      "NASA's Grand Challenge: Stop Asteroids From Destroying Earth\n",
      "2013-06-19 15:04:30 UTC\n",
      "NASA's Grand Challenge: Stop Asteroids From Destroying Earth There may be killer asteroids headed for Earth, and NASA has decided to do something about it. The space agency announced a new \"Grand Challenge\" on June 18 to find all dangerous space rocks and figure out how to stop them from destroying our planet. The new mission builds on projects already underway at NASA, including a plan to capture an asteroid, pull it in toward the moon and send astronauts to visit it. As part of the Grand Challenge, the agency issued a \"request for information\" today — aiming to solicit ideas from industry, academia and the public on how to improve the asteroid mission plan. \"We're asking for you to think about concepts and different approaches for what we've described here,\" William Gerstenmaier, NASA's associate administrator for human explorations and operations, said yesterday during a NASA event announcing the initiative. \"We want you to think about other ways of enhancing this to get the most out of it.\" SEE ALSO: How It Works: NASA Asteroid-CaptureResponses to the request for information, which also seeks ideas for detecting and mitigating asteroid threats, are due July 18.The asteroid-retrieval mission, designed to provide the first deep-space mission for astronauts flying on NASA's Space Launch System rocket and Orion space capsule under development, has come under fire from lawmakers who would prefer that NASA return to the moon.A draft NASA authorization bill from the House space subcommittee, which is currently in debate, would cancel the mission and steer the agency toward other projects. That bill will be discussed during a hearing Wednesday, June 19 at 10 a.m. EDT.SEE ALSO: How It Works: NASA Asteroid-Capture Mission in PicturesBut NASA officials defended the asteroid mission today and said they were confident they'd win Congress' support once they explained its benefits further.\"I think that we really, truly are going to be able to show the value of the mission,\" NASA Associate Administrator Lori Garver said today. \"To me, this is something that what we do in this country — we debate how we spend the public's money. This is the beginning of the debate.\"Garver also maintained that sending astronauts to an asteroid would not diminish NASA's other science and exploration goals, including another lunar landing.SEE ALSO: Animation Of Proposed Asteroid Retrieval Mission\"This initiative takes nothing from the other valuable work,\" she said. \"This is only a small piece of our overall strategy, but it is an integral piece. It takes nothing from the moon.\"Part of NASA's plan to win support for the flight is to link it more closely with the larger goal of protecting Earth from asteroid threats.If, someday, humanity discovers an asteroid headed for Earth and manages to alter its course, \"it will be one of the most important accomplishments in human history,\" said Tom Kalil, deputy director for technology and innovation at the White House Office of Science and Technology Policy.SEE ALSO: Wildest Private Deep-Space Mission Ideas: A CountdownThe topic of asteroid threats is more timely than ever, after a meteor exploded over the Russian city of Chelyabinsk on Feb. 15 — the same day that the football field-sized asteroid 2012 DA14 passed within the moon's orbit of Earth.Image courtesy of NASA  SpaceX's Musk Says Sabotage Unlikely Cause of Sept. 1 Explosion, But Still a Worry Proxima Centauri Is Like Our Sun... on Steroids China Launches Shenzhou-11 Astronauts to Tiangong-2 Space Lab Space Station Mockup In Houston - Astronaut Guided Tour | Video   This article originally published at Space.com here   Topics: Asteroid, Asteroids, challenge, Earth, Space, U.S., World\n"
     ]
    }
   ],
   "source": [
    "print(text.select('h1')[0].text.strip())\n",
    "print(text.select('time')[0].text.strip())\n",
    "print(text.select('body')[0].text.strip())"
   ]
  },
  {
   "cell_type": "markdown",
   "metadata": {},
   "source": [
    "# Competition"
   ]
  },
  {
   "cell_type": "code",
   "execution_count": null,
   "metadata": {},
   "outputs": [],
   "source": []
  }
 ],
 "metadata": {
  "kernelspec": {
   "display_name": "Python 3",
   "language": "python",
   "name": "python3"
  },
  "language_info": {
   "codemirror_mode": {
    "name": "ipython",
    "version": 3
   },
   "file_extension": ".py",
   "mimetype": "text/x-python",
   "name": "python",
   "nbconvert_exporter": "python",
   "pygments_lexer": "ipython3",
   "version": "3.8.5"
  }
 },
 "nbformat": 4,
 "nbformat_minor": 5
}
