{
 "cells": [
  {
   "cell_type": "markdown",
   "id": "853f8859",
   "metadata": {},
   "source": [
    "# Sentiment Analysis\n",
    "In this assignment, we will train a seq2seq model with **Luong Attention** to solve a *sentiment analysis* task with the IMDB dataset. The formula of score function in Luong Attention is:\n",
    "\n",
    "$\\text{score}(s_t, h_i) = s_t^T W_a h_i$\n",
    "\n",
    "where \\\n",
    "$h_i$: hidden state of the encoder \\\n",
    "$s_t$: hidden state of the decoder \\\n",
    "$W_a$: the trainable weights\n",
    "\n",
    "This dataset contains 50,000 sentences with binary labels (positive and negative). Here we split the data into training and test sets. It is worth mentioning that different from the neural machine translation, the decoder used for sentiment analysis is **4-fully-connected layers**, rather than GRU layer since here we want to make a binary classification."
   ]
  },
  {
   "cell_type": "code",
   "execution_count": 1,
   "id": "b578c58d",
   "metadata": {},
   "outputs": [],
   "source": [
    "import tensorflow as tf\n",
    "import pandas as pd\n",
    "import re\n",
    "import numpy as np\n",
    "import os\n",
    "import time\n",
    "from sklearn.model_selection import train_test_split"
   ]
  },
  {
   "cell_type": "code",
   "execution_count": 2,
   "id": "af7ab9d8",
   "metadata": {},
   "outputs": [
    {
     "name": "stdout",
     "output_type": "stream",
     "text": [
      "1 Physical GPUs, 1 Logical GPUs\n"
     ]
    }
   ],
   "source": [
    "gpus = tf.config.experimental.list_physical_devices('GPU')\n",
    "if gpus:\n",
    "    try:\n",
    "        # Restrict TensorFlow to only use the first GPU\n",
    "        tf.config.experimental.set_visible_devices(gpus[0], 'GPU')\n",
    "\n",
    "        # Currently, memory growth needs to be the same across GPUs\n",
    "        for gpu in gpus:\n",
    "            tf.config.experimental.set_memory_growth(gpu, True)\n",
    "        logical_gpus = tf.config.experimental.list_logical_devices('GPU')\n",
    "        print(len(gpus), \"Physical GPUs,\", len(logical_gpus), \"Logical GPUs\")\n",
    "    except RuntimeError as e:\n",
    "        # Memory growth must be set before GPUs have been initialized\n",
    "        print(e)"
   ]
  },
  {
   "cell_type": "code",
   "execution_count": 3,
   "id": "267edfe5",
   "metadata": {},
   "outputs": [],
   "source": [
    "# load the dataset\n",
    "movie_reviews = pd.read_csv(\"./data/IMDB Dataset.csv\")"
   ]
  },
  {
   "cell_type": "markdown",
   "id": "49ddcc16",
   "metadata": {},
   "source": [
    "## Data preprocessing"
   ]
  },
  {
   "cell_type": "code",
   "execution_count": 4,
   "id": "b22ae7e5",
   "metadata": {},
   "outputs": [
    {
     "data": {
      "text/plain": [
       "False"
      ]
     },
     "execution_count": 4,
     "metadata": {},
     "output_type": "execute_result"
    }
   ],
   "source": [
    "# check if there is any null value in the dataset\n",
    "movie_reviews.isnull().values.any()"
   ]
  },
  {
   "cell_type": "code",
   "execution_count": 5,
   "id": "b1414fd9",
   "metadata": {},
   "outputs": [
    {
     "data": {
      "text/plain": [
       "(50000, 2)"
      ]
     },
     "execution_count": 5,
     "metadata": {},
     "output_type": "execute_result"
    }
   ],
   "source": [
    "# show the size of the dataset\n",
    "movie_reviews.shape"
   ]
  },
  {
   "cell_type": "code",
   "execution_count": 6,
   "id": "57860c5e",
   "metadata": {},
   "outputs": [
    {
     "data": {
      "text/html": [
       "<div>\n",
       "<style scoped>\n",
       "    .dataframe tbody tr th:only-of-type {\n",
       "        vertical-align: middle;\n",
       "    }\n",
       "\n",
       "    .dataframe tbody tr th {\n",
       "        vertical-align: top;\n",
       "    }\n",
       "\n",
       "    .dataframe thead th {\n",
       "        text-align: right;\n",
       "    }\n",
       "</style>\n",
       "<table border=\"1\" class=\"dataframe\">\n",
       "  <thead>\n",
       "    <tr style=\"text-align: right;\">\n",
       "      <th></th>\n",
       "      <th>review</th>\n",
       "      <th>sentiment</th>\n",
       "    </tr>\n",
       "  </thead>\n",
       "  <tbody>\n",
       "    <tr>\n",
       "      <th>0</th>\n",
       "      <td>One of the other reviewers has mentioned that ...</td>\n",
       "      <td>positive</td>\n",
       "    </tr>\n",
       "    <tr>\n",
       "      <th>1</th>\n",
       "      <td>A wonderful little production. &lt;br /&gt;&lt;br /&gt;The...</td>\n",
       "      <td>positive</td>\n",
       "    </tr>\n",
       "    <tr>\n",
       "      <th>2</th>\n",
       "      <td>I thought this was a wonderful way to spend ti...</td>\n",
       "      <td>positive</td>\n",
       "    </tr>\n",
       "    <tr>\n",
       "      <th>3</th>\n",
       "      <td>Basically there's a family where a little boy ...</td>\n",
       "      <td>negative</td>\n",
       "    </tr>\n",
       "    <tr>\n",
       "      <th>4</th>\n",
       "      <td>Petter Mattei's \"Love in the Time of Money\" is...</td>\n",
       "      <td>positive</td>\n",
       "    </tr>\n",
       "  </tbody>\n",
       "</table>\n",
       "</div>"
      ],
      "text/plain": [
       "                                              review sentiment\n",
       "0  One of the other reviewers has mentioned that ...  positive\n",
       "1  A wonderful little production. <br /><br />The...  positive\n",
       "2  I thought this was a wonderful way to spend ti...  positive\n",
       "3  Basically there's a family where a little boy ...  negative\n",
       "4  Petter Mattei's \"Love in the Time of Money\" is...  positive"
      ]
     },
     "execution_count": 6,
     "metadata": {},
     "output_type": "execute_result"
    }
   ],
   "source": [
    "# show the first five data in the dataset\n",
    "movie_reviews.head()"
   ]
  },
  {
   "cell_type": "code",
   "execution_count": 7,
   "id": "6887186d",
   "metadata": {},
   "outputs": [
    {
     "data": {
      "text/plain": [
       "\"One of the other reviewers has mentioned that after watching just 1 Oz episode you'll be hooked. They are right, as this is exactly what happened with me.<br /><br />The first thing that struck me about Oz was its brutality and unflinching scenes of violence, which set in right from the word GO. Trust me, this is not a show for the faint hearted or timid. This show pulls no punches with regards to drugs, sex or violence. Its is hardcore, in the classic use of the word.<br /><br />It is called OZ as that is the nickname given to the Oswald Maximum Security State Penitentary. It focuses mainly on Emerald City, an experimental section of the prison where all the cells have glass fronts and face inwards, so privacy is not high on the agenda. Em City is home to many..Aryans, Muslims, gangstas, Latinos, Christians, Italians, Irish and more....so scuffles, death stares, dodgy dealings and shady agreements are never far away.<br /><br />I would say the main appeal of the show is due to the fact that it goes where other shows wouldn't dare. Forget pretty pictures painted for mainstream audiences, forget charm, forget romance...OZ doesn't mess around. The first episode I ever saw struck me as so nasty it was surreal, I couldn't say I was ready for it, but as I watched more, I developed a taste for Oz, and got accustomed to the high levels of graphic violence. Not just violence, but injustice (crooked guards who'll be sold out for a nickel, inmates who'll kill on order and get away with it, well mannered, middle class inmates being turned into prison bitches due to their lack of street skills or prison experience) Watching Oz, you may become comfortable with what is uncomfortable viewing....thats if you can get in touch with your darker side.\""
      ]
     },
     "execution_count": 7,
     "metadata": {},
     "output_type": "execute_result"
    }
   ],
   "source": [
    "movie_reviews[\"review\"][0]"
   ]
  },
  {
   "cell_type": "code",
   "execution_count": 8,
   "id": "d91ed1a6",
   "metadata": {},
   "outputs": [],
   "source": [
    "TAG_RE = re.compile(r'<[^>]+>')\n",
    "\n",
    "def remove_tags(text):\n",
    "    return TAG_RE.sub('', text)\n",
    "\n",
    "def preprocess_text(sen):\n",
    "    # Removing html tags\n",
    "    sentence = remove_tags(sen)\n",
    "\n",
    "    # Remove punctuations and numbers\n",
    "    sentence = re.sub('[^a-zA-Z]', ' ', sentence)\n",
    "\n",
    "    # Single character removal\n",
    "    sentence = re.sub(r\"\\s+[a-zA-Z]\\s+\", ' ', sentence)\n",
    "\n",
    "    # Removing multiple spaces\n",
    "    sentence = re.sub(r'\\s+', ' ', sentence)\n",
    "\n",
    "    return sentence"
   ]
  },
  {
   "cell_type": "code",
   "execution_count": 9,
   "id": "73d0e186",
   "metadata": {},
   "outputs": [],
   "source": [
    "X = []\n",
    "sentences = list(movie_reviews['review'])\n",
    "for sen in sentences:\n",
    "    X.append(preprocess_text(sen))\n",
    "\n",
    "# replace the positive with 1, replace the negative with 0\n",
    "y = movie_reviews['sentiment']\n",
    "y = np.array(list(map(lambda x: 1 if x == \"positive\" else 0, y)))"
   ]
  },
  {
   "cell_type": "code",
   "execution_count": 10,
   "id": "8d269c76",
   "metadata": {},
   "outputs": [
    {
     "name": "stdout",
     "output_type": "stream",
     "text": [
      "# training data: 40000\n",
      "# test data: 10000\n"
     ]
    }
   ],
   "source": [
    "# Split the training dataset and test dataset\n",
    "X_train, X_test, y_train, y_test = train_test_split(X, y, test_size=0.20, random_state=42)\n",
    "print(\"# training data: {:d}\\n# test data: {:d}\".format(len(X_train), len(X_test)))"
   ]
  },
  {
   "cell_type": "code",
   "execution_count": 11,
   "id": "feb0f319",
   "metadata": {},
   "outputs": [],
   "source": [
    "tokenizer = tf.keras.preprocessing.text.Tokenizer(num_words=10000)\n",
    "tokenizer.fit_on_texts(X_train)\n",
    "\n",
    "X_train = tokenizer.texts_to_sequences(X_train)\n",
    "X_test = tokenizer.texts_to_sequences(X_test)\n",
    "\n",
    "max_len = 100\n",
    "# padding sentences to the same length\n",
    "X_train = tf.keras.preprocessing.sequence.pad_sequences(X_train, padding='post', maxlen=max_len)\n",
    "X_test = tf.keras.preprocessing.sequence.pad_sequences(X_test, padding='post', maxlen=max_len)\n"
   ]
  },
  {
   "cell_type": "code",
   "execution_count": 12,
   "id": "17adb186",
   "metadata": {},
   "outputs": [
    {
     "data": {
      "text/plain": [
       "array([   1,  296,  140, 2854,    2,  405,  614,    1,  263,    5, 3514,\n",
       "        977,    4,   25,   37,   11, 1237,  215,   62,    2,   35,    5,\n",
       "         27,  217,   24,  189, 1430,    7, 1068,   15, 4868,   81,    1,\n",
       "        221,   63,  351,   64,   52,   24,    4, 3547,   13,    6,   19,\n",
       "        192,    4, 8148,  859, 3430, 1720,   17,   23,    4,  158,  194,\n",
       "        175,  106,    9, 1604,  461,   71,  218,    4,  321,    2, 3431,\n",
       "         31,   20,   47,   68, 1844, 4668,   11,    6, 1365,    8,   16,\n",
       "          5, 3475, 1990,   14,   59,    1, 2380,  460,  518,    2,  170,\n",
       "       2524, 2698, 1745,    4,  573,    6,   33,    1, 3750,  198,  345,\n",
       "       3812])"
      ]
     },
     "execution_count": 12,
     "metadata": {},
     "output_type": "execute_result"
    }
   ],
   "source": [
    "# show the preprocessed data\n",
    "X_train[0]"
   ]
  },
  {
   "cell_type": "code",
   "execution_count": 15,
   "id": "86da143c",
   "metadata": {},
   "outputs": [
    {
     "data": {
      "text/plain": [
       "(40000, 100)"
      ]
     },
     "execution_count": 15,
     "metadata": {},
     "output_type": "execute_result"
    }
   ],
   "source": [
    "X_train.shape"
   ]
  },
  {
   "cell_type": "code",
   "execution_count": 13,
   "id": "82bc36ca",
   "metadata": {},
   "outputs": [
    {
     "data": {
      "text/plain": [
       "(TensorShape([128, 100]), TensorShape([128]))"
      ]
     },
     "execution_count": 13,
     "metadata": {},
     "output_type": "execute_result"
    }
   ],
   "source": [
    "BUFFER_SIZE = len(X_train)\n",
    "BATCH_SIZE = 128\n",
    "steps_per_epoch = len(X_train)//BATCH_SIZE\n",
    "embedding_dim = 256\n",
    "units = 1024\n",
    "# only reserve 10000 words\n",
    "vocab_size = 10000\n",
    "\n",
    "dataset = tf.data.Dataset.from_tensor_slices((X_train, y_train)).shuffle(BUFFER_SIZE)\n",
    "dataset = dataset.batch(BATCH_SIZE, drop_remainder=True)\n",
    "test_dataset = tf.data.Dataset.from_tensor_slices((X_test, y_test))\n",
    "test_dataset = test_dataset.batch(BATCH_SIZE, drop_remainder=False)\n",
    "\n",
    "example_input_batch, example_target_batch = next(iter(dataset))\n",
    "example_input_batch.shape, example_target_batch.shape\n"
   ]
  },
  {
   "cell_type": "code",
   "execution_count": 16,
   "id": "29208d09",
   "metadata": {},
   "outputs": [],
   "source": [
    "class Encoder(tf.keras.Model):\n",
    "    def __init__(self, vocab_size, embedding_dim, enc_units, batch_sz):\n",
    "        # vacab_size=10000, embedding_dim=256 enc_units=1024 batch_sz=64\n",
    "        super(Encoder, self).__init__()\n",
    "        self.batch_sz = batch_sz\n",
    "        self.enc_units = enc_units\n",
    "        self.embedding = tf.keras.layers.Embedding(vocab_size, embedding_dim)\n",
    "        self.gru = tf.keras.layers.GRU(self.enc_units,\n",
    "                                       return_sequences=True,\n",
    "                                       return_state=True,\n",
    "                                       recurrent_activation='sigmoid',\n",
    "                                       recurrent_initializer='glorot_uniform')\n",
    "        \n",
    "    def call(self, x, hidden):\n",
    "        # x is the training data with shape == (batch_size，max_length)  -> (128, 100)\n",
    "        # which means there are batch_size sentences in one batch, the length of each sentence is max_length\n",
    "        # hidden state shape == (batch_size, units) -> (128, 1024)\n",
    "        # after embedding, x shape == (batch_size, max_length, embedding_dim) -> (128, 100, 256)\n",
    "        x = self.embedding(x)\n",
    "        \n",
    "        # output contains the state(in GRU, the hidden state and the output are same) from all timestamps,\n",
    "        # output shape == (batch_size, max_length, units) -> (128, 100, 1024)\n",
    "        # state is the hidden state of the last timestamp, shape == (batch_size, units) -> (128, 1024)\n",
    "        output, state = self.gru(x, initial_state=hidden)\n",
    "        \n",
    "        return output, state\n",
    "\n",
    "    def initialize_hidden_state(self):\n",
    "        # initialize the first state of the gru,  shape == (batch_size, units) -> (128, 1024)\n",
    "        return tf.zeros((self.batch_sz, self.enc_units))"
   ]
  },
  {
   "cell_type": "code",
   "execution_count": 17,
   "id": "ee0ef8dd",
   "metadata": {},
   "outputs": [
    {
     "name": "stdout",
     "output_type": "stream",
     "text": [
      "Encoder output shape: (batch size, sequence length, units) (128, 100, 1024)\n",
      "Encoder Hidden state shape: (batch size, units) (128, 1024)\n",
      "tf.Tensor([ True  True  True ...  True  True  True], shape=(1024,), dtype=bool)\n"
     ]
    }
   ],
   "source": [
    "encoder = Encoder(vocab_size, embedding_dim, units, BATCH_SIZE)\n",
    "\n",
    "# sample input\n",
    "sample_hidden = encoder.initialize_hidden_state()\n",
    "sample_output, sample_hidden = encoder(example_input_batch, sample_hidden)\n",
    "print('Encoder output shape: (batch size, sequence length, units) {}'.format(sample_output.shape))\n",
    "print('Encoder Hidden state shape: (batch size, units) {}'.format(sample_hidden.shape))\n",
    "# the output and the hidden state of GRU is equal\n",
    "print(sample_output[-1, -1, :] == sample_hidden[-1, :])\n"
   ]
  },
  {
   "cell_type": "markdown",
   "id": "a8d25ba5",
   "metadata": {},
   "source": [
    "\n",
    "$\\text{score}(s_t, h_i) = s_t^T W_a h_i$\n",
    "\n",
    "where \\\n",
    "$h_i$: hidden state of the encoder \\\n",
    "$s_t$: hidden state of the decoder \\\n",
    "$W_a$: the trainable weights\n"
   ]
  },
  {
   "cell_type": "code",
   "execution_count": 90,
   "id": "5f5dcae9",
   "metadata": {},
   "outputs": [
    {
     "name": "stdout",
     "output_type": "stream",
     "text": [
      "(128, 1024, 100)\n",
      "(128, 1024, 1)\n",
      "(128, 100, 1)\n"
     ]
    }
   ],
   "source": [
    "# test with logic \n",
    "print(tf.transpose(sample_output, perm=[0, 2, 1]).shape)\n",
    "print(tf.expand_dims(sample_hidden, 2).shape)\n",
    "\n",
    "hidden_with_time_axis = tf.expand_dims(sample_hidden, 1)\n",
    "weights = w1(sample_output) + w2(hidden_with_time_axis)\n",
    "\n",
    "# 128, 100, 1024 * 128, 100, 1024 = 128 * 100 * 1024\n",
    "score = sample_output * weights\n",
    "\n",
    "# (128, 100, 1024) * (128, 1024, 1) = 128, 100, 1\n",
    "score = tf.matmul(score, tf.transpose(hidden_with_time_axis, perm=[0, 2, 1]))\n",
    "\n",
    "print(score.shape)\n",
    "\n",
    "del hidden_with_time_axis\n",
    "del weights\n",
    "del score"
   ]
  },
  {
   "cell_type": "code",
   "execution_count": 102,
   "id": "5f2e6250",
   "metadata": {},
   "outputs": [],
   "source": [
    "class LuongAttention(tf.keras.Model):\n",
    "    def __init__(self, units):\n",
    "        super(LuongAttention, self).__init__()\n",
    "        # TODO: Complete the function.\n",
    "        self.W1 = tf.keras.layers.Dense(units)\n",
    "        self.W2 = tf.keras.layers.Dense(units)\n",
    "\n",
    "    def call(self, query, values):\n",
    "        # TODO: Implement the Luong attention.\n",
    "        hidden_with_time_axis = tf.expand_dims(query, 1)\n",
    "        \n",
    "        # Weights: (128, 100, 1024)\n",
    "        weights = self.W1(values) + self.W2(hidden_with_time_axis)\n",
    "        \n",
    "#         print(values.shape) # (128, 100, 1024)\n",
    "#         print(weights.shape) # 128, 100, 1024\n",
    "#         print(hidden_with_time_axis.shape) # (128, 1, 1024)\n",
    "\n",
    "        # 128, 100, 1024 * 128, 100, 1024 = 128 * 100 * 1024\n",
    "        score = values * weights\n",
    "\n",
    "        # (128, 100, 1024) * (128, 1024, 1)\n",
    "        score = tf.matmul(score, tf.transpose(hidden_with_time_axis, perm=[0, 2, 1]))\n",
    "        \n",
    "        # attention_weights shape == (batch_size, max_length, 1)\n",
    "        attention_weights = tf.nn.softmax(score, axis=1)\n",
    "\n",
    "        # context_vector shape == (batch_size, max_length, hidden_size)\n",
    "        context_vector = attention_weights * values\n",
    "        \n",
    "        # context_vector shape after sum == (batch_size, hidden_size)\n",
    "        context_vector = tf.reduce_sum(context_vector, axis=1)\n",
    "\n",
    "        return context_vector, attention_weights"
   ]
  },
  {
   "cell_type": "code",
   "execution_count": 103,
   "id": "d509d8af",
   "metadata": {},
   "outputs": [],
   "source": [
    "class Decoder(tf.keras.Model):\n",
    "    def __init__(self, dec_units, batch_sz):\n",
    "        super(Decoder, self).__init__()\n",
    "        self.batch_sz = batch_sz\n",
    "        self.dec_units = dec_units\n",
    "        \n",
    "        # pass through four fully connected layers, the model will return \n",
    "        # the probability of the positivity of the sentence\n",
    "        self.fc_1 = tf.keras.layers.Dense(2048)\n",
    "        self.fc_2 = tf.keras.layers.Dense(512)\n",
    "        self.fc_3 = tf.keras.layers.Dense(64)\n",
    "        self.fc_4 = tf.keras.layers.Dense(1)\n",
    "\n",
    "        # used for attention\n",
    "        self.attention = LuongAttention(self.dec_units)\n",
    "\n",
    "    def call(self, hidden, enc_output):\n",
    "        context_vector, attention_weights = self.attention(hidden, enc_output)\n",
    "        output = self.fc_1(context_vector)\n",
    "        output = self.fc_2(output)\n",
    "        output = self.fc_3(output)\n",
    "        output = self.fc_4(output)\n",
    "\n",
    "        return output, attention_weights"
   ]
  },
  {
   "cell_type": "code",
   "execution_count": 104,
   "id": "87d7241f",
   "metadata": {},
   "outputs": [
    {
     "name": "stdout",
     "output_type": "stream",
     "text": [
      "Decoder output shape: (batch_size, vocab size) (128, 1)\n"
     ]
    }
   ],
   "source": [
    "decoder = Decoder(units, BATCH_SIZE)\n",
    "sample_decoder_output, _ = decoder(sample_hidden, sample_output)\n",
    "print('Decoder output shape: (batch_size, vocab size) {}'.format(sample_decoder_output.shape))"
   ]
  },
  {
   "cell_type": "code",
   "execution_count": 105,
   "id": "fa27823d",
   "metadata": {},
   "outputs": [],
   "source": [
    "optimizer = tf.keras.optimizers.Adam()\n",
    "loss_object = tf.keras.losses.BinaryCrossentropy(from_logits=True)\n",
    "\n",
    "def loss_function(real, pred):\n",
    "    loss_ = loss_object(real, pred)\n",
    "    return tf.reduce_mean(loss_)"
   ]
  },
  {
   "cell_type": "code",
   "execution_count": 106,
   "id": "e2c1470f",
   "metadata": {},
   "outputs": [],
   "source": [
    "checkpoint_dir = './checkpoints/sentiment-analysis'\n",
    "checkpoint_prefix = os.path.join(checkpoint_dir, \"ckpt\")\n",
    "checkpoint = tf.train.Checkpoint(optimizer=optimizer,\n",
    "                                 encoder=encoder,\n",
    "                                 decoder=decoder)"
   ]
  },
  {
   "cell_type": "code",
   "execution_count": 107,
   "id": "99009e42",
   "metadata": {},
   "outputs": [],
   "source": [
    "@tf.function\n",
    "def train_step(inp, targ, enc_hidden):\n",
    "    loss = 0\n",
    "\n",
    "    with tf.GradientTape() as tape:\n",
    "        enc_output, enc_hidden = encoder(inp, enc_hidden)\n",
    "\n",
    "        # passing enc_output to the decoder\n",
    "        predictions, _ = decoder(enc_hidden, enc_output)\n",
    "\n",
    "        loss = loss_function(targ, predictions)\n",
    "\n",
    "    # collect all trainable variables\n",
    "    variables = encoder.trainable_variables + decoder.trainable_variables\n",
    "\n",
    "    # calculate the gradients for the whole variables\n",
    "    gradients = tape.gradient(loss, variables)\n",
    "\n",
    "    # apply the gradients on the variables\n",
    "    optimizer.apply_gradients(zip(gradients, variables))\n",
    "\n",
    "    return loss\n"
   ]
  },
  {
   "cell_type": "code",
   "execution_count": 108,
   "id": "3b1090d4",
   "metadata": {},
   "outputs": [
    {
     "name": "stdout",
     "output_type": "stream",
     "text": [
      "Epoch 1 Batch 0 Loss 0.7042\n",
      "Epoch 1 Batch 100 Loss 0.0043\n",
      "Epoch 1 Batch 200 Loss 0.0054\n",
      "Epoch 1 Batch 300 Loss 0.1410\n",
      "Epoch 1 Loss 0.0438\n",
      "Time taken for 1 epoch 58.33118557929993 sec\n",
      "\n",
      "Epoch 2 Batch 0 Loss 0.0104\n",
      "Epoch 2 Batch 100 Loss 0.0009\n",
      "Epoch 2 Batch 200 Loss 0.0073\n",
      "Epoch 2 Batch 300 Loss 0.0001\n",
      "Epoch 2 Loss 0.0125\n",
      "Time taken for 1 epoch 57.61196446418762 sec\n",
      "\n",
      "Epoch 3 Batch 0 Loss 0.1278\n",
      "Epoch 3 Batch 100 Loss 0.0127\n",
      "Epoch 3 Batch 200 Loss 0.0225\n",
      "Epoch 3 Batch 300 Loss 0.0017\n",
      "Epoch 3 Loss 0.0216\n",
      "Time taken for 1 epoch 57.28119230270386 sec\n",
      "\n",
      "Epoch 4 Batch 0 Loss 0.0004\n",
      "Epoch 4 Batch 100 Loss 0.0086\n",
      "Epoch 4 Batch 200 Loss 0.0037\n",
      "Epoch 4 Batch 300 Loss 0.0132\n",
      "Epoch 4 Loss 0.0157\n",
      "Time taken for 1 epoch 57.739649295806885 sec\n",
      "\n",
      "Epoch 5 Batch 0 Loss 0.0004\n",
      "Epoch 5 Batch 100 Loss 0.0003\n",
      "Epoch 5 Batch 200 Loss 0.0027\n",
      "Epoch 5 Batch 300 Loss 0.0029\n",
      "Epoch 5 Loss 0.0056\n",
      "Time taken for 1 epoch 57.83577346801758 sec\n",
      "\n",
      "Epoch 6 Batch 0 Loss 0.0017\n",
      "Epoch 6 Batch 100 Loss 0.0008\n",
      "Epoch 6 Batch 200 Loss 0.0115\n",
      "Epoch 6 Batch 300 Loss 0.0065\n",
      "Epoch 6 Loss 0.0205\n",
      "Time taken for 1 epoch 59.1868257522583 sec\n",
      "\n",
      "Epoch 7 Batch 0 Loss 0.0963\n",
      "Epoch 7 Batch 100 Loss 0.0184\n",
      "Epoch 7 Batch 200 Loss 0.0172\n",
      "Epoch 7 Batch 300 Loss 0.0001\n",
      "Epoch 7 Loss 0.0140\n",
      "Time taken for 1 epoch 58.70500302314758 sec\n",
      "\n",
      "Epoch 8 Batch 0 Loss 0.0001\n",
      "Epoch 8 Batch 100 Loss 0.0014\n",
      "Epoch 8 Batch 200 Loss 0.0001\n",
      "Epoch 8 Batch 300 Loss 0.0001\n",
      "Epoch 8 Loss 0.0027\n",
      "Time taken for 1 epoch 58.93771409988403 sec\n",
      "\n",
      "Epoch 9 Batch 0 Loss 0.0002\n",
      "Epoch 9 Batch 100 Loss 0.0010\n",
      "Epoch 9 Batch 200 Loss 0.0011\n",
      "Epoch 9 Batch 300 Loss 0.0020\n",
      "Epoch 9 Loss 0.0060\n",
      "Time taken for 1 epoch 58.10981750488281 sec\n",
      "\n",
      "Epoch 10 Batch 0 Loss 0.0078\n",
      "Epoch 10 Batch 100 Loss 0.0114\n",
      "Epoch 10 Batch 200 Loss 0.0007\n",
      "Epoch 10 Batch 300 Loss 0.0137\n",
      "Epoch 10 Loss 0.0093\n",
      "Time taken for 1 epoch 58.07193207740784 sec\n",
      "\n"
     ]
    }
   ],
   "source": [
    "# set the epochs for training\n",
    "EPOCHS = 10\n",
    "\n",
    "for epoch in range(EPOCHS):\n",
    "    start = time.time()\n",
    "\n",
    "    # get the initial hidden state of gru\n",
    "    enc_hidden = encoder.initialize_hidden_state()\n",
    "    total_loss = 0\n",
    "\n",
    "    for (batch, (inp, targ)) in enumerate(dataset.take(steps_per_epoch)):\n",
    "        batch_loss = train_step(inp, targ, enc_hidden)\n",
    "        total_loss += batch_loss\n",
    "\n",
    "        if batch % 100 == 0:\n",
    "            print('Epoch {} Batch {} Loss {:.4f}'.format(epoch + 1,\n",
    "                                                         batch,\n",
    "                                                         batch_loss.numpy()))\n",
    "    # saving (checkpoint) the model every 2 epochs\n",
    "    if (epoch + 1) % 2 == 0:\n",
    "        checkpoint.save(file_prefix=checkpoint_prefix)\n",
    "\n",
    "    print('Epoch {} Loss {:.4f}'.format(epoch + 1,\n",
    "                                        total_loss / steps_per_epoch))\n",
    "    print('Time taken for 1 epoch {} sec\\n'.format(time.time() - start))\n"
   ]
  },
  {
   "cell_type": "code",
   "execution_count": 109,
   "id": "f60fdda5",
   "metadata": {},
   "outputs": [
    {
     "name": "stdout",
     "output_type": "stream",
     "text": [
      "./checkpoints/sentiment-analysis\\ckpt-5\n"
     ]
    },
    {
     "data": {
      "text/plain": [
       "<tensorflow.python.training.tracking.util.CheckpointLoadStatus at 0x18815716e50>"
      ]
     },
     "execution_count": 109,
     "metadata": {},
     "output_type": "execute_result"
    }
   ],
   "source": [
    "print(tf.train.latest_checkpoint(checkpoint_dir))\n",
    "# restoring the latest checkpoint in checkpoint_dir\n",
    "checkpoint.restore(tf.train.latest_checkpoint(checkpoint_dir))"
   ]
  },
  {
   "cell_type": "code",
   "execution_count": 110,
   "id": "78a6e55e",
   "metadata": {},
   "outputs": [],
   "source": [
    "@tf.function\n",
    "def test_step(inp, enc_hidden):\n",
    "    with tf.GradientTape() as tape:\n",
    "        enc_output, enc_hidden = encoder(inp, enc_hidden)\n",
    "        predictions, attention_weights = decoder(enc_hidden, enc_output)\n",
    "    return predictions, attention_weights\n"
   ]
  },
  {
   "cell_type": "code",
   "execution_count": 111,
   "id": "d94de480",
   "metadata": {},
   "outputs": [],
   "source": [
    "def evaluate(test_data):\n",
    "    enc_hidden = encoder.initialize_hidden_state()\n",
    "    \n",
    "    for batch, (inp, targ) in enumerate(test_data):\n",
    "        if len(inp) != BATCH_SIZE:\n",
    "            enc_hidden = tf.zeros((len(inp), units))\n",
    "        # make prediction\n",
    "        if batch == 0:\n",
    "            predictions, attention_weights = test_step(inp, enc_hidden)\n",
    "            predictions, attention_weights = predictions.numpy(), attention_weights.numpy()\n",
    "        else:\n",
    "            _predictions, _attention_weights = test_step(inp, enc_hidden)\n",
    "            _predictions, _attention_weights = _predictions.numpy(), _attention_weights.numpy()\n",
    "            predictions = np.concatenate((predictions, _predictions))\n",
    "            attention_weights = np.concatenate((attention_weights, _attention_weights))\n",
    "    \n",
    "    predictions = np.squeeze(predictions)\n",
    "    attention_weights = np.squeeze(attention_weights)\n",
    "    predictions[np.where(predictions < 0.5)] = 0\n",
    "    predictions[np.where(predictions >= 0.5)] = 1\n",
    "    return predictions, attention_weights\n"
   ]
  },
  {
   "cell_type": "code",
   "execution_count": 112,
   "id": "b7dddb3f",
   "metadata": {},
   "outputs": [],
   "source": [
    "y_pred, attention_weights = evaluate(test_dataset)\n"
   ]
  },
  {
   "cell_type": "code",
   "execution_count": 113,
   "id": "40495dfc",
   "metadata": {},
   "outputs": [
    {
     "name": "stdout",
     "output_type": "stream",
     "text": [
      "Accuracy:  0.8395\n"
     ]
    }
   ],
   "source": [
    "print('Accuracy: ', (y_pred == y_test).sum() / len(y_test))\n"
   ]
  },
  {
   "cell_type": "code",
   "execution_count": 114,
   "id": "1f35c415",
   "metadata": {},
   "outputs": [
    {
     "name": "stdout",
     "output_type": "stream",
     "text": [
      "y_true: 1\n",
      "y_predict: 0\n",
      "changed it was \u001b[31mterrible\u001b[0m \u001b[31mmain\u001b[0m event just like every match is in is \u001b[31mterrible\u001b[0m \u001b[31mother\u001b[0m matches on the card were razor ramon vs ted brothers vs bodies shawn michaels vs this was the event where shawn named his big monster of body guard vs kid hart first takes on then takes on jerry and stuff with the and was always very interesting then destroyed marty undertaker took on giant in another terrible match the smoking and took on bam bam and the and the world \u001b[31mtitle\u001b[0m against lex this match was \u001b[31mboring\u001b[0m and it has \u001b[31mterrible\u001b[0m \u001b[31mending\u001b[0m \u001b[31mhowever\u001b[0m \u001b[31mit\u001b[0m deserves \n",
      "\n",
      "\n",
      "y_true: 1\n",
      "y_predict: 1\n",
      "of subject matter as are and broken in many \u001b[31mways\u001b[0m on many many issues happened to see the pilot premiere in passing and \u001b[31mjust\u001b[0m had to keep in after that to see if would ever get the girl after seeing them all on \u001b[31mtelevision\u001b[0m was delighted to see them available on dvd have to admit that it \u001b[31mwas\u001b[0m the \u001b[31monly\u001b[0m \u001b[31mthing\u001b[0m that kept me \u001b[31msane\u001b[0m whilst had to do hour night shift and developed \u001b[31minsomnia\u001b[0m farscape was the \u001b[31monly\u001b[0m thing to get me through those extremely long nights do \u001b[31myourself\u001b[0m favour watch the pilot and see what mean farscape comet \n",
      "\n",
      "\n",
      "y_true: 0\n",
      "y_predict: 0\n",
      "destruction the first really \u001b[31mbad\u001b[0m thing is the guy steven seagal \u001b[31mwould\u001b[0m have been beaten to pulp \u001b[31mby\u001b[0m seagal driving but that \u001b[31mprobably\u001b[0m would have \u001b[31mended\u001b[0m the whole \u001b[31mpremise\u001b[0m \u001b[31mfor\u001b[0m the movie it seems like they decided to make all kinds of changes in the movie plot so just plan to enjoy the action and do not expect coherent plot turn any sense of logic you may have it will your chance of getting headache does give me some hope that steven seagal is \u001b[31mtrying\u001b[0m to move back towards the type of characters \u001b[31mhe\u001b[0m \u001b[31mportrayed\u001b[0m in his more popular movies \n",
      "\n",
      "\n",
      "y_true: 1\n",
      "y_predict: 1\n",
      "jane austen would definitely of this one paltrow does an awesome job capturing the attitude of emma she is funny without being silly yet elegant she puts on very convincing british \u001b[31maccent\u001b[0m \u001b[31mnot\u001b[0m being british myself maybe m not the best judge but she fooled me she was also excellent in doors sometimes forget she american also brilliant are jeremy northam \u001b[31mand\u001b[0m \u001b[31msophie\u001b[0m \u001b[31mthompson\u001b[0m \u001b[31mand\u001b[0m \u001b[31mlaw\u001b[0m \u001b[31memma\u001b[0m \u001b[31mthompson\u001b[0m sister and mother as the bates women they nearly steal the show and ms law doesn even have any lines highly \u001b[31mrecommended\u001b[0m \n",
      "\n",
      "\n",
      "y_true: 0\n",
      "y_predict: 0\n",
      "reaches the point where they become obnoxious and simply \u001b[31mfrustrating\u001b[0m touch football puzzle family and talent shows are not how actual people behave it almost \u001b[31msickening\u001b[0m \u001b[31manother\u001b[0m big flaw is the woman carell is supposed to be falling for her in her first scene with steve carell is like watching stroke victim trying to be what imagine is supposed to be unique and original in this woman comes off as \u001b[31mmildly\u001b[0m \u001b[31mretarded\u001b[0m \u001b[31mit\u001b[0m \u001b[31mmakes\u001b[0m me think that this movie is taking place on another planet left the \u001b[31mtheater\u001b[0m \u001b[31mwondering\u001b[0m what just saw after \u001b[31mthinking\u001b[0m further don think it was much \n",
      "\n",
      "\n",
      "y_true: 1\n",
      "y_predict: 1\n",
      "the pace quick and energetic but most importantly he knows how to make comedy funny he doesn the jokes and he understands that funny actors know what they re doing and he allows them to do it but segal goes step further he gives tommy boy friendly almost nostalgic tone that both the genuinely \u001b[31mand\u001b[0m \u001b[31mthe\u001b[0m critics didn \u001b[31mlike\u001b[0m tommy boy shame on them movie doesn have to be super sophisticated or intellectual to be funny god farley and \u001b[31mspade\u001b[0m were \u001b[31mforced\u001b[0m \u001b[31mto\u001b[0m do \u001b[31mmuted\u001b[0m comedy la the office this is great \u001b[31mmovie\u001b[0m and \u001b[31mone\u001b[0m \u001b[31mof\u001b[0m my all time favorites \n",
      "\n",
      "\n",
      "y_true: 1\n",
      "y_predict: 1\n",
      "for once story of hope over the tragic reality our youth face rising draws one into scary and unfair world and shows through beautiful color and moving music how one man and his dedicated friends choose not to accept that world and change it through action and art an \u001b[31mentertaining\u001b[0m interesting emotional beautiful film showed \u001b[31mthis\u001b[0m \u001b[31mfilm\u001b[0m \u001b[31mto\u001b[0m numerous high \u001b[31mschool\u001b[0m students as well who all live in with \u001b[31mpoverty\u001b[0m and and \u001b[31mgun\u001b[0m violence and they were with anderson the protagonist recommend this film to all ages over due to subtitles and \u001b[31msome\u001b[0m images of death from all \u001b[31mbackgrounds\u001b[0m \n",
      "\n",
      "\n",
      "y_true: 1\n",
      "y_predict: 1\n",
      "people and sleeping around that he kept secret from most people he feels free to have an affair with quasi because he kevin he figures out that he can \u001b[31mfool\u001b[0m some people with cards \u001b[31mlike\u001b[0m \u001b[31mhotel\u001b[0m but it won get him out of those the of heaven are \u001b[31mkeeping\u001b[0m track of him and everything he does after reading all the theories on though it seems like identity \u001b[31mis\u001b[0m reminder of the different paths tony could ve taken in \u001b[31mhis\u001b[0m \u001b[31mlife\u001b[0m possibly along with the \u001b[31mcar\u001b[0m joke \u001b[31minvolving\u001b[0m that made no sense to me otherwise at \u001b[31mthat\u001b[0m point my brain out \n",
      "\n",
      "\n",
      "y_true: 0\n",
      "y_predict: 1\n",
      "over again can remember how many times he said the \u001b[31muniverse\u001b[0m is made out of tiny little strings it like they were trying to us into just accepting are the best thing since bread finally the show ended off with an unpleasant sense of competition between and clearly biased towards this is supposed to be an educational \u001b[31mprogram\u001b[0m \u001b[31mabout\u001b[0m \u001b[31mquantum\u001b[0m physics \u001b[31mnot\u001b[0m \u001b[31mabout\u001b[0m whether the us is better than europe or vice versa also felt that was part of the \u001b[31maudiences\u001b[0m \u001b[31mneed\u001b[0m \u001b[31mto\u001b[0m see some conflict to remain interested please give me little more credit than \u001b[31mthat\u001b[0m overall thumbs down \n",
      "\n",
      "\n",
      "y_true: 0\n",
      "y_predict: 0\n",
      "the scenes involving joe character in particular the scenes in the \u001b[31mterribly\u001b[0m \u001b[31mclich\u001b[0m but still funny rich but screwed up characters house where the story towards it final moments can see how was \u001b[31mgreat\u001b[0m \u001b[31mstage\u001b[0m play and while the film makers \u001b[31mdid\u001b[0m their best to translate this to celluloid it simply didn \u001b[31mwork\u001b[0m and while laughed out loud at some of scenes and one \u001b[31mliners\u001b[0m think the first minutes my senses and expectations to such degree would have laughed at anything \u001b[31munless\u001b[0m \u001b[31myou\u001b[0m re stuck for novelty coffee \u001b[31mcoaster\u001b[0m don pick this up if you see it in bargain bucket \n",
      "\n",
      "\n"
     ]
    }
   ],
   "source": [
    "from termcolor import colored\n",
    "for idx, data in enumerate(X_test[:10]):\n",
    "    print('y_true: {:d}'.format(y_test[idx]))\n",
    "    print('y_predict: {:.0f}'.format(y_pred[idx]))\n",
    "    \n",
    "    # get the twenty most largest attention weights\n",
    "    large_weights_idx = np.argsort(attention_weights[idx])[::-1][:10]\n",
    "    \n",
    "    for _idx in range(len(data)):\n",
    "        word_idx = data[_idx]\n",
    "        if word_idx != 0:\n",
    "            if _idx in large_weights_idx:\n",
    "                print(colored(tokenizer.index_word[word_idx], 'red'), end=' ')\n",
    "            else:\n",
    "                print(tokenizer.index_word[word_idx], end=' ')\n",
    "    print(\"\\n\\n\")\n"
   ]
  },
  {
   "cell_type": "code",
   "execution_count": null,
   "id": "6f11271b",
   "metadata": {},
   "outputs": [],
   "source": [
    "# reference: https://blog.csdn.net/u010960155/article/details/82853632"
   ]
  }
 ],
 "metadata": {
  "kernelspec": {
   "display_name": "tensorflow-gpu",
   "language": "python",
   "name": "myenv"
  },
  "language_info": {
   "codemirror_mode": {
    "name": "ipython",
    "version": 3
   },
   "file_extension": ".py",
   "mimetype": "text/x-python",
   "name": "python",
   "nbconvert_exporter": "python",
   "pygments_lexer": "ipython3",
   "version": "3.8.12"
  }
 },
 "nbformat": 4,
 "nbformat_minor": 5
}
