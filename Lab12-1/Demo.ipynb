{
 "cells": [
  {
   "cell_type": "markdown",
   "id": "e6897c1b",
   "metadata": {},
   "source": [
    "# Convolution Neural Network\n",
    "\n",
    "In this lab, we introduce two datasets, **MNIST** and **CIFAR**, then we will talk about how to implement CNN models for these two datasets using tensorflow. The major difference between mnist and cifar is their size. Due to the limit of memory size and time issue, we offer a guide to illustrate typical **input pipeline** of tensorflow. Let's dive into tensorflow!\n",
    "\n"
   ]
  },
  {
   "cell_type": "code",
   "execution_count": 1,
   "id": "87af1d2e",
   "metadata": {},
   "outputs": [],
   "source": [
    "import tensorflow as tf\n",
    "from tensorflow.keras import utils, datasets, layers, models\n",
    "import matplotlib.pyplot as plt\n",
    "import numpy as np\n",
    "import os\n"
   ]
  },
  {
   "cell_type": "code",
   "execution_count": 3,
   "id": "4565715a",
   "metadata": {},
   "outputs": [
    {
     "name": "stdout",
     "output_type": "stream",
     "text": [
      "1 Physical GPUs, 1 Logical GPUs\n"
     ]
    }
   ],
   "source": [
    "gpus = tf.config.experimental.list_physical_devices('GPU')\n",
    "if gpus:\n",
    "    try:\n",
    "        # Currently, memory growth needs to be the same across GPUs\n",
    "        for gpu in gpus:\n",
    "            tf.config.experimental.set_memory_growth(gpu, True)\n",
    "        tf.config.experimental.set_visible_devices(gpus[0], 'GPU')\n",
    "        logical_gpus = tf.config.experimental.list_logical_devices('GPU')\n",
    "        print(len(gpus), \"Physical GPUs,\", len(logical_gpus), \"Logical GPUs\")\n",
    "    except RuntimeError as e:\n",
    "        # Memory growth must be set before GPUs have been initialized\n",
    "        print(e)\n"
   ]
  },
  {
   "cell_type": "markdown",
   "id": "739e4840",
   "metadata": {},
   "source": [
    "## MNIST\n",
    "We start from a simple dataset. MNIST is a simple computer vision dataset. It consists of images of handwritten digits like:\n",
    "\n",
    "![](https://nthu-datalab.github.io/ml/labs/12-1_CNN/imgsrc/MNIST.png)\n",
    "\n",
    "It also includes labels for each image, telling us which digit it is. For example, the labels for the above images are 5, 0, 4, and 1. Each image is 28 pixels by 28 pixels. We can interpret this as a big array of numbers:\n",
    "\n",
    "![](https://nthu-datalab.github.io/ml/labs/12-1_CNN/imgsrc/MNIST2.png)\n",
    "\n",
    "The MNIST data is hosted on [Yann LeCun's](http://yann.lecun.com/exdb/mnist/) website. We can directly import MNIST dataset from Tensorflow.\n"
   ]
  },
  {
   "cell_type": "code",
   "execution_count": 5,
   "id": "9bcfdd8f",
   "metadata": {},
   "outputs": [
    {
     "name": "stdout",
     "output_type": "stream",
     "text": [
      "Downloading data from https://storage.googleapis.com/tensorflow/tf-keras-datasets/mnist.npz\n",
      "11493376/11490434 [==============================] - 3s 0us/step\n",
      "shape of train_images: (60000, 28, 28)\n",
      "shape of train_labels: (60000,)\n"
     ]
    }
   ],
   "source": [
    "# Download and prepare the MNIST dataset\n",
    "(train_images, train_labels), (test_images, test_labels) = datasets.mnist.load_data()\n",
    "\n",
    "# Normalize pixel values to be between 0 and 1\n",
    "train_images, test_images = train_images / 255.0, test_images / 255.0\n",
    "print('shape of train_images:', train_images.shape)\n",
    "print('shape of train_labels:', train_labels.shape)"
   ]
  },
  {
   "cell_type": "markdown",
   "id": "4b708da7",
   "metadata": {},
   "source": [
    "## Softmax Regression on MNIST\n",
    "Before jumping to *Convolutional Neural Network* model, we're going to start with a very simple model with a single layer and softmax regression.\n",
    "\n",
    "We know that every image in MNIST is a handwritten digit between zero and nine. So there are only ten possible digits that a given image can be. We want to give the probability of the input image for being each digit. That is, input an image, the model outputs a ten-dimension vector.\n",
    "\n",
    "This is a classic case where a softmax regression is a natural, simple model. If you want to assign probabilities to an object being one of several different things, softmax is the thing to do.\n",
    "\n"
   ]
  },
  {
   "cell_type": "code",
   "execution_count": 6,
   "id": "83db138d",
   "metadata": {},
   "outputs": [
    {
     "name": "stdout",
     "output_type": "stream",
     "text": [
      "(60000, 784)\n",
      "(10000, 784)\n"
     ]
    }
   ],
   "source": [
    "# flating the training data for dense layers\n",
    "train_images_1 = train_images.reshape((60000, -1))\n",
    "test_images_1 = test_images.reshape((10000, -1))\n",
    "print(train_images_1.shape)\n",
    "print(test_images_1.shape)\n"
   ]
  },
  {
   "cell_type": "code",
   "execution_count": 7,
   "id": "9503170e",
   "metadata": {},
   "outputs": [
    {
     "name": "stdout",
     "output_type": "stream",
     "text": [
      "Model: \"sequential\"\n",
      "_________________________________________________________________\n",
      "Layer (type)                 Output Shape              Param #   \n",
      "=================================================================\n",
      "dense (Dense)                (None, 10)                7850      \n",
      "=================================================================\n",
      "Total params: 7,850\n",
      "Trainable params: 7,850\n",
      "Non-trainable params: 0\n",
      "_________________________________________________________________\n"
     ]
    }
   ],
   "source": [
    "model_1 = models.Sequential()\n",
    "model_1.add(layers.Dense(10, activation='softmax',input_shape=(784,)))\n",
    "model_1.summary()\n"
   ]
  },
  {
   "cell_type": "code",
   "execution_count": 8,
   "id": "393177a0",
   "metadata": {},
   "outputs": [
    {
     "name": "stdout",
     "output_type": "stream",
     "text": [
      "Epoch 1/5\n",
      "1875/1875 [==============================] - 3s 2ms/step - loss: 0.4692 - accuracy: 0.8762\n",
      "Epoch 2/5\n",
      "1875/1875 [==============================] - 3s 2ms/step - loss: 0.3031 - accuracy: 0.9151\n",
      "Epoch 3/5\n",
      "1875/1875 [==============================] - 3s 2ms/step - loss: 0.2834 - accuracy: 0.9211\n",
      "Epoch 4/5\n",
      "1875/1875 [==============================] - 3s 2ms/step - loss: 0.2729 - accuracy: 0.9238\n",
      "Epoch 5/5\n",
      "1875/1875 [==============================] - 3s 2ms/step - loss: 0.2667 - accuracy: 0.9249\n"
     ]
    },
    {
     "data": {
      "text/plain": [
       "<tensorflow.python.keras.callbacks.History at 0x17d9fecc940>"
      ]
     },
     "execution_count": 8,
     "metadata": {},
     "output_type": "execute_result"
    }
   ],
   "source": [
    "# compile the model and train it for 5 epochs\n",
    "model_1.compile(optimizer='adam',\n",
    "              loss='sparse_categorical_crossentropy',\n",
    "              metrics=['accuracy'])\n",
    "\n",
    "model_1.fit(train_images_1, train_labels, epochs=5)\n"
   ]
  },
  {
   "cell_type": "code",
   "execution_count": 9,
   "id": "36166534",
   "metadata": {},
   "outputs": [
    {
     "name": "stdout",
     "output_type": "stream",
     "text": [
      "Testing Accuracy : 0.9276\n"
     ]
    }
   ],
   "source": [
    "_, test_acc_1 = model_1.evaluate(test_images_1, test_labels, verbose=0)\n",
    "print('Testing Accuracy : %.4f'%test_acc_1)\n"
   ]
  },
  {
   "cell_type": "markdown",
   "id": "8485e4a0",
   "metadata": {},
   "source": [
    "From the above result, we got about 92.6% accuracy for Softmax Regression on MNIST. In fact, it's not so good. This is because we're using a very simple model.\n",
    "\n"
   ]
  },
  {
   "cell_type": "markdown",
   "id": "1b5c49b2",
   "metadata": {},
   "source": [
    "## Multilayer Convolutional Network on MNIST\n",
    "\n",
    "We're now jumping from a very simple model to something moderately sophisticated: a small *Convolutional Neural Network.* This will get us to over 99% accuracy, not state of the art, but respectable.\n",
    "\n"
   ]
  },
  {
   "cell_type": "code",
   "execution_count": 12,
   "id": "519a6e6d",
   "metadata": {},
   "outputs": [
    {
     "name": "stdout",
     "output_type": "stream",
     "text": [
      "(60000, 28, 28, 1)\n",
      "(10000, 28, 28, 1)\n"
     ]
    }
   ],
   "source": [
    "# reshaping the training data to 3 dimensions\n",
    "train_images_2 = train_images.reshape((60000, 28, 28, 1))\n",
    "test_images_2 = test_images.reshape((10000, 28, 28, 1))\n",
    "print(train_images_2.shape)\n",
    "print(test_images_2.shape)\n"
   ]
  },
  {
   "cell_type": "markdown",
   "id": "e61d01e7",
   "metadata": {},
   "source": [
    "## Create the convolutional base\n",
    "As input, a CNN takes tensors of shape (image_height, image_width, color_channels), ignoring the batch size. If you are new to color channels, MNIST has one (because the images are grayscale), whereas a color image has three (R,G,B). In this example, we will configure our CNN to process inputs of shape (28, 28, 1), which is the format of MNIST images. We do this by passing the argument **input_shape** to our first layer.\n",
    "\n"
   ]
  },
  {
   "cell_type": "code",
   "execution_count": 13,
   "id": "31110305",
   "metadata": {},
   "outputs": [],
   "source": [
    "#The 6 lines of code below define the convolutional base using a common pattern: a stack of Conv2D and MaxPooling2D layers.\n",
    "model_2 = models.Sequential()\n",
    "model_2.add(layers.Conv2D(32, (3, 3), activation='relu', input_shape=(28, 28, 1)))\n",
    "model_2.add(layers.MaxPooling2D((2, 2)))\n",
    "model_2.add(layers.Conv2D(64, (3, 3), activation='relu'))\n",
    "model_2.add(layers.MaxPooling2D((2, 2)))\n",
    "model_2.add(layers.Conv2D(64, (3, 3), activation='relu'))\n"
   ]
  },
  {
   "cell_type": "markdown",
   "id": "a00d5d38",
   "metadata": {},
   "source": [
    "Let's display the architecture of our model so far."
   ]
  },
  {
   "cell_type": "code",
   "execution_count": 14,
   "id": "5b30c1b3",
   "metadata": {},
   "outputs": [
    {
     "name": "stdout",
     "output_type": "stream",
     "text": [
      "Model: \"sequential_1\"\n",
      "_________________________________________________________________\n",
      "Layer (type)                 Output Shape              Param #   \n",
      "=================================================================\n",
      "conv2d (Conv2D)              (None, 26, 26, 32)        320       \n",
      "_________________________________________________________________\n",
      "max_pooling2d (MaxPooling2D) (None, 13, 13, 32)        0         \n",
      "_________________________________________________________________\n",
      "conv2d_1 (Conv2D)            (None, 11, 11, 64)        18496     \n",
      "_________________________________________________________________\n",
      "max_pooling2d_1 (MaxPooling2 (None, 5, 5, 64)          0         \n",
      "_________________________________________________________________\n",
      "conv2d_2 (Conv2D)            (None, 3, 3, 64)          36928     \n",
      "=================================================================\n",
      "Total params: 55,744\n",
      "Trainable params: 55,744\n",
      "Non-trainable params: 0\n",
      "_________________________________________________________________\n"
     ]
    }
   ],
   "source": [
    "model_2.summary()\n"
   ]
  },
  {
   "cell_type": "markdown",
   "id": "878882c0",
   "metadata": {},
   "source": [
    "Above, you can see that the output of every Conv2D and MaxPooling2D layer is a 3D tensor of shape (height, width, channels). The width and height dimensions tend to shrink as we go deeper in the network. The number of output channels for each Conv2D layer is controlled by the first argument (e.g., 32 or 64). Typically, as the width and height shrink, we can afford (computationally) to add more output channels in each Conv2D layer.\n",
    "\n",
    "### Add Dense layers on top\n",
    "To complete our model, we will feed the last output tensor from the convolutional base (of shape (3, 3, 64)) into one or more Dense layers to perform classification. Dense layers take vectors as input (which are 1D), while the current output is a 3D tensor. First, we will **flatten** (or unroll) the 3D output to 1D, then **add one or more Dense layers on top.** MNIST has 10 output classes, so we use a final Dense layer with 10 outputs and a softmax activation.\n",
    "\n",
    "To reduce overfitting, we will apply [dropout](https://www.cs.toronto.edu/~hinton/absps/JMLRdropout.pdf) before the readout layer. \n",
    "\n",
    "The idea behind dropout is to train an ensemble of model instead of a single model. During training, we drop out neurons with probability \n",
    "$p$\n",
    ", i.e., the probability to keep is \n",
    "$1\n",
    "−\n",
    "p$\n",
    ". When a neuron is dropped, its output is set to zero. These dropped neurons do not contribute to the training phase in forward pass and backward pass. For each training phase, we train the network slightly different from the previous one. It's just like we train different networks in each training phrase. However, during testing phase, we don't drop any neuron, and thus, implement dropout is kind of like doing ensemble. Also, randomly drop units in training phase can prevent units from co-adapting too much. Thus, dropout is a powerful regularization techique to deal with overfitting.\n",
    "\n"
   ]
  },
  {
   "cell_type": "code",
   "execution_count": 15,
   "id": "8ac6b1f3",
   "metadata": {},
   "outputs": [],
   "source": [
    "model_2.add(layers.Flatten())\n",
    "model_2.add(layers.Dense(64, activation='relu'))\n",
    "model_2.add(layers.Dropout(0.5))\n",
    "model_2.add(layers.Dense(10, activation='softmax'))\n"
   ]
  },
  {
   "cell_type": "code",
   "execution_count": 16,
   "id": "2752f1a9",
   "metadata": {},
   "outputs": [
    {
     "name": "stdout",
     "output_type": "stream",
     "text": [
      "Model: \"sequential_1\"\n",
      "_________________________________________________________________\n",
      "Layer (type)                 Output Shape              Param #   \n",
      "=================================================================\n",
      "conv2d (Conv2D)              (None, 26, 26, 32)        320       \n",
      "_________________________________________________________________\n",
      "max_pooling2d (MaxPooling2D) (None, 13, 13, 32)        0         \n",
      "_________________________________________________________________\n",
      "conv2d_1 (Conv2D)            (None, 11, 11, 64)        18496     \n",
      "_________________________________________________________________\n",
      "max_pooling2d_1 (MaxPooling2 (None, 5, 5, 64)          0         \n",
      "_________________________________________________________________\n",
      "conv2d_2 (Conv2D)            (None, 3, 3, 64)          36928     \n",
      "_________________________________________________________________\n",
      "flatten (Flatten)            (None, 576)               0         \n",
      "_________________________________________________________________\n",
      "dense_1 (Dense)              (None, 64)                36928     \n",
      "_________________________________________________________________\n",
      "dropout (Dropout)            (None, 64)                0         \n",
      "_________________________________________________________________\n",
      "dense_2 (Dense)              (None, 10)                650       \n",
      "=================================================================\n",
      "Total params: 93,322\n",
      "Trainable params: 93,322\n",
      "Non-trainable params: 0\n",
      "_________________________________________________________________\n"
     ]
    }
   ],
   "source": [
    "model_2.summary()"
   ]
  },
  {
   "cell_type": "markdown",
   "id": "7ffa3dfe",
   "metadata": {},
   "source": [
    "As you can see, our (3, 3, 64) outputs were flattened into vectors of shape (576) before going through two Dense layers.\n",
    "\n",
    "### Compile and train the model\n"
   ]
  },
  {
   "cell_type": "code",
   "execution_count": 17,
   "id": "7aee3621",
   "metadata": {},
   "outputs": [
    {
     "name": "stdout",
     "output_type": "stream",
     "text": [
      "Epoch 1/5\n",
      "1875/1875 [==============================] - 3s 2ms/step - loss: 0.2751 - accuracy: 0.9165\n",
      "Epoch 2/5\n",
      "1875/1875 [==============================] - 3s 2ms/step - loss: 0.0938 - accuracy: 0.9740\n",
      "Epoch 3/5\n",
      "1875/1875 [==============================] - 3s 2ms/step - loss: 0.0658 - accuracy: 0.9819\n",
      "Epoch 4/5\n",
      "1875/1875 [==============================] - 3s 2ms/step - loss: 0.0519 - accuracy: 0.9852\n",
      "Epoch 5/5\n",
      "1875/1875 [==============================] - 3s 2ms/step - loss: 0.0447 - accuracy: 0.9873\n"
     ]
    },
    {
     "data": {
      "text/plain": [
       "<tensorflow.python.keras.callbacks.History at 0x17dbd0c36a0>"
      ]
     },
     "execution_count": 17,
     "metadata": {},
     "output_type": "execute_result"
    }
   ],
   "source": [
    "model_2.compile(optimizer='adam',\n",
    "              loss='sparse_categorical_crossentropy',\n",
    "              metrics=['accuracy'])\n",
    "\n",
    "model_2.fit(train_images_2, train_labels, epochs=5)\n"
   ]
  },
  {
   "cell_type": "code",
   "execution_count": 18,
   "id": "467562ab",
   "metadata": {},
   "outputs": [
    {
     "name": "stdout",
     "output_type": "stream",
     "text": [
      "Testing Accuracy : 0.9899\n"
     ]
    }
   ],
   "source": [
    "_, test_acc_2 = model_2.evaluate(test_images_2, test_labels, verbose=0)\n",
    "print('Testing Accuracy : %.4f'%test_acc_2)\n"
   ]
  },
  {
   "cell_type": "markdown",
   "id": "bd7e2032",
   "metadata": {},
   "source": [
    "As you can see, our simple CNN has achieved a test accuracy of over 99%. Not bad for a few lines of code! For another style of writing a CNN (using the Keras Subclassing API and a GradientTape) head here.\n",
    "\n"
   ]
  },
  {
   "cell_type": "markdown",
   "id": "70edb729",
   "metadata": {},
   "source": [
    "# Cifar-10\n",
    "Actually MNIST is a easy dataset for the beginner. To demonstrate the power of Neural Networks, we need a larger dataset CIFAR-10.\n",
    "\n",
    "[CIFAR-10](https://www.cs.toronto.edu/~kriz/cifar.html) consists of 60000 32x32 color images in 10 classes, with 6000 images per class. There are 50000 training images and 10000 test images. Here are the classes in the dataset, as well as 10 random images from each:\n",
    "\n",
    "![](https://nthu-datalab.github.io/ml/labs/12-1_CNN/imgsrc/CIFAR10.png)\n",
    "\n",
    "\n",
    "Before jumping to a complicated neural network model, we're going to start with KNN and SVM. The motivation here is to compare neural network model with traditional classifiers, and highlight the performance of neural network model.\n",
    "\n",
    "tf.keras.datasets offers convenient facilities that automatically access some well-known datasets. Let's load the CIFAR-10 in tf.keras.datasets:\n",
    "\n"
   ]
  },
  {
   "cell_type": "code",
   "execution_count": 19,
   "id": "4ac1c8f4",
   "metadata": {},
   "outputs": [
    {
     "name": "stdout",
     "output_type": "stream",
     "text": [
      "X_train shape: (50000, 32, 32, 3)\n",
      "Y_train shape: (50000, 10)\n",
      "X_test shape: (10000, 32, 32, 3)\n",
      "Y_test shape: (10000, 10)\n"
     ]
    }
   ],
   "source": [
    "# Loading Data\n",
    "import math\n",
    "\n",
    "(X_train, y_train), (X_test, y_test) = datasets.cifar10.load_data()\n",
    "\n",
    "# normalize inputs from 0-255 to 0.0-1.0\n",
    "X_train = X_train.astype('float32')\n",
    "X_test = X_test.astype('float32')\n",
    "X_train = X_train / 255.0\n",
    "X_test = X_test / 255.0\n",
    "\n",
    "# convert class vectors to binary vectors\n",
    "Y_train = utils.to_categorical(y_train)\n",
    "Y_test = utils.to_categorical(y_test)\n",
    "\n",
    "print('X_train shape:', X_train.shape)\n",
    "print('Y_train shape:', Y_train.shape)\n",
    "print('X_test shape:', X_test.shape)\n",
    "print('Y_test shape:', Y_test.shape)\n"
   ]
  },
  {
   "cell_type": "markdown",
   "id": "5e669ae7",
   "metadata": {},
   "source": [
    "For simplicity, we also convert the images into the grayscale. We use the [Luma coding](https://en.wikipedia.org/wiki/Grayscale#Luma_coding_in_video_systems) that is common in video systems:\n",
    "\n"
   ]
  },
  {
   "cell_type": "code",
   "execution_count": 20,
   "id": "8c5106b3",
   "metadata": {},
   "outputs": [
    {
     "data": {
      "image/png": "[encoded data removed]",
      "text/plain": [
       "<Figure size 288x144 with 2 Axes>"
      ]
     },
     "metadata": {
      "needs_background": "light"
     },
     "output_type": "display_data"
    }
   ],
   "source": [
    "# transform a 3-channel image into one channel\n",
    "def grayscale(data, dtype='float32'):\n",
    "    # luma coding weighted average in video systems\n",
    "    r = np.asarray(.3, dtype=dtype)\n",
    "    g = np.asarray(.59, dtype=dtype)\n",
    "    b = np.asarray(.11, dtype=dtype)\n",
    "    rst = r * data[:, :, :, 0] + g * data[:, :, :, 1] + b * data[:, :, :, 2]\n",
    "    # add channel dimension\n",
    "    rst = np.expand_dims(rst, axis=3)\n",
    "    return rst\n",
    "\n",
    "X_train_gray = grayscale(X_train)\n",
    "X_test_gray = grayscale(X_test)\n",
    "\n",
    "# plot a randomly chosen image\n",
    "img = round(np.random.rand() * X_train.shape[0])\n",
    "plt.figure(figsize=(4, 2))\n",
    "plt.subplot(1, 2, 1)\n",
    "plt.imshow(X_train[img], interpolation='none')\n",
    "plt.subplot(1, 2, 2)\n",
    "plt.imshow(\n",
    "    X_train_gray[img, :, :, 0], cmap=plt.get_cmap('gray'), interpolation='none')\n",
    "plt.show()\n"
   ]
  },
  {
   "cell_type": "markdown",
   "id": "156f23f6",
   "metadata": {},
   "source": [
    "As we can see, the objects in grayscale images can still be recognizable.\n",
    "\n",
    "## Feature Selection\n",
    "When coming to object detection, HOG (histogram of oriented gradients) is often extracted as a feature for classification. It first calculates the gradients of each image patch using sobel filter, then use the magnitudes and orientations of derived gradients to form a histogram per patch (a vector). After normalizing these histograms, it concatenates them into one HOG feature. For more details, read this [tutorial](https://www.learnopencv.com/histogram-of-oriented-gradients/).\n",
    "\n",
    "> Note. one can directly feed the original images for classification; however, it will take lots of time to train and get worse performance.\n",
    "\n"
   ]
  },
  {
   "cell_type": "code",
   "execution_count": 24,
   "id": "0a4c8901",
   "metadata": {},
   "outputs": [],
   "source": [
    "def getHOGfeat(image,\n",
    "               stride=8,\n",
    "               orientations=8,\n",
    "               pixels_per_cell=(8, 8),\n",
    "               cells_per_block=(2, 2)):\n",
    "    cx, cy = pixels_per_cell\n",
    "    bx, by = cells_per_block\n",
    "    sx, sy, sz = image.shape\n",
    "    n_cellsx = int(np.floor(sx // cx))  # number of cells in x\n",
    "    n_cellsy = int(np.floor(sy // cy))  # number of cells in y\n",
    "    n_blocksx = (n_cellsx - bx) + 1\n",
    "    n_blocksy = (n_cellsy - by) + 1\n",
    "    gx = np.zeros((sx, sy), dtype=np.double)\n",
    "    gy = np.zeros((sx, sy), dtype=np.double)\n",
    "    eps = 1e-5\n",
    "    grad = np.zeros((sx, sy, 2), dtype=np.double)\n",
    "    for i in range(1, sx - 1):\n",
    "        for j in range(1, sy - 1):\n",
    "            gx[i, j] = image[i, j - 1] - image[i, j + 1]\n",
    "            gy[i, j] = image[i + 1, j] - image[i - 1, j]\n",
    "            grad[i, j, 0] = np.arctan(gy[i, j] / (gx[i, j] + eps)) * 180 / math.pi\n",
    "            if gx[i, j] < 0:\n",
    "                grad[i, j, 0] += 180\n",
    "            grad[i, j, 0] = (grad[i, j, 0] + 360) % 360\n",
    "            grad[i, j, 1] = np.sqrt(gy[i, j] ** 2 + gx[i, j] ** 2)\n",
    "    normalised_blocks = np.zeros((n_blocksy, n_blocksx, by * bx * orientations))\n",
    "    for y in range(n_blocksy):\n",
    "        for x in range(n_blocksx):\n",
    "            block = grad[y * stride:y * stride + 16, x * stride:x * stride + 16]\n",
    "            hist_block = np.zeros(32, dtype=np.double)\n",
    "            eps = 1e-5\n",
    "            for k in range(by):\n",
    "                for m in range(bx):\n",
    "                    cell = block[k * 8:(k + 1) * 8, m * 8:(m + 1) * 8]\n",
    "                    hist_cell = np.zeros(8, dtype=np.double)\n",
    "                    for i in range(cy):\n",
    "                        for j in range(cx):\n",
    "                            n = int(cell[i, j, 0] / 45)\n",
    "                            hist_cell[n] += cell[i, j, 1]\n",
    "                    hist_block[(k * bx + m) * orientations:(k * bx + m + 1) * orientations] = hist_cell[:]\n",
    "            normalised_blocks[y, x, :] = hist_block / np.sqrt(\n",
    "                hist_block.sum() ** 2 + eps)\n",
    "    return normalised_blocks.ravel()\n"
   ]
  },
  {
   "cell_type": "markdown",
   "id": "9a70a1cd",
   "metadata": {},
   "source": [
    "Once we have our *getHOGfeat* function, we then get the HOG features of all images."
   ]
  },
  {
   "cell_type": "code",
   "execution_count": 25,
   "id": "5804a80c",
   "metadata": {},
   "outputs": [
    {
     "name": "stdout",
     "output_type": "stream",
     "text": [
      "This will take some minutes.\n"
     ]
    }
   ],
   "source": [
    "X_train_hog = []\n",
    "X_test_hog = []\n",
    "\n",
    "print('This will take some minutes.')\n",
    "\n",
    "for img in X_train_gray:\n",
    "    img_hog = getHOGfeat(img)\n",
    "    X_train_hog.append(img_hog)\n",
    "\n",
    "for img in X_test_gray:\n",
    "    img_hog = getHOGfeat(img)\n",
    "    X_test_hog.append(img_hog)\n",
    "\n",
    "X_train_hog_array = np.asarray(X_train_hog)\n",
    "X_test_hog_array = np.asarray(X_test_hog)\n"
   ]
  },
  {
   "cell_type": "markdown",
   "id": "e8e192d3",
   "metadata": {},
   "source": [
    "## K Nearest Neighbors (KNN) on CIFAR-10\n",
    "scikit-learn provides off-the-shelf libraries for classification. For KNN and SVM classifiers, we can just import from scikit-learn to use."
   ]
  },
  {
   "cell_type": "code",
   "execution_count": null,
   "id": "52e9057b",
   "metadata": {},
   "outputs": [],
   "source": [
    "# KNN\n",
    "from sklearn.neighbors import KNeighborsClassifier \n",
    "from sklearn.metrics import accuracy_score\n",
    "\n",
    "# p=2 and metric='minkowski' means the Euclidean Distance\n",
    "knn = KNeighborsClassifier(n_neighbors=11, p=2, metric='minkowski')\n",
    "\n",
    "knn.fit(X_train_hog_array, y_train.ravel())\n",
    "y_pred = knn.predict(X_test_hog_array)\n",
    "print('[KNN]')\n",
    "print('Misclassified samples: %d' % (y_test.ravel() != y_pred).sum())\n",
    "print('Accuracy: %.2f' % accuracy_score(y_test, y_pred))\n"
   ]
  },
  {
   "cell_type": "markdown",
   "id": "7050e24a",
   "metadata": {},
   "source": [
    "We can observe that the accuracy of KNN on CIFAR-10 is embarrassingly bad.\n",
    "\n"
   ]
  },
  {
   "cell_type": "markdown",
   "id": "a118ab61",
   "metadata": {},
   "source": [
    "## Support Vector Machine (SVM) on CIFAR-10\n"
   ]
  },
  {
   "cell_type": "code",
   "execution_count": null,
   "id": "efb934f2",
   "metadata": {},
   "outputs": [],
   "source": [
    "# SVM\n",
    "from sklearn.svm import SVC \n",
    "\n",
    "# C is the hyperparameter for the error penalty term\n",
    "# gamma is the hyperparameter for the rbf kernel\n",
    "svm_linear = SVC(kernel='linear', random_state=0, gamma=0.2, C=10.0)\n",
    "\n",
    "svm_linear.fit(X_train_hog_array, y_train.ravel())\n",
    "y_pred = svm_linear.predict(X_test_hog_array)\n",
    "print('[Linear SVC]')\n",
    "print('Misclassified samples: %d' % (y_test.ravel() != y_pred).sum())\n",
    "print('Accuracy: %.2f' % accuracy_score(y_test.ravel(), y_pred))\n"
   ]
  },
  {
   "cell_type": "markdown",
   "id": "f78aa935",
   "metadata": {},
   "source": [
    "## CNN on CIFAR-10\n",
    "By above, SVM is slightly better than KNN, but still poor. Next, we'll design a CNN model using tensorflow.\n"
   ]
  },
  {
   "cell_type": "code",
   "execution_count": null,
   "id": "585e3bff",
   "metadata": {},
   "outputs": [],
   "source": [
    "#The 6 lines of code below define the convolutional base using a common pattern: a stack of Conv2D and MaxPooling2D layers.\n",
    "model_3 = models.Sequential()\n",
    "model_3.add(layers.Conv2D(64, (5, 5), padding='same', activation='relu', input_shape=(32, 32, 3)))\n",
    "model_3.add(layers.MaxPool2D(pool_size=3,strides=2,padding='same'))\n",
    "model_3.add(layers.BatchNormalization())\n",
    "                \n",
    "model_3.add(layers.Conv2D(64, (5, 5), padding='same', activation='relu'))\n",
    "model_3.add(layers.MaxPool2D(pool_size=3,strides=2,padding='same'))\n",
    "model_3.add(layers.BatchNormalization())\n",
    "                \n",
    "model_3.add(layers.Flatten())\n",
    "model_3.add(layers.Dense(384, activation='relu'))\n",
    "model_3.add(layers.Dropout(0.5))\n",
    "model_3.add(layers.Dense(192, activation='relu'))\n",
    "model_3.add(layers.Dense(10, activation='softmax'))\n",
    "model_3.compile(optimizer='adam',\n",
    "              loss='sparse_categorical_crossentropy',\n",
    "              metrics=['accuracy'])\n",
    "\n",
    "model_3.fit(X_train, y_train, epochs=200,validation_data=(X_test, y_test),verbose=0)\n"
   ]
  },
  {
   "cell_type": "code",
   "execution_count": null,
   "id": "4e7e665c",
   "metadata": {},
   "outputs": [],
   "source": [
    "_, test_acc_3 = model_3.evaluate(X_test, y_test, verbose=0)\n",
    "print('Testing Accuracy : %.4f'%test_acc_3)\n"
   ]
  },
  {
   "cell_type": "markdown",
   "id": "dccc669d",
   "metadata": {},
   "source": [
    "Although Cifar10 is larger than Mnist, it's not large enough for the dataset you will meet in the following lessons. For large datasets, we can't feed all training data to the model due to the limit of memory size. Even if we can feed all data into the model, we still want the process of loading data is efficient. **Input pipeline** is the common way to solve these."
   ]
  },
  {
   "cell_type": "markdown",
   "id": "18eab08b",
   "metadata": {},
   "source": [
    "## Input Pipeline\n",
    "### Structure of an input pipeline\n",
    "A typical TensorFlow training input pipeline can be framed as an ETL process:\n",
    "\n",
    "1. Extract: Read data from memory (NumPy) or persistent storage -- either local (HDD or SSD) or remote (e.g. GCS or HDFS).\n",
    "2. Transform: Use CPU to parse and perform preprocessing operations on the data such as shuffling, batching, and domain specific transformations such as image decompression and augmentation, text vectorization, or video temporal sampling.\n",
    "3. Load: Load the transformed data onto the accelerator device(s) (e.g. GPU(s) or TPU(s)) that execute the machine learning model.\n",
    "This pattern effectively utilizes the CPU, while reserving the accelerator for the heavy lifting of training your model. In addition, viewing input pipelines as an ETL process provides a framework that facilitates the application of performance optimizations.\n",
    "\n",
    "### tf.data API\n",
    "To build a data input pipeline with **tf.data**, here are the steps that you can follow:\n",
    "\n",
    "1. Define data source and initialize your Dataset object\n",
    "2. Apply transformations on the dataset, following are some common useful  techniques\n",
    "    * map\n",
    "    * shuffle\n",
    "    * batch\n",
    "    * repeat\n",
    "    * prefetch\n",
    "3. Create iterator\n",
    "\n",
    "### Construct your Dataset\n",
    "To create an input pipeline, you must start with a data source. For example, to construct a **Dataset** from data in memory, you can use ```tf.data.Dataset.from_tensors()``` or ```tf.data.Dataset.from_tensor_slices()```. Alternatively, if your input data is stored in a file in the recommended TFRecord format, you can use ```tf.data.TFRecordDataset()```.\n",
    "\n",
    "Once you have a **Dataset** object, you can transform it into a new Dataset by chaining method calls on the **tf.data.Dataset** object. For example, you can apply per-element transformations such as **Dataset.map()**, and multi-element transformations such as **Dataset.batch()**. See the documentation for **tf.data.Dataset** for a complete list of transformations.\n",
    "\n",
    "Now suppose we have simple data sources:\n",
    "\n"
   ]
  },
  {
   "cell_type": "code",
   "execution_count": 26,
   "id": "a451c697",
   "metadata": {},
   "outputs": [],
   "source": [
    "# number of samples\n",
    "n_samples = 200\n",
    "\n",
    "# an array with shape (n_samples, 5)\n",
    "raw_data_a = np.random.rand(n_samples, 5)\n",
    "# a list with length of n_samples from 0 to n_samples-1\n",
    "raw_data_b = np.arange(n_samples)\n"
   ]
  },
  {
   "cell_type": "markdown",
   "id": "ab5d8892",
   "metadata": {},
   "source": [
    "We can create our tensorflow Dataset object with these two data using **tf.data.Dataset.from_tensor_slices**, which will automatically cut your data into slices:"
   ]
  },
  {
   "cell_type": "code",
   "execution_count": 27,
   "id": "5da8ea34",
   "metadata": {},
   "outputs": [
    {
     "name": "stdout",
     "output_type": "stream",
     "text": [
      "<TensorSliceDataset shapes: ((5,), ()), types: (tf.float64, tf.int32)>\n"
     ]
    }
   ],
   "source": [
    "# this tells the dataset that each row of raw_data_a is corresponding to each element of raw_data_b\n",
    "raw_dataset = tf.data.Dataset.from_tensor_slices((raw_data_a, raw_data_b))\n",
    "print(raw_dataset)\n"
   ]
  },
  {
   "cell_type": "markdown",
   "id": "2b174b1e",
   "metadata": {},
   "source": [
    "#### Apply transformations\n",
    "Next, according to your needs, you can preprocess your data in this step.\n",
    "\n",
    "**map**\n",
    "For example, **Dataset.map()** provide element-wise customized data preprocessing.\n",
    "\n"
   ]
  },
  {
   "cell_type": "code",
   "execution_count": 28,
   "id": "96ac3ce7",
   "metadata": {},
   "outputs": [],
   "source": [
    "def preprocess_function(one_row_a, one_b):\n",
    "    \"\"\"\n",
    "        Input: one slice of the dataset\n",
    "        Output: modified slice\n",
    "    \"\"\"\n",
    "    # Do some data preprocessing, you can also input filenames and load data in here\n",
    "    # Here, we transform each row of raw_data_a to its sum and mean\n",
    "    one_row_a = [tf.reduce_sum(one_row_a), tf.reduce_mean(one_row_a)]\n",
    "\n",
    "    return one_row_a, one_b\n"
   ]
  },
  {
   "cell_type": "code",
   "execution_count": 29,
   "id": "dc5415b6",
   "metadata": {},
   "outputs": [
    {
     "name": "stdout",
     "output_type": "stream",
     "text": [
      "<ParallelMapDataset shapes: ((2,), ()), types: (tf.float64, tf.int32)>\n"
     ]
    }
   ],
   "source": [
    "raw_dataset = raw_dataset.map(preprocess_function, num_parallel_calls=tf.data.experimental.AUTOTUNE)\n",
    "print(raw_dataset)\n"
   ]
  },
  {
   "cell_type": "markdown",
   "id": "7e4690d3",
   "metadata": {},
   "source": [
    "#### shuffle\n",
    "**Dataset.shuffle(buffer_size)** maintains a fixed-size buffer and chooses the next element uniformly at random from that buffer. This way, you can see your data coming with different order in different epoch. This can prevent your model overfit on the order of your training data.\n",
    "\n"
   ]
  },
  {
   "cell_type": "code",
   "execution_count": 30,
   "id": "b67aba2b",
   "metadata": {},
   "outputs": [],
   "source": [
    "dataset = raw_dataset.shuffle(16)"
   ]
  },
  {
   "cell_type": "markdown",
   "id": "a087ddd9",
   "metadata": {},
   "source": [
    "#### batch\n",
    "Now our dataset is one example by one example. However, in reality, we usually want to read one batch at a time, thus we can call **Dataset.batch(batch_size)** to stack batch_size elements together.\n",
    "\n",
    "**Note:** Be careful that if you apply **Dataset.shuffle** after **Dataset.batch**, you'll get shuffled batch but data in a batch remains the same.\n",
    "\n"
   ]
  },
  {
   "cell_type": "code",
   "execution_count": 31,
   "id": "476312c8",
   "metadata": {},
   "outputs": [],
   "source": [
    "dataset = dataset.batch(2,drop_remainder=False)\n"
   ]
  },
  {
   "cell_type": "markdown",
   "id": "cc75c935",
   "metadata": {},
   "source": [
    "#### repeat\n",
    "Repeats this dataset count times.\n",
    "\n",
    "**Dataset.repeat(count)** allow you iterate over a dataset in multiple epochs. **count = None or -1** will let the dataset repeats indefinitely.\n",
    "\n"
   ]
  },
  {
   "cell_type": "code",
   "execution_count": 32,
   "id": "34a3230d",
   "metadata": {},
   "outputs": [],
   "source": [
    "dataset = dataset.repeat(2)"
   ]
  },
  {
   "cell_type": "markdown",
   "id": "05642430",
   "metadata": {},
   "source": [
    "If you would like to perform a custom computation (e.g. to collect statistics) at the end of each epoch then it's simplest to restart the dataset iteration on each epoch:"
   ]
  },
  {
   "cell_type": "code",
   "execution_count": 33,
   "id": "ebd39fe3",
   "metadata": {},
   "outputs": [
    {
     "name": "stdout",
     "output_type": "stream",
     "text": [
      "End of epoch: 0, Batch size of this epoch: 7\n",
      "End of epoch: 1, Batch size of this epoch: 7\n",
      "End of epoch: 2, Batch size of this epoch: 7\n"
     ]
    }
   ],
   "source": [
    "epochs = 3\n",
    "cus_dataset = raw_dataset.batch(32)\n",
    "\n",
    "for epoch in range(epochs):\n",
    "    size = 0\n",
    "    for batch in cus_dataset:\n",
    "        size += 1\n",
    "    print(\"End of epoch: %d, Batch size of this epoch: %d\"%(epoch, size))\n"
   ]
  },
  {
   "cell_type": "markdown",
   "id": "2a636739",
   "metadata": {},
   "source": [
    "#### prefetch\n",
    "Creates a Dataset that prefetches elements from this dataset.\n",
    "\n",
    "**Dataset.prefetch(buffer_size)** allow you decouple the time when data is produced from the time when data is consumed."
   ]
  },
  {
   "cell_type": "code",
   "execution_count": 34,
   "id": "9ddbc949",
   "metadata": {},
   "outputs": [],
   "source": [
    "dataset = dataset.prefetch(buffer_size=tf.data.experimental.AUTOTUNE)\n"
   ]
  },
  {
   "cell_type": "markdown",
   "id": "5190627b",
   "metadata": {},
   "source": [
    "#### Consume elements\n",
    "The **Dataset** object is a Python iterable. This makes it possible to consume its elements using a for loop:\n",
    "\n"
   ]
  },
  {
   "cell_type": "code",
   "execution_count": 35,
   "id": "aa67fc5a",
   "metadata": {},
   "outputs": [
    {
     "name": "stdout",
     "output_type": "stream",
     "text": [
      "Batch  0 , b are  [11 15]\n",
      "Batch  1 , b are  [1 2]\n",
      "Batch  2 , b are  [8 0]\n",
      "Batch  3 , b are  [10  7]\n",
      "Batch  4 , b are  [22 16]\n",
      "Batch  5 , b are  [ 6 13]\n",
      "Batch  6 , b are  [21 28]\n",
      "Batch  7 , b are  [ 5 19]\n",
      "Batch  8 , b are  [26 18]\n"
     ]
    }
   ],
   "source": [
    "# Here, we print the first 8 batches.\n",
    "for i,elem in enumerate(dataset):\n",
    "    print(\"Batch \", i, \", b are \", elem[1].numpy())\n",
    "    if i==8:\n",
    "        break"
   ]
  },
  {
   "cell_type": "markdown",
   "id": "f21101aa",
   "metadata": {},
   "source": [
    "Or by explicitly creating a Python iterator using **iter** and consuming its elements using **next**:"
   ]
  },
  {
   "cell_type": "code",
   "execution_count": 36,
   "id": "634dbccb",
   "metadata": {},
   "outputs": [
    {
     "name": "stdout",
     "output_type": "stream",
     "text": [
      "Batch  0 , b are  [11  3]\n",
      "Batch  1 , b are  [0 7]\n",
      "Batch  2 , b are  [15 16]\n",
      "Batch  3 , b are  [9 2]\n",
      "Batch  4 , b are  [21 23]\n",
      "Batch  5 , b are  [18 24]\n",
      "Batch  6 , b are  [27 26]\n",
      "Batch  7 , b are  [5 6]\n"
     ]
    }
   ],
   "source": [
    "# Here, we print the first 8 batches.\n",
    "it = iter(dataset)\n",
    "for i in range(8):\n",
    "    print(\"Batch \", i, \", b are \", next(it)[1].numpy())\n"
   ]
  },
  {
   "cell_type": "markdown",
   "id": "0453d129",
   "metadata": {},
   "source": [
    "#### repeat+batch / batch+repeat\n",
    "The Dataset.repeat transformation concatenates its arguments without signaling the end of one epoch and the beginning of the next epoch. Because of this a Dataset.batch applied after Dataset.repeat will yield batches that stradle epoch boundaries:"
   ]
  },
  {
   "cell_type": "code",
   "execution_count": 38,
   "id": "d2f0083a",
   "metadata": {},
   "outputs": [],
   "source": [
    "# use this function to plot the size of each batch.\n",
    "def plot_batch_sizes(ds,title):\n",
    "    batch_sizes = [batch[1].shape[0] for batch in ds]\n",
    "    plt.bar(range(len(batch_sizes)), batch_sizes)\n",
    "    plt.xlabel('Batch number')\n",
    "    plt.ylabel('Batch size')\n",
    "    plt.title(title)\n",
    "    plt.show()\n"
   ]
  },
  {
   "cell_type": "code",
   "execution_count": 39,
   "id": "2f9e888c",
   "metadata": {},
   "outputs": [
    {
     "data": {
      "image/png": "[encoded data removed]",
      "text/plain": [
       "<Figure size 432x288 with 1 Axes>"
      ]
     },
     "metadata": {
      "needs_background": "light"
     },
     "output_type": "display_data"
    }
   ],
   "source": [
    "# plot the bar diagram of repeat+batch\n",
    "repeat_batch_ds = raw_dataset.repeat(3).batch(32)\n",
    "plot_batch_sizes(repeat_batch_ds,'repeat+batch')\n"
   ]
  },
  {
   "cell_type": "markdown",
   "id": "8c1fa8ce",
   "metadata": {},
   "source": [
    "If you need clear epoch separation, put Dataset.batch before the repeat:"
   ]
  },
  {
   "cell_type": "code",
   "execution_count": 40,
   "id": "9df8e1a4",
   "metadata": {},
   "outputs": [
    {
     "data": {
      "image/png": "[encoded data removed]",
      "text/plain": [
       "<Figure size 432x288 with 1 Axes>"
      ]
     },
     "metadata": {
      "needs_background": "light"
     },
     "output_type": "display_data"
    }
   ],
   "source": [
    "# plot the bar diagram of batch+repeat\n",
    "batch_repeat_ds = raw_dataset.batch(32).repeat(3)\n",
    "plot_batch_sizes(batch_repeat_ds,'batch+repeat')"
   ]
  },
  {
   "cell_type": "markdown",
   "id": "ed36c8a5",
   "metadata": {},
   "source": [
    "#### shufflt+repeat / repeat+shufflt\n",
    "As with Dataset.batch the order relative to Dataset.repeat matters.\n",
    "\n",
    "Dataset.shuffle doesn't signal the end of an epoch until the shuffle buffer is empty. So a shuffle placed before a repeat will show every element of one epoch before moving to the next.\n",
    "\n",
    "But a repeat before a shuffle mixes the epoch boundaries together.\n",
    "\n"
   ]
  },
  {
   "cell_type": "code",
   "execution_count": 41,
   "id": "a634bedd",
   "metadata": {},
   "outputs": [
    {
     "data": {
      "text/plain": [
       "<matplotlib.legend.Legend at 0x17e615a13d0>"
      ]
     },
     "execution_count": 41,
     "metadata": {},
     "output_type": "execute_result"
    },
    {
     "data": {
      "image/png": "[encoded data removed]",
      "text/plain": [
       "<Figure size 432x288 with 1 Axes>"
      ]
     },
     "metadata": {
      "needs_background": "light"
     },
     "output_type": "display_data"
    }
   ],
   "source": [
    "# You can find that a repeat before a shuffle mixes the epoch boundaries in this graph.\n",
    "shuffle_repeat_ds = raw_dataset.shuffle(32).repeat(3).batch(16)\n",
    "repeat_shuffle_ds = raw_dataset.repeat(3).shuffle(32).batch(16)\n",
    "\n",
    "shuffle_repeat = [batch[1].numpy().mean() for batch in shuffle_repeat_ds]\n",
    "repeat_shuffle = [batch[1].numpy().mean() for batch in repeat_shuffle_ds]\n",
    "\n",
    "plt.plot(shuffle_repeat, label=\"shuffle().repeat()\")\n",
    "plt.plot(repeat_shuffle, label=\"repeat().shuffle()\")\n",
    "plt.xlabel('Batch number')\n",
    "plt.ylabel(\"Mean of b in each batch\")\n",
    "plt.legend()\n"
   ]
  },
  {
   "cell_type": "markdown",
   "id": "bb770237",
   "metadata": {},
   "source": [
    "Now, let's start designing our cnn model!\n",
    "\n",
    "## CNN Model for CIFAR 10\n",
    "### Loading Data Manually\n",
    "To know how it works under the hood, let's load CIFAR-10 by our own (not using tf.keras). According the descripion, the dataset file is divided into five training batches and one test batch, each with 10000 images. The test batch contains exactly 1000 randomly-selected images from each class.\n",
    "\n"
   ]
  },
  {
   "cell_type": "code",
   "execution_count": 42,
   "id": "9b87d6a1",
   "metadata": {},
   "outputs": [],
   "source": [
    "import pickle\n",
    "\n",
    "# the url to download CIFAR-10 dataset (binary version)\n",
    "# see format and details here: http://www.cs.toronto.edu/~kriz/cifar.html\n",
    "DATA_URL = 'https://www.cs.toronto.edu/~kriz/cifar-10-python.tar.gz'\n",
    "# the image size we want to keep\n",
    "IMAGE_SIZE_CROPPED = 24\n",
    "IMAGE_HEIGHT = 32\n",
    "IMAGE_WIDTH = 32\n",
    "IMAGE_DEPTH = 3"
   ]
  },
  {
   "cell_type": "code",
   "execution_count": 43,
   "id": "b4be4761",
   "metadata": {},
   "outputs": [
    {
     "name": "stdout",
     "output_type": "stream",
     "text": [
      "Downloading data from https://www.cs.toronto.edu/~kriz/cifar-10-python.tar.gz\n",
      "170500096/170498071 [==============================] - 576s 3us/step\n"
     ]
    }
   ],
   "source": [
    "# donwnload data\n",
    "cifar10 = utils.get_file('cifar-10-python.tar.gz',\n",
    "                                  cache_subdir=os.path.abspath('.'),\n",
    "                                  origin = DATA_URL,\n",
    "                                  extract = True)\n",
    "DEST_DIRECTORY = os.path.join(os.path.dirname(cifar10),'cifar-10-batches-py')\n",
    "filenames_train = [os.path.join(DEST_DIRECTORY,'data_batch_%d' % i) for i in range(1,6)]\n",
    "filenames_test = [os.path.join(DEST_DIRECTORY,'test_batch')]"
   ]
  },
  {
   "cell_type": "code",
   "execution_count": 44,
   "id": "73828fe8",
   "metadata": {},
   "outputs": [],
   "source": [
    "# read data\n",
    "def unpickle(file):\n",
    "    with open(file, 'rb') as fo:\n",
    "        raw_data = pickle.load(fo, encoding='bytes')\n",
    "    return raw_data[b'data'],raw_data[b'labels']\n",
    "\n",
    "# parse training data\n",
    "def map_fun(image,label):\n",
    "    image = tf.reshape(image,[IMAGE_DEPTH,IMAGE_HEIGHT,IMAGE_WIDTH])\n",
    "    image = tf.divide(tf.cast(tf.transpose(image,[1,2,0]),tf.float32),255.0)\n",
    "    label = tf.one_hot(label,10)\n",
    "    distorted_image = tf.image.random_crop(image, [IMAGE_SIZE_CROPPED,IMAGE_SIZE_CROPPED,3])\n",
    "    distorted_image = tf.image.random_flip_left_right(distorted_image)\n",
    "    distorted_image = tf.image.random_brightness(distorted_image, max_delta=63)\n",
    "    distorted_image = tf.image.random_contrast(\n",
    "        distorted_image, lower=0.2, upper=1.8)\n",
    "    distorted_image = tf.image.per_image_standardization(distorted_image)\n",
    "    return distorted_image, label\n",
    "\n",
    "# parse testing data\n",
    "def map_fun_test(image,label):\n",
    "    image = tf.reshape(image,[IMAGE_DEPTH,IMAGE_HEIGHT,IMAGE_WIDTH])\n",
    "    image = tf.divide(tf.cast(tf.transpose(image,[1,2,0]),tf.float32),255.0)\n",
    "    label = tf.one_hot(label,10)\n",
    "    distorted_image = tf.image.resize_with_crop_or_pad(image, IMAGE_SIZE_CROPPED,IMAGE_SIZE_CROPPED)\n",
    "    distorted_image = tf.image.per_image_standardization(distorted_image)\n",
    "    return distorted_image, label\n"
   ]
  },
  {
   "cell_type": "code",
   "execution_count": 45,
   "id": "0343b85d",
   "metadata": {},
   "outputs": [],
   "source": [
    "X_train = None\n",
    "Y_train = None\n",
    "X_test = None\n",
    "Y_test = None\n",
    "\n",
    "for filename in filenames_train:\n",
    "    images,labels = unpickle(filename)\n",
    "    X_train = images if X_train is None else np.concatenate((X_train,images))\n",
    "    Y_train = labels if Y_train is None else np.concatenate((Y_train,labels))\n",
    "\n",
    "for filename in filenames_test:\n",
    "    images,labels = unpickle(filename)\n",
    "    X_test = images if X_test is None else np.concatenate((X_test,images))\n",
    "    Y_test = labels if Y_test is None else np.concatenate((Y_test,labels))\n",
    "\n",
    "# Construct training Dataset\n",
    "dataset = tf.data.Dataset.from_tensor_slices((X_train,Y_train))\n",
    "dataset = dataset.map(map_fun)\n",
    "dataset = dataset.shuffle(10000)\n",
    "dataset = dataset.batch(64)\n",
    "\n",
    "# # Construct testing Dataset\n",
    "dataset_test = tf.data.Dataset.from_tensor_slices((X_test,Y_test))\n",
    "dataset_test = dataset_test.map(map_fun_test)\n",
    "dataset_test = dataset_test.batch(64)\n"
   ]
  },
  {
   "cell_type": "code",
   "execution_count": 46,
   "id": "1554c92c",
   "metadata": {},
   "outputs": [],
   "source": [
    "model_cifar = models.Sequential()\n",
    "\n",
    "model_cifar.add(layers.Conv2D(64, (5, 5), padding='same', activation='relu', input_shape=(24, 24, 3)))\n",
    "model_cifar.add(layers.MaxPool2D(pool_size=3,strides=2,padding='same'))\n",
    "model_cifar.add(layers.BatchNormalization())\n",
    "                \n",
    "model_cifar.add(layers.Conv2D(64, (5, 5), padding='same', activation='relu'))\n",
    "model_cifar.add(layers.MaxPool2D(pool_size=3,strides=2,padding='same'))\n",
    "model_cifar.add(layers.BatchNormalization())\n",
    "                \n",
    "model_cifar.add(layers.Flatten())\n",
    "model_cifar.add(layers.Dense(384, activation='relu'))\n",
    "model_cifar.add(layers.Dropout(0.5))\n",
    "model_cifar.add(layers.Dense(192, activation='relu'))\n",
    "model_cifar.add(layers.Dropout(0.5))\n",
    "model_cifar.add(layers.Dense(10, activation='softmax'))\n"
   ]
  },
  {
   "cell_type": "code",
   "execution_count": 47,
   "id": "2618b742",
   "metadata": {},
   "outputs": [
    {
     "data": {
      "text/plain": [
       "<tensorflow.python.keras.callbacks.History at 0x17e641d5130>"
      ]
     },
     "execution_count": 47,
     "metadata": {},
     "output_type": "execute_result"
    }
   ],
   "source": [
    "model_cifar.compile(optimizer='adam',\n",
    "              loss='categorical_crossentropy',\n",
    "              metrics=['accuracy'])\n",
    "\n",
    "model_cifar.fit(dataset, epochs=200, validation_data=dataset_test, verbose=0)\n"
   ]
  },
  {
   "cell_type": "markdown",
   "id": "8d640118",
   "metadata": {},
   "source": [
    "We have done our training! Let's see whether our model is great or not."
   ]
  },
  {
   "cell_type": "code",
   "execution_count": 48,
   "id": "39e551dc",
   "metadata": {},
   "outputs": [
    {
     "name": "stdout",
     "output_type": "stream",
     "text": [
      "test accuracy: 0.8522999882698059\n"
     ]
    }
   ],
   "source": [
    "_, test_acc = model_cifar.evaluate(dataset_test, verbose=0)\n",
    "print('test accuracy:',test_acc)\n"
   ]
  },
  {
   "cell_type": "markdown",
   "id": "f8874318",
   "metadata": {},
   "source": [
    "## Using TFRecords\n",
    "To read data efficiently it can be helpful to serialize your data and store it in a set of files (100-200MB each) that can each be read linearly. This is especially true if the data is being streamed over a network. This can also be useful for caching any data-preprocessing.\n",
    "\n",
    "The TFRecord format is a simple format for storing a sequence of binary records.\n",
    "\n",
    "Protocol buffers are a cross-platform, cross-language library for efficient serialization of structured data.\n",
    "\n",
    "Protocol messages are defined by .proto files, these are often the easiest way to understand a message type.\n",
    "\n",
    "The tf.Example message (or protobuf) is a flexible message type that represents a {\"string\": value} mapping. It is designed for use with TensorFlow and is used throughout the higher-level APIs such as TFX.\n",
    "\n",
    "Here we will demonstrate how to create, parse, and use the tf.Example message, and then serialize, write, and read tf.Example messages to and from .tfrecord files.\n",
    "\n",
    "### tf.Example\n",
    "#### Data types for tf.Example:\n",
    "\n",
    "Fundamentally, a tf.Example is a {\"string\": tf.train.Feature} mapping.\n",
    "\n",
    "The tf.train.Feature message type can accept one of the following three types (See the .proto file for reference). Most other generic types can be coerced into one of these:\n",
    "\n",
    "1. tf.train.BytesList (the following types can be coerced)\n",
    "    * string\n",
    "    * byte\n",
    "2. tf.train.FloatList (the following types can be coerced)\n",
    "    * float (float32)\n",
    "    * double (float64)\n",
    "3. tf.train.Int64List (the following types can be coerced)\n",
    "    * bool\n",
    "    * enum\n",
    "    * int32\n",
    "    * uint32\n",
    "    * int64\n",
    "    * uint64\n",
    "    \n",
    "In order to convert a standard TensorFlow type to a tf.Example-compatible tf.train.Feature, you can use the shortcut functions below. Note that each function takes a scalar input value and returns a tf.train.Feature containing one of the three list types above:\n",
    "\n"
   ]
  },
  {
   "cell_type": "code",
   "execution_count": 49,
   "id": "cd65b961",
   "metadata": {},
   "outputs": [],
   "source": [
    "# The following functions can be used to convert a value to a type compatible with tf.Example.\n",
    "\n",
    "def _bytes_feature(value):\n",
    "    \"\"\"Returns a bytes_list from a string / byte.\"\"\"\n",
    "    if isinstance(value, type(tf.constant(0))):\n",
    "        value = value.numpy() # BytesList won't unpack a string from an EagerTensor.\n",
    "    return tf.train.Feature(bytes_list=tf.train.BytesList(value=[value]))\n",
    "\n",
    "def _float_feature(value):\n",
    "    \"\"\"Returns a float_list from a float / double.\"\"\"\n",
    "    return tf.train.Feature(float_list=tf.train.FloatList(value=[value]))\n",
    "\n",
    "def _int64_feature(value):\n",
    "    \"\"\"Returns an int64_list from a bool / enum / int / uint.\"\"\"\n",
    "    return tf.train.Feature(int64_list=tf.train.Int64List(value=[value]))\n"
   ]
  },
  {
   "cell_type": "markdown",
   "id": "83ec0dd3",
   "metadata": {},
   "source": [
    "### Creating a tf.Example message\n",
    "Suppose you want to create a tf.Example message from existing data. In practice, the dataset may come from anywhere, but the procedure of creating the tf.Example message from a single observation will be the same:\n",
    "\n",
    "1. Within each observation, each value needs to be converted to a tf.train.Feature containing one of the 3 compatible types, using one of the functions above.\n",
    "\n",
    "2. You create a map (dictionary) from the feature name string to the encoded feature value produced in #1.\n",
    "\n",
    "3. The map produced in step 2 is converted to a Features message.\n",
    "\n",
    "In this notebook, you will create a dataset using NumPy.\n",
    "\n",
    "This dataset will have 4 features:\n",
    "\n",
    "* a boolean feature, False or True with equal probability\n",
    "* an integer feature uniformly randomly chosen from [0, 5]\n",
    "* a string feature generated from a string table by using the integer feature as an index\n",
    "* a float feature from a standard normal distribution\n",
    "Consider a sample consisting of 10,000 independently and identically distributed observations from each of the above distributions:"
   ]
  },
  {
   "cell_type": "code",
   "execution_count": 50,
   "id": "0cfa456b",
   "metadata": {},
   "outputs": [],
   "source": [
    "# The number of samples in the dataset.\n",
    "n_samples_ = int(1e4)\n",
    "\n",
    "# Boolean feature, encoded as False or True.\n",
    "feature0 = np.random.choice([False, True], n_samples_)\n",
    "\n",
    "# Integer feature, random from 0 to 4.\n",
    "feature1 = np.random.randint(0, 5, n_samples_)\n",
    "\n",
    "# String feature\n",
    "strings = np.array([b'cat', b'dog', b'chicken', b'horse', b'goat'])\n",
    "feature2 = strings[feature1]\n",
    "\n",
    "# Float feature, from a standard normal distribution\n",
    "feature3 = np.random.randn(n_samples_)\n"
   ]
  },
  {
   "cell_type": "markdown",
   "id": "57425fbf",
   "metadata": {},
   "source": [
    "Each of these features can be coerced into a tf.Example-compatible type using one of **_bytes_feature, _float_feature, _int64_feature**. You can then create a tf.Example message from these encoded features:"
   ]
  },
  {
   "cell_type": "code",
   "execution_count": 51,
   "id": "9734a35e",
   "metadata": {},
   "outputs": [],
   "source": [
    "def serialize_example(feature0, feature1, feature2, feature3):\n",
    "    \"\"\"\n",
    "    Creates a tf.Example message ready to be written to a file.\n",
    "    \"\"\"\n",
    "    # Create a dictionary mapping the feature name to the tf.Example-compatible data type.\n",
    "    feature = {\n",
    "        'feature0': _int64_feature(feature0),\n",
    "        'feature1': _int64_feature(feature1),\n",
    "        'feature2': _bytes_feature(feature2),\n",
    "        'feature3': _float_feature(feature3),\n",
    "    }\n",
    "\n",
    "    # Create a Features message using tf.train.Example.\n",
    "    example_proto = tf.train.Example(features=tf.train.Features(feature=feature))\n",
    "    \n",
    "    return example_proto.SerializeToString()\n"
   ]
  },
  {
   "cell_type": "markdown",
   "id": "a800a397",
   "metadata": {},
   "source": [
    "### TFRecord files using tf.data\n",
    "The tf.data module also provides tools for reading and writing data in TensorFlow.\n",
    "\n",
    "#### Writing a TFRecord file\n",
    "The easiest way to get the data into a dataset is to use the **from_tensor_slices** method.\n",
    "\n",
    "Applies to a tuple of arrays, it returns a dataset of tuples:\n",
    "\n"
   ]
  },
  {
   "cell_type": "code",
   "execution_count": 52,
   "id": "e678ba80",
   "metadata": {},
   "outputs": [
    {
     "data": {
      "text/plain": [
       "<TensorSliceDataset shapes: ((), (), (), ()), types: (tf.bool, tf.int32, tf.string, tf.float64)>"
      ]
     },
     "execution_count": 52,
     "metadata": {},
     "output_type": "execute_result"
    }
   ],
   "source": [
    "features_dataset = tf.data.Dataset.from_tensor_slices((feature0, feature1, feature2, feature3))\n",
    "features_dataset\n"
   ]
  },
  {
   "cell_type": "markdown",
   "id": "ed88a8d3",
   "metadata": {},
   "source": [
    "Use the **tf.data.Dataset.map** method to apply a function to each element of a Dataset.\n",
    "\n",
    "The mapped function must operate in TensorFlow graph mode—it must operate on and return tf.Tensors. A non-tensor function, like serialize_example, can be wrapped with **tf.py_function** to make it compatible.\n",
    "\n",
    "Using tf.py_function requires to specify the shape and type information that is otherwise unavailable:\n",
    "\n"
   ]
  },
  {
   "cell_type": "code",
   "execution_count": 53,
   "id": "71786cbf",
   "metadata": {},
   "outputs": [],
   "source": [
    "def tf_serialize_example(f0,f1,f2,f3):\n",
    "    tf_string = tf.py_function(\n",
    "        serialize_example,\n",
    "        (f0,f1,f2,f3),  # pass these args to the above function.\n",
    "        tf.string)      # the return type is `tf.string`.\n",
    "    return tf.reshape(tf_string, ()) # The result is a scalar\n"
   ]
  },
  {
   "cell_type": "markdown",
   "id": "8e53848e",
   "metadata": {},
   "source": [
    "Apply this function to each element in the dataset:"
   ]
  },
  {
   "cell_type": "code",
   "execution_count": 54,
   "id": "bdfcc4a4",
   "metadata": {},
   "outputs": [
    {
     "data": {
      "text/plain": [
       "<MapDataset shapes: (), types: tf.string>"
      ]
     },
     "execution_count": 54,
     "metadata": {},
     "output_type": "execute_result"
    }
   ],
   "source": [
    "serialized_features_dataset = features_dataset.map(tf_serialize_example)\n",
    "serialized_features_dataset\n"
   ]
  },
  {
   "cell_type": "markdown",
   "id": "655f8d3d",
   "metadata": {},
   "source": [
    "And write them to a TFRecord file:"
   ]
  },
  {
   "cell_type": "code",
   "execution_count": 55,
   "id": "8090af8c",
   "metadata": {},
   "outputs": [],
   "source": [
    "filename = 'test.tfrecord'\n",
    "writer = tf.data.experimental.TFRecordWriter(filename)\n",
    "writer.write(serialized_features_dataset)\n"
   ]
  },
  {
   "cell_type": "markdown",
   "id": "e37c3caf",
   "metadata": {},
   "source": [
    "#### Reading a TFRecord file\n",
    "You can also read the TFRecord file using the **tf.data.TFRecordDataset** class.\n",
    "\n",
    "More information on consuming TFRecord files using tf.data can be found [here](https://www.tensorflow.org/guide/data#consuming_tfrecord_data).\n",
    "\n",
    "Using TFRecordDataset can be useful for standardizing input data and optimizing performance.\n",
    "\n"
   ]
  },
  {
   "cell_type": "code",
   "execution_count": 56,
   "id": "65af4a65",
   "metadata": {},
   "outputs": [
    {
     "data": {
      "text/plain": [
       "<TFRecordDatasetV2 shapes: (), types: tf.string>"
      ]
     },
     "execution_count": 56,
     "metadata": {},
     "output_type": "execute_result"
    }
   ],
   "source": [
    "filenames = [filename]\n",
    "raw_dataset = tf.data.TFRecordDataset(filenames)\n",
    "raw_dataset"
   ]
  },
  {
   "cell_type": "markdown",
   "id": "e9f62cf4",
   "metadata": {},
   "source": [
    "At this point the dataset contains serialized **tf.train.Example** messages. When iterated over it returns these as scalar string tensors.\n",
    "\n",
    "Use the **.take** method to only show the first 3 records.\n",
    "\n",
    "* Note: iterating over a tf.data.Dataset only works with eager execution enabled.\n"
   ]
  },
  {
   "cell_type": "code",
   "execution_count": 57,
   "id": "48d06d22",
   "metadata": {},
   "outputs": [
    {
     "name": "stdout",
     "output_type": "stream",
     "text": [
      "<tf.Tensor: shape=(), dtype=string, numpy=b'\\nU\\n\\x11\\n\\x08feature1\\x12\\x05\\x1a\\x03\\n\\x01\\x02\\n\\x17\\n\\x08feature2\\x12\\x0b\\n\\t\\n\\x07chicken\\n\\x14\\n\\x08feature3\\x12\\x08\\x12\\x06\\n\\x04\\xec;p\\xbd\\n\\x11\\n\\x08feature0\\x12\\x05\\x1a\\x03\\n\\x01\\x01'>\n",
      "<tf.Tensor: shape=(), dtype=string, numpy=b'\\nU\\n\\x14\\n\\x08feature3\\x12\\x08\\x12\\x06\\n\\x04\\xd0.2\\xbf\\n\\x17\\n\\x08feature2\\x12\\x0b\\n\\t\\n\\x07chicken\\n\\x11\\n\\x08feature0\\x12\\x05\\x1a\\x03\\n\\x01\\x01\\n\\x11\\n\\x08feature1\\x12\\x05\\x1a\\x03\\n\\x01\\x02'>\n",
      "<tf.Tensor: shape=(), dtype=string, numpy=b'\\nQ\\n\\x14\\n\\x08feature3\\x12\\x08\\x12\\x06\\n\\x04\\xc0\\xaf\\x0c?\\n\\x11\\n\\x08feature0\\x12\\x05\\x1a\\x03\\n\\x01\\x00\\n\\x11\\n\\x08feature1\\x12\\x05\\x1a\\x03\\n\\x01\\x01\\n\\x13\\n\\x08feature2\\x12\\x07\\n\\x05\\n\\x03dog'>\n"
     ]
    }
   ],
   "source": [
    "for raw_record in raw_dataset.take(3):\n",
    "    print(repr(raw_record))"
   ]
  },
  {
   "cell_type": "markdown",
   "id": "7d819d80",
   "metadata": {},
   "source": [
    "These tensors can be parsed using the function below. Note that the **feature_description** is necessary here because datasets use graph-execution, and need this description to build their shape and type signature:"
   ]
  },
  {
   "cell_type": "code",
   "execution_count": 58,
   "id": "a818c7ac",
   "metadata": {},
   "outputs": [],
   "source": [
    "# Create a description of the features.\n",
    "feature_description = {\n",
    "    'feature0': tf.io.FixedLenFeature([], tf.int64, default_value=0),\n",
    "    'feature1': tf.io.FixedLenFeature([], tf.int64, default_value=0),\n",
    "    'feature2': tf.io.FixedLenFeature([], tf.string, default_value=''),\n",
    "    'feature3': tf.io.FixedLenFeature([], tf.float32, default_value=0.0),\n",
    "}\n",
    "\n",
    "def _parse_function(example_proto):\n",
    "  # Parse the input `tf.Example` proto using the dictionary above.\n",
    "  return tf.io.parse_single_example(example_proto, feature_description)\n"
   ]
  },
  {
   "cell_type": "markdown",
   "id": "c1c66120",
   "metadata": {},
   "source": [
    "Alternatively, use **tf.parse example** to parse the whole batch at once. Apply this function to each item in the dataset using the tf.data.Dataset.map method:"
   ]
  },
  {
   "cell_type": "code",
   "execution_count": 59,
   "id": "ced059fa",
   "metadata": {},
   "outputs": [
    {
     "data": {
      "text/plain": [
       "<MapDataset shapes: {feature0: (), feature1: (), feature2: (), feature3: ()}, types: {feature0: tf.int64, feature1: tf.int64, feature2: tf.string, feature3: tf.float32}>"
      ]
     },
     "execution_count": 59,
     "metadata": {},
     "output_type": "execute_result"
    }
   ],
   "source": [
    "parsed_dataset = raw_dataset.map(_parse_function)\n",
    "parsed_dataset"
   ]
  },
  {
   "cell_type": "markdown",
   "id": "2a0273cd",
   "metadata": {},
   "source": [
    "Use eager execution to display the observations in the dataset. There are 10,000 observations in this dataset, but you will only display the first 3. The data is displayed as a dictionary of features. Each item is a **tf.Tensor**, and the **numpy** element of this tensor displays the value of the feature:"
   ]
  },
  {
   "cell_type": "code",
   "execution_count": 60,
   "id": "c947f7b8",
   "metadata": {},
   "outputs": [
    {
     "name": "stdout",
     "output_type": "stream",
     "text": [
      "{'feature0': <tf.Tensor: shape=(), dtype=int64, numpy=1>, 'feature1': <tf.Tensor: shape=(), dtype=int64, numpy=2>, 'feature2': <tf.Tensor: shape=(), dtype=string, numpy=b'chicken'>, 'feature3': <tf.Tensor: shape=(), dtype=float32, numpy=-0.058650896>}\n",
      "{'feature0': <tf.Tensor: shape=(), dtype=int64, numpy=1>, 'feature1': <tf.Tensor: shape=(), dtype=int64, numpy=2>, 'feature2': <tf.Tensor: shape=(), dtype=string, numpy=b'chicken'>, 'feature3': <tf.Tensor: shape=(), dtype=float32, numpy=-0.6960268>}\n",
      "{'feature0': <tf.Tensor: shape=(), dtype=int64, numpy=0>, 'feature1': <tf.Tensor: shape=(), dtype=int64, numpy=1>, 'feature2': <tf.Tensor: shape=(), dtype=string, numpy=b'dog'>, 'feature3': <tf.Tensor: shape=(), dtype=float32, numpy=0.54955673>}\n"
     ]
    }
   ],
   "source": [
    "for parsed_record in parsed_dataset.take(3):\n",
    "    print(repr(parsed_record))"
   ]
  },
  {
   "cell_type": "markdown",
   "id": "b388057c",
   "metadata": {},
   "source": [
    "Here, the tf.parse_example function unpacks the tf.Example fields into standard tensors."
   ]
  },
  {
   "cell_type": "markdown",
   "id": "b8a76976",
   "metadata": {},
   "source": [
    "### TFRecord files in Python\n",
    "The **tf.io** module also contains pure-Python functions for reading and writing TFRecord files.\n",
    "\n",
    "### Writing a TFRecord file\n",
    "Next, write the 10,000 observations to the file **test.tfrecord**. Each observation is converted to a **tf.Example** message, then written to file. You can then verify that the file **test.tfrecord** has been created:"
   ]
  },
  {
   "cell_type": "code",
   "execution_count": 61,
   "id": "0aaac07b",
   "metadata": {},
   "outputs": [
    {
     "name": "stderr",
     "output_type": "stream",
     "text": [
      "C:\\Users\\ginag\\AppData\\Local\\Temp/ipykernel_6480/2117107812.py:15: DeprecationWarning: In future, it will be an error for 'np.bool_' scalars to be interpreted as an index\n",
      "  return tf.train.Feature(int64_list=tf.train.Int64List(value=[value]))\n"
     ]
    }
   ],
   "source": [
    "# Write the `tf.Example` observations to the file.\n",
    "with tf.io.TFRecordWriter(filename) as writer:\n",
    "    for i in range(n_samples_):\n",
    "        example = serialize_example(feature0[i], feature1[i], feature2[i], feature3[i])\n",
    "        writer.write(example)\n"
   ]
  },
  {
   "cell_type": "markdown",
   "id": "855408a1",
   "metadata": {},
   "source": [
    "### Reading a TFRecord file\n",
    "These serialized tensors can be easily parsed using tf.train.Example.ParseFromString:"
   ]
  },
  {
   "cell_type": "code",
   "execution_count": 62,
   "id": "c38dae93",
   "metadata": {},
   "outputs": [
    {
     "data": {
      "text/plain": [
       "<TFRecordDatasetV2 shapes: (), types: tf.string>"
      ]
     },
     "execution_count": 62,
     "metadata": {},
     "output_type": "execute_result"
    }
   ],
   "source": [
    "filenames = [filename]\n",
    "raw_dataset = tf.data.TFRecordDataset(filenames)\n",
    "raw_dataset"
   ]
  },
  {
   "cell_type": "code",
   "execution_count": 63,
   "id": "23407c35",
   "metadata": {},
   "outputs": [
    {
     "name": "stdout",
     "output_type": "stream",
     "text": [
      "features {\n",
      "  feature {\n",
      "    key: \"feature0\"\n",
      "    value {\n",
      "      int64_list {\n",
      "        value: 1\n",
      "      }\n",
      "    }\n",
      "  }\n",
      "  feature {\n",
      "    key: \"feature1\"\n",
      "    value {\n",
      "      int64_list {\n",
      "        value: 2\n",
      "      }\n",
      "    }\n",
      "  }\n",
      "  feature {\n",
      "    key: \"feature2\"\n",
      "    value {\n",
      "      bytes_list {\n",
      "        value: \"chicken\"\n",
      "      }\n",
      "    }\n",
      "  }\n",
      "  feature {\n",
      "    key: \"feature3\"\n",
      "    value {\n",
      "      float_list {\n",
      "        value: -0.058650895953178406\n",
      "      }\n",
      "    }\n",
      "  }\n",
      "}\n",
      "\n"
     ]
    }
   ],
   "source": [
    "for raw_record in raw_dataset.take(1):\n",
    "    example = tf.train.Example()\n",
    "    example.ParseFromString(raw_record.numpy())\n",
    "    print(example)"
   ]
  },
  {
   "cell_type": "code",
   "execution_count": null,
   "id": "6d84ea77",
   "metadata": {},
   "outputs": [],
   "source": []
  }
 ],
 "metadata": {
  "kernelspec": {
   "display_name": "tensorflow-gpu",
   "language": "python",
   "name": "myenv"
  },
  "language_info": {
   "codemirror_mode": {
    "name": "ipython",
    "version": 3
   },
   "file_extension": ".py",
   "mimetype": "text/x-python",
   "name": "python",
   "nbconvert_exporter": "python",
   "pygments_lexer": "ipython3",
   "version": "3.8.12"
  }
 },
 "nbformat": 4,
 "nbformat_minor": 5
}
